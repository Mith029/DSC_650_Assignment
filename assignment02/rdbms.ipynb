{
 "cells": [
  {
   "cell_type": "code",
   "execution_count": 2,
   "metadata": {},
   "outputs": [],
   "source": [
    "# importing Libraries\n",
    "from pathlib import Path\n",
    "import os\n",
    "import sqlite3\n",
    "import s3fs\n",
    "import pandas as pd\n",
    "\n",
    "current_dir = Path(os.getcwd()).absolute()\n",
    "results_dir = current_dir.joinpath('results')\n",
    "kv_data_dir = results_dir.joinpath('kvdb')\n",
    "kv_data_dir.mkdir(parents=True, exist_ok=True)\n",
    "\n",
    "\n",
    "# def read_cluster_csv(file_path, endpoint_url='https://storage.budsc.midwest-datascience.com'):\n",
    "#     s3 = s3fs.S3FileSystem(\n",
    "#         anon=True,\n",
    "#         client_kwargs={\n",
    "#             'endpoint_url': endpoint_url\n",
    "#         }\n",
    "#     )\n",
    "#     return pd.read_csv(s3.open(file_path, mode='rb'))\n",
    "\n",
    "# Function to import csv files\n",
    "def read_cluster_csv(file_path, endpoint_path='/Users/mithilpatel/dsc650/'):\n",
    "    return pd.read_csv(endpoint_path+file_path)"
   ]
  },
  {
   "cell_type": "markdown",
   "metadata": {},
   "source": [
    "## Create and Load Measurements Table"
   ]
  },
  {
   "cell_type": "code",
   "execution_count": 3,
   "metadata": {},
   "outputs": [],
   "source": [
    "# Creating a table\n",
    "def create_measurements_table(conn):\n",
    "    sql = \"\"\"\n",
    "    CREATE TABLE IF NOT EXISTS measurements (\n",
    "        visit_id integer NOT NULL,\n",
    "        person_id text NOT NULL,\n",
    "        quantity text,\n",
    "        reading real,\n",
    "        FOREIGN KEY (visit_id) REFERENCES visits (visit_id),\n",
    "        FOREIGN KEY (person_id) REFERENCES people (people_id)\n",
    "        );\n",
    "    \"\"\"\n",
    "\n",
    "    c = conn.cursor()\n",
    "    c.execute(sql)\n",
    "    \n",
    "# Loading table to the database   \n",
    "def load_measurements_table(conn):\n",
    "    create_measurements_table(conn)\n",
    "    df = read_cluster_csv('data/external/tidynomicon/measurements.csv')\n",
    "    measurements = df.values\n",
    "    c = conn.cursor()\n",
    "    c.execute('DELETE FROM measurements;') # Delete data if exists\n",
    "    c.executemany('INSERT INTO measurements VALUES (?,?,?,?)', measurements)"
   ]
  },
  {
   "cell_type": "markdown",
   "metadata": {},
   "source": [
    "## Create and Load People Table"
   ]
  },
  {
   "cell_type": "code",
   "execution_count": 4,
   "metadata": {},
   "outputs": [],
   "source": [
    "def create_people_table(conn):\n",
    "    sql = \"\"\"\n",
    "    CREATE TABLE IF NOT EXISTS people (\n",
    "        person_id text NOT NULL,\n",
    "        personal_name text NOT NULL,\n",
    "        family_name text\n",
    "        );\n",
    "    \"\"\"\n",
    "    c = conn.cursor()\n",
    "    c.execute(sql)\n",
    "    \n",
    "def load_people_table(conn):\n",
    "    create_people_table(conn)\n",
    "    df = read_cluster_csv('data/external/tidynomicon/person.csv')\n",
    "    people = df.values\n",
    "    c = conn.cursor()\n",
    "    c.execute('DELETE FROM people;') # Delete data if exists\n",
    "    c.executemany('INSERT INTO people VALUES (?,?,?)', people)"
   ]
  },
  {
   "cell_type": "markdown",
   "metadata": {},
   "source": [
    "## Create and Load Sites Table"
   ]
  },
  {
   "cell_type": "code",
   "execution_count": 5,
   "metadata": {},
   "outputs": [],
   "source": [
    "def create_sites_table(conn):\n",
    "    sql = \"\"\"\n",
    "    CREATE TABLE IF NOT EXISTS sites (\n",
    "        site_id text PRIMARY KEY,\n",
    "        latitude double NOT NULL,\n",
    "        longitude double NOT NULL\n",
    "        );\n",
    "    \"\"\"\n",
    "\n",
    "    c = conn.cursor()\n",
    "    c.execute(sql)\n",
    "\n",
    "def load_sites_table(conn):\n",
    "    create_sites_table(conn)\n",
    "    df = read_cluster_csv('data/external/tidynomicon/site.csv')\n",
    "    site = df.values\n",
    "    c = conn.cursor()\n",
    "    c.execute('DELETE FROM sites;') # Delete data if exists\n",
    "    c.executemany('INSERT INTO sites VALUES (?,?,?)', site)"
   ]
  },
  {
   "cell_type": "markdown",
   "metadata": {},
   "source": [
    "## Create and Load Visits Table"
   ]
  },
  {
   "cell_type": "code",
   "execution_count": 6,
   "metadata": {},
   "outputs": [],
   "source": [
    "def create_visits_table(conn):\n",
    "    sql = \"\"\"\n",
    "    CREATE TABLE IF NOT EXISTS visits (\n",
    "        visit_id integer PRIMARY KEY,\n",
    "        site_id text NOT NULL,\n",
    "        visit_date text,\n",
    "        FOREIGN KEY (site_id) REFERENCES sites (site_id)\n",
    "        );\n",
    "    \"\"\"\n",
    "\n",
    "    c = conn.cursor()\n",
    "    c.execute(sql)\n",
    "\n",
    "def load_visits_table(conn):\n",
    "    create_visits_table(conn)\n",
    "    df = read_cluster_csv('data/external/tidynomicon/visited.csv')\n",
    "    visit = df.values\n",
    "    c = conn.cursor()\n",
    "    c.execute('DELETE FROM visits;') # Delete data if exists\n",
    "    c.executemany('INSERT INTO visits VALUES (?,?,?)', visit)"
   ]
  },
  {
   "cell_type": "markdown",
   "metadata": {},
   "source": [
    "## Create DB and Load Tables"
   ]
  },
  {
   "cell_type": "code",
   "execution_count": 7,
   "metadata": {},
   "outputs": [],
   "source": [
    "# Creating a database file\n",
    "db_path = results_dir.joinpath('patient-info.db')\n",
    "conn = sqlite3.connect(str(db_path))\n",
    "\n",
    "# calling functions to load data to the database\n",
    "load_people_table(conn) \n",
    "load_sites_table(conn)\n",
    "load_visits_table(conn)\n",
    "load_measurements_table(conn)\n",
    "\n",
    "# Closing  cursor and connections\n",
    "conn.commit()\n",
    "conn.close()"
   ]
  },
  {
   "cell_type": "code",
   "execution_count": 13,
   "metadata": {},
   "outputs": [
    {
     "name": "stdout",
     "output_type": "stream",
     "text": [
      "(619, 'dyer', 'rad', 9.82)\n",
      "(619, 'dyer', 'sal', 0.13)\n",
      "(622, 'dyer', 'rad', 7.8)\n",
      "(622, 'dyer', 'sal', 0.09)\n",
      "(734, 'pb', 'rad', 8.41)\n",
      "(734, 'lake', 'sal', 0.05)\n",
      "(734, 'pb', 'temp', -21.5)\n",
      "(735, 'pb', 'rad', 7.22)\n",
      "(735, 'pb', 'sal', 0.06)\n",
      "(735, 'pb', 'temp', -26.0)\n",
      "(751, 'pb', 'rad', 4.35)\n",
      "(751, 'pb', 'temp', -18.5)\n",
      "(752, 'lake', 'rad', 2.19)\n",
      "(752, 'lake', 'sal', 0.09)\n",
      "(752, 'lake', 'temp', -16.0)\n",
      "(752, 'roe', 'sal', 41.6)\n",
      "(837, 'lake', 'rad', 1.46)\n",
      "(837, 'lake', 'sal', 0.21)\n",
      "(837, 'roe', 'sal', 22.5)\n",
      "(844, 'roe', 'rad', 11.25)\n"
     ]
    }
   ],
   "source": [
    "# Setting current directory\n",
    "os.chdir('results/')\n",
    "\n",
    "# Connecting to the database\n",
    "conn = sqlite3.connect('patient-info.db')\n",
    "cursor = conn.cursor()\n",
    "\n",
    "# Writing SQL quary\n",
    "cursor.execute('SELECT * FROM measurements')\n",
    "result_set = cursor.fetchall()\n",
    "\n",
    "# Printing data from the database\n",
    "for row in result_set:\n",
    "    print(row)\n",
    "\n",
    "# close the cursor and connection\n",
    "cursor.close()\n",
    "conn.close()"
   ]
  },
  {
   "cell_type": "code",
   "execution_count": null,
   "metadata": {},
   "outputs": [],
   "source": []
  }
 ],
 "metadata": {
  "kernelspec": {
   "display_name": "Python 3 (ipykernel)",
   "language": "python",
   "name": "python3"
  },
  "language_info": {
   "codemirror_mode": {
    "name": "ipython",
    "version": 3
   },
   "file_extension": ".py",
   "mimetype": "text/x-python",
   "name": "python",
   "nbconvert_exporter": "python",
   "pygments_lexer": "ipython3",
   "version": "3.9.12"
  }
 },
 "nbformat": 4,
 "nbformat_minor": 4
}
