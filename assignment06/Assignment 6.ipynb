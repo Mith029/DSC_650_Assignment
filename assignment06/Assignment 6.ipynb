{
 "cells": [
  {
   "cell_type": "code",
   "execution_count": 1,
   "id": "b9d7e093-d9f1-4b47-94b4-0c83b934de87",
   "metadata": {},
   "outputs": [],
   "source": [
    "from pathlib import Path\n",
    "import os\n",
    "\n",
    "# Creating 'result' folder\n",
    "current_dir = Path(os.getcwd()).absolute()\n",
    "results_dir = current_dir.joinpath('results')\n",
    "results_dir.mkdir(parents=True, exist_ok=True)"
   ]
  },
  {
   "cell_type": "markdown",
   "id": "46a8660f-0d25-47c9-94e1-98437a7fc722",
   "metadata": {},
   "source": [
    "# Assignment 6.1"
   ]
  },
  {
   "cell_type": "code",
   "execution_count": 2,
   "id": "93243ded-7267-4445-9d42-7292c3e2f1ac",
   "metadata": {},
   "outputs": [
    {
     "name": "stdout",
     "output_type": "stream",
     "text": [
      "(60000, 28, 28)\n",
      "(10000, 28, 28)\n"
     ]
    }
   ],
   "source": [
    "# importing libraries\n",
    "from keras.datasets import mnist\n",
    "from keras.utils import to_categorical\n",
    "from keras import layers \n",
    "from keras import models\n",
    "import matplotlib.pyplot as plt\n",
    "\n",
    "\n",
    "# Importing MNIST dataset\n",
    "(train_images, train_labels), (test_images, test_labels) = mnist.load_data()\n",
    "print(train_images.shape)\n",
    "print(test_images.shape)"
   ]
  },
  {
   "cell_type": "code",
   "execution_count": 3,
   "id": "8ca10d94-dd4b-4535-8a42-383175466365",
   "metadata": {},
   "outputs": [],
   "source": [
    "# Reshaping dimensions to allow model to recognize the inputs\n",
    "train_images = train_images.reshape((60000, 28, 28, 1))\n",
    "train_images = train_images.astype('float32') / 255\n",
    "test_images = test_images.reshape((10000, 28, 28, 1))\n",
    "test_images = test_images.astype('float32') / 255\n",
    "\n",
    "# Converting to categorical variable\n",
    "train_labels = to_categorical(train_labels)\n",
    "test_labels = to_categorical(test_labels)"
   ]
  },
  {
   "cell_type": "code",
   "execution_count": 4,
   "id": "41891d95-c507-42f4-875a-dd7500f6ce79",
   "metadata": {},
   "outputs": [
    {
     "name": "stdout",
     "output_type": "stream",
     "text": [
      "Epoch 1/5\n",
      "782/782 [==============================] - 54s 67ms/step - loss: 0.2001 - accuracy: 0.9378 - val_loss: 0.1383 - val_accuracy: 0.9557\n",
      "Epoch 2/5\n",
      "782/782 [==============================] - 46s 59ms/step - loss: 0.0525 - accuracy: 0.9833 - val_loss: 0.0521 - val_accuracy: 0.9845\n",
      "Epoch 3/5\n",
      "782/782 [==============================] - 41s 52ms/step - loss: 0.0361 - accuracy: 0.9887 - val_loss: 0.0478 - val_accuracy: 0.9866\n",
      "Epoch 4/5\n",
      "782/782 [==============================] - 33s 43ms/step - loss: 0.0268 - accuracy: 0.9920 - val_loss: 0.0442 - val_accuracy: 0.9885\n",
      "Epoch 5/5\n",
      "782/782 [==============================] - 35s 45ms/step - loss: 0.0215 - accuracy: 0.9934 - val_loss: 0.0402 - val_accuracy: 0.9893\n"
     ]
    }
   ],
   "source": [
    "# Splitting training set into validation and training dataset\n",
    "train_images_val = train_images[:10000]\n",
    "partial_train_images = train_images[10000:]\n",
    "\n",
    "train_labels_val = train_labels[:10000]\n",
    "partial_train_labels = train_labels[10000:]\n",
    "\n",
    "# Constructing CNN model\n",
    "model = models.Sequential()\n",
    "model.add(layers.Conv2D(32, (3, 3), activation='relu', input_shape=(28, 28, 1))) \n",
    "model.add(layers.MaxPooling2D((2, 2)))\n",
    "model.add(layers.Conv2D(64, (3, 3), activation='relu')) \n",
    "model.add(layers.MaxPooling2D((2, 2)))\n",
    "model.add(layers.Conv2D(64, (3, 3), activation='relu'))\n",
    "\n",
    "# Applying flattening function\n",
    "model.add(layers.Flatten())\n",
    "model.add(layers.Dense(64, activation='relu'))\n",
    "model.add(layers.Dense(10, activation='softmax'))\n",
    "\n",
    "model.compile(optimizer='rmsprop', loss='categorical_crossentropy', metrics=['accuracy'])\n",
    "\n",
    "history = model.fit(partial_train_images, partial_train_labels, epochs=5, batch_size=64, validation_data=(train_images_val,train_labels_val))"
   ]
  },
  {
   "cell_type": "code",
   "execution_count": 5,
   "id": "6f0f1cb8-a8cf-4ce2-923c-a91b2245ba67",
   "metadata": {},
   "outputs": [
    {
     "name": "stdout",
     "output_type": "stream",
     "text": [
      "313/313 [==============================] - 2s 7ms/step - loss: 0.0339 - accuracy: 0.9906\n"
     ]
    },
    {
     "data": {
      "text/plain": [
       "0.9905999898910522"
      ]
     },
     "execution_count": 5,
     "metadata": {},
     "output_type": "execute_result"
    }
   ],
   "source": [
    "# Calculating accuracy rate\n",
    "test_loss, test_acc = model.evaluate(test_images,test_labels)\n",
    "test_acc"
   ]
  },
  {
   "cell_type": "code",
   "execution_count": 5,
   "id": "700b35a4-eb30-495a-9330-eea70bbd032f",
   "metadata": {},
   "outputs": [
    {
     "data": {
      "image/png": "[encoded data removed]",
      "text/plain": [
       "<Figure size 432x288 with 1 Axes>"
      ]
     },
     "metadata": {
      "needs_background": "light"
     },
     "output_type": "display_data"
    },
    {
     "data": {
      "image/png": "[encoded data removed]",
      "text/plain": [
       "<Figure size 432x288 with 1 Axes>"
      ]
     },
     "metadata": {
      "needs_background": "light"
     },
     "output_type": "display_data"
    }
   ],
   "source": [
    "history_dict = history.history\n",
    "\n",
    "acc = history.history['accuracy']\n",
    "val_acc = history.history['val_accuracy']\n",
    "loss = history.history['loss']\n",
    "val_loss = history.history['val_loss']\n",
    "epochs = range(1, len(acc) + 1)\n",
    "\n",
    "# Creating a validation plot\n",
    "plt.plot(epochs, acc, 'bo', label='Training acc')\n",
    "plt.plot(epochs, val_acc, 'b', label='Validation acc')\n",
    "plt.title('Training and validation accuracy')\n",
    "plt.legend()\n",
    "plt.savefig('results/6.1/6.1_accuracy_plot.png')\n",
    "\n",
    "# Creating a accuracy plot\n",
    "plt.figure()\n",
    "plt.plot(epochs, loss, 'bo', label='Training loss')\n",
    "plt.plot(epochs, val_loss, 'b', label='Validation loss')\n",
    "plt.title('Training and validation loss')\n",
    "plt.legend()\n",
    "plt.savefig('results/6.1/6.1_validation_plot.png')\n",
    "plt.show()"
   ]
  },
  {
   "cell_type": "code",
   "execution_count": 8,
   "id": "2eb49dd3-b69c-46ba-a4fa-90cc83aeedea",
   "metadata": {},
   "outputs": [
    {
     "name": "stdout",
     "output_type": "stream",
     "text": [
      "313/313 [==============================] - 2s 7ms/step\n"
     ]
    }
   ],
   "source": [
    "model.save('results/6.1/6.1_CNN_model.h5')\n",
    "\n",
    "# making predictions \n",
    "import numpy as np\n",
    "pred = model.predict(test_images) \n",
    "prediction = np.argmax(pred, axis=1) \n",
    "\n",
    "# Saving metrics and prediction\n",
    "np.savetxt('results/6.1/6.1_prediction.txt', prediction, fmt='%d') \n",
    "np.savetxt('results/6.1/6.1_metrics.txt', np.column_stack((loss, acc, val_loss, val_acc)), fmt='%f')"
   ]
  },
  {
   "cell_type": "code",
   "execution_count": null,
   "id": "3a269c27-0096-4371-af96-d84eedc68d34",
   "metadata": {},
   "outputs": [],
   "source": []
  },
  {
   "cell_type": "markdown",
   "id": "f29b5c23-6a77-4892-bc1c-4f3d936aba99",
   "metadata": {},
   "source": [
    "# Assignment 6.2a"
   ]
  },
  {
   "cell_type": "code",
   "execution_count": 2,
   "id": "ae621789-0c02-42e9-bf8b-fb777dc65efb",
   "metadata": {},
   "outputs": [
    {
     "name": "stdout",
     "output_type": "stream",
     "text": [
      "(50000, 32, 32, 3)\n",
      "(10000, 32, 32, 3)\n",
      "(50000, 1)\n"
     ]
    }
   ],
   "source": [
    "# Importing libraries\n",
    "from keras.datasets import cifar10\n",
    "from keras.utils import to_categorical\n",
    "from keras import layers, optimizers, losses \n",
    "from keras import models\n",
    "import matplotlib.pyplot as plt\n",
    "\n",
    "# Importing dataset\n",
    "(train_data, train_labels), (test_data, test_labels) = cifar10.load_data()\n",
    "\n",
    "print(train_data.shape)\n",
    "print(test_data.shape)\n",
    "print(train_labels.shape)"
   ]
  },
  {
   "cell_type": "code",
   "execution_count": 3,
   "id": "ca8b9dac-bfdd-4855-acfe-9b1a72de12d5",
   "metadata": {},
   "outputs": [
    {
     "data": {
      "text/plain": [
       "(50000, 10)"
      ]
     },
     "execution_count": 3,
     "metadata": {},
     "output_type": "execute_result"
    }
   ],
   "source": [
    "# Reshaping dimensions to allow model to recognize the inputs\n",
    "train_data = train_data.astype('float32') / 255\n",
    "test_data = test_data.astype('float32') / 255\n",
    "\n",
    "# Converting to categorical variables\n",
    "train_labels = to_categorical(train_labels, 10)\n",
    "test_labels = to_categorical(test_labels, 10)\n",
    "train_labels.shape"
   ]
  },
  {
   "cell_type": "code",
   "execution_count": 4,
   "id": "7d7aa9f4-0cae-431c-8167-baf17370555a",
   "metadata": {},
   "outputs": [],
   "source": [
    "# Applying layers to construct CNN model\n",
    "model = models.Sequential()\n",
    "model.add(layers.Conv2D(32, (3, 3), activation='relu', kernel_initializer='he_uniform', padding='same', input_shape=(32, 32, 3)))\n",
    "model.add(layers.BatchNormalization())\n",
    "model.add(layers.Conv2D(32, (3, 3), activation='relu', kernel_initializer='he_uniform', padding='same'))\n",
    "model.add(layers.BatchNormalization())\n",
    "model.add(layers.MaxPooling2D((2, 2)))\n",
    "model.add(layers.Conv2D(64, (3, 3), activation='relu', kernel_initializer='he_uniform', padding='same'))\n",
    "model.add(layers.BatchNormalization())\n",
    "model.add(layers.Conv2D(64, (3, 3), activation='relu', kernel_initializer='he_uniform', padding='same'))\n",
    "model.add(layers.BatchNormalization())\n",
    "model.add(layers.MaxPooling2D((2, 2)))\n",
    "model.add(layers.Conv2D(128, (3, 3), activation='relu', kernel_initializer='he_uniform', padding='same'))\n",
    "model.add(layers.BatchNormalization())\n",
    "model.add(layers.Conv2D(128, (3, 3), activation='relu', kernel_initializer='he_uniform', padding='same'))\n",
    "model.add(layers.MaxPooling2D((2, 2)))\n",
    "\n",
    "# Applying Flattening layer\n",
    "model.add(layers.Flatten())\n",
    "model.add(layers.Dense(512, activation='relu', kernel_initializer= 'he_uniform'))\n",
    "model.add(layers.Dense(10, activation='softmax'))\n",
    "\n",
    "model.compile(\n",
    "    optimizer= 'adam',\n",
    "    loss='categorical_crossentropy',\n",
    "    metrics=[\"acc\"]\n",
    ")                   "
   ]
  },
  {
   "cell_type": "code",
   "execution_count": 5,
   "id": "592532e4-d85c-417d-adaa-0c25ba89848b",
   "metadata": {},
   "outputs": [
    {
     "name": "stdout",
     "output_type": "stream",
     "text": [
      "data batch shape: (32, 32, 32, 3)\n",
      "labels batch shape: (32, 10)\n"
     ]
    }
   ],
   "source": [
    "from keras.preprocessing.image import ImageDataGenerator\n",
    "\n",
    "# Processing the images to accurately train the model\n",
    "train_datagen = ImageDataGenerator(rescale=1./255)\n",
    "test_datagen = ImageDataGenerator(rescale=1./255)\n",
    "\n",
    "train_datagen.fit(train_data)\n",
    "test_datagen.fit(test_data)\n",
    "\n",
    "train_generator = train_datagen.flow(train_data, train_labels, batch_size=32)\n",
    "valid_generator = test_datagen.flow(test_data, test_labels, batch_size=32)\n",
    "\n",
    "for data_batch, labels_batch in train_generator:\n",
    "    print('data batch shape:', data_batch.shape)\n",
    "    print('labels batch shape:', labels_batch.shape)\n",
    "    break"
   ]
  },
  {
   "cell_type": "code",
   "execution_count": 6,
   "id": "7a7e0bce-e4c4-4d86-9fd1-e0a92893072d",
   "metadata": {},
   "outputs": [
    {
     "name": "stdout",
     "output_type": "stream",
     "text": [
      "Epoch 1/64\n"
     ]
    },
    {
     "name": "stderr",
     "output_type": "stream",
     "text": [
      "2023-04-22 12:48:33.649263: I tensorflow/core/common_runtime/executor.cc:1197] [/device:CPU:0] (DEBUG INFO) Executor start aborting (this does not indicate an error and you can ignore this message): INVALID_ARGUMENT: You must feed a value for placeholder tensor 'Placeholder/_0' with dtype int32\n",
      "\t [[{{node Placeholder/_0}}]]\n"
     ]
    },
    {
     "name": "stdout",
     "output_type": "stream",
     "text": [
      "50/50 [==============================] - ETA: 0s - loss: 3.1948 - acc: 0.2237"
     ]
    },
    {
     "name": "stderr",
     "output_type": "stream",
     "text": [
      "2023-04-22 12:48:49.662743: I tensorflow/core/common_runtime/executor.cc:1197] [/device:CPU:0] (DEBUG INFO) Executor start aborting (this does not indicate an error and you can ignore this message): INVALID_ARGUMENT: You must feed a value for placeholder tensor 'Placeholder/_0' with dtype int32\n",
      "\t [[{{node Placeholder/_0}}]]\n"
     ]
    },
    {
     "name": "stdout",
     "output_type": "stream",
     "text": [
      "50/50 [==============================] - 32s 563ms/step - loss: 3.1948 - acc: 0.2237 - val_loss: 2.4281 - val_acc: 0.1000\n",
      "Epoch 2/64\n",
      "50/50 [==============================] - 29s 581ms/step - loss: 1.7935 - acc: 0.3556 - val_loss: 2.6412 - val_acc: 0.1000\n",
      "Epoch 3/64\n",
      "50/50 [==============================] - 29s 585ms/step - loss: 1.6762 - acc: 0.3869 - val_loss: 2.7983 - val_acc: 0.1000\n",
      "Epoch 4/64\n",
      "50/50 [==============================] - 27s 553ms/step - loss: 1.6272 - acc: 0.3787 - val_loss: 2.8732 - val_acc: 0.1000\n",
      "Epoch 5/64\n",
      "50/50 [==============================] - 29s 582ms/step - loss: 1.4944 - acc: 0.4688 - val_loss: 3.1179 - val_acc: 0.1000\n",
      "Epoch 6/64\n",
      "50/50 [==============================] - 27s 539ms/step - loss: 1.4923 - acc: 0.4475 - val_loss: 3.8167 - val_acc: 0.1000\n",
      "Epoch 7/64\n",
      "50/50 [==============================] - 25s 511ms/step - loss: 1.4531 - acc: 0.4712 - val_loss: 3.6677 - val_acc: 0.1001\n",
      "Epoch 8/64\n",
      "50/50 [==============================] - 24s 490ms/step - loss: 1.3760 - acc: 0.4925 - val_loss: 4.9415 - val_acc: 0.1000\n",
      "Epoch 9/64\n",
      "50/50 [==============================] - 25s 508ms/step - loss: 1.3532 - acc: 0.4944 - val_loss: 3.1476 - val_acc: 0.1361\n",
      "Epoch 10/64\n",
      "50/50 [==============================] - 25s 496ms/step - loss: 1.2892 - acc: 0.5306 - val_loss: 4.1738 - val_acc: 0.1077\n",
      "Epoch 11/64\n",
      "50/50 [==============================] - 25s 498ms/step - loss: 1.2959 - acc: 0.5231 - val_loss: 3.0960 - val_acc: 0.2481\n",
      "Epoch 12/64\n",
      "50/50 [==============================] - 24s 495ms/step - loss: 1.2517 - acc: 0.5437 - val_loss: 2.2995 - val_acc: 0.2894\n",
      "Epoch 13/64\n",
      "50/50 [==============================] - 25s 511ms/step - loss: 1.2186 - acc: 0.5587 - val_loss: 2.0471 - val_acc: 0.3064\n",
      "Epoch 14/64\n",
      "50/50 [==============================] - 24s 495ms/step - loss: 1.2500 - acc: 0.5587 - val_loss: 1.5795 - val_acc: 0.4543\n",
      "Epoch 15/64\n",
      "50/50 [==============================] - 26s 515ms/step - loss: 1.1521 - acc: 0.5913 - val_loss: 1.1980 - val_acc: 0.5668\n",
      "Epoch 16/64\n",
      "50/50 [==============================] - 25s 500ms/step - loss: 1.1624 - acc: 0.5806 - val_loss: 1.5678 - val_acc: 0.4668\n",
      "Epoch 17/64\n",
      "50/50 [==============================] - 25s 498ms/step - loss: 1.1585 - acc: 0.5875 - val_loss: 1.1618 - val_acc: 0.5784\n",
      "Epoch 18/64\n",
      "50/50 [==============================] - 25s 512ms/step - loss: 1.1064 - acc: 0.6169 - val_loss: 1.2972 - val_acc: 0.5254\n",
      "Epoch 19/64\n",
      "50/50 [==============================] - 25s 508ms/step - loss: 1.1206 - acc: 0.5981 - val_loss: 1.3215 - val_acc: 0.5310\n",
      "Epoch 20/64\n",
      "50/50 [==============================] - 25s 505ms/step - loss: 0.9716 - acc: 0.6631 - val_loss: 1.1426 - val_acc: 0.6031\n",
      "Epoch 21/64\n",
      "50/50 [==============================] - 25s 504ms/step - loss: 1.0505 - acc: 0.6237 - val_loss: 1.1811 - val_acc: 0.5809\n",
      "Epoch 22/64\n",
      "50/50 [==============================] - 26s 522ms/step - loss: 1.0193 - acc: 0.6237 - val_loss: 1.2475 - val_acc: 0.5740\n",
      "Epoch 23/64\n",
      "50/50 [==============================] - 25s 515ms/step - loss: 0.9573 - acc: 0.6531 - val_loss: 1.0292 - val_acc: 0.6404\n",
      "Epoch 24/64\n",
      "50/50 [==============================] - 25s 499ms/step - loss: 0.9959 - acc: 0.6525 - val_loss: 1.0984 - val_acc: 0.6184\n",
      "Epoch 25/64\n",
      "50/50 [==============================] - 26s 524ms/step - loss: 0.9583 - acc: 0.6569 - val_loss: 1.0675 - val_acc: 0.6172\n",
      "Epoch 26/64\n",
      "50/50 [==============================] - 25s 500ms/step - loss: 0.9991 - acc: 0.6556 - val_loss: 1.1462 - val_acc: 0.5985\n",
      "Epoch 27/64\n",
      "50/50 [==============================] - 25s 502ms/step - loss: 0.9100 - acc: 0.6787 - val_loss: 1.0405 - val_acc: 0.6349\n",
      "Epoch 28/64\n",
      "50/50 [==============================] - 26s 528ms/step - loss: 0.8881 - acc: 0.6963 - val_loss: 2.1631 - val_acc: 0.3792\n",
      "Epoch 29/64\n",
      "50/50 [==============================] - 26s 530ms/step - loss: 0.9306 - acc: 0.6869 - val_loss: 1.1741 - val_acc: 0.5924\n",
      "Epoch 30/64\n",
      "50/50 [==============================] - 24s 485ms/step - loss: 0.8566 - acc: 0.7081 - val_loss: 1.1133 - val_acc: 0.6124\n",
      "Epoch 31/64\n",
      "50/50 [==============================] - 25s 506ms/step - loss: 0.8780 - acc: 0.6938 - val_loss: 1.2554 - val_acc: 0.5709\n",
      "Epoch 32/64\n",
      "50/50 [==============================] - 25s 507ms/step - loss: 0.8914 - acc: 0.6787 - val_loss: 1.0276 - val_acc: 0.6385\n",
      "Epoch 33/64\n",
      "50/50 [==============================] - 24s 488ms/step - loss: 0.8457 - acc: 0.7119 - val_loss: 1.1281 - val_acc: 0.6256\n",
      "Epoch 34/64\n",
      "50/50 [==============================] - 25s 502ms/step - loss: 0.8546 - acc: 0.7056 - val_loss: 1.0397 - val_acc: 0.6422\n",
      "Epoch 35/64\n",
      "50/50 [==============================] - 24s 486ms/step - loss: 0.7902 - acc: 0.7237 - val_loss: 1.1302 - val_acc: 0.6201\n",
      "Epoch 36/64\n",
      "50/50 [==============================] - 25s 501ms/step - loss: 0.8366 - acc: 0.7138 - val_loss: 0.9499 - val_acc: 0.6655\n",
      "Epoch 37/64\n",
      "50/50 [==============================] - 26s 515ms/step - loss: 0.8291 - acc: 0.7038 - val_loss: 0.9958 - val_acc: 0.6556\n",
      "Epoch 38/64\n",
      "50/50 [==============================] - 25s 501ms/step - loss: 0.7951 - acc: 0.7125 - val_loss: 0.9320 - val_acc: 0.6743\n",
      "Epoch 39/64\n",
      "50/50 [==============================] - 24s 489ms/step - loss: 0.7811 - acc: 0.7387 - val_loss: 0.9898 - val_acc: 0.6546\n",
      "Epoch 40/64\n",
      "50/50 [==============================] - 25s 506ms/step - loss: 0.7869 - acc: 0.7287 - val_loss: 0.8951 - val_acc: 0.6924\n",
      "Epoch 41/64\n",
      "50/50 [==============================] - 25s 503ms/step - loss: 0.7110 - acc: 0.7487 - val_loss: 0.9473 - val_acc: 0.6761\n",
      "Epoch 42/64\n",
      "50/50 [==============================] - 26s 523ms/step - loss: 0.7314 - acc: 0.7362 - val_loss: 1.0998 - val_acc: 0.6289\n",
      "Epoch 43/64\n",
      "50/50 [==============================] - 25s 509ms/step - loss: 0.6748 - acc: 0.7650 - val_loss: 0.8976 - val_acc: 0.6954\n",
      "Epoch 44/64\n",
      "50/50 [==============================] - 24s 494ms/step - loss: 0.6971 - acc: 0.7663 - val_loss: 0.9295 - val_acc: 0.6854\n",
      "Epoch 45/64\n",
      "50/50 [==============================] - 25s 497ms/step - loss: 0.7315 - acc: 0.7500 - val_loss: 1.0021 - val_acc: 0.6721\n",
      "Epoch 46/64\n",
      "50/50 [==============================] - 25s 501ms/step - loss: 0.7261 - acc: 0.7431 - val_loss: 0.8959 - val_acc: 0.6933\n",
      "Epoch 47/64\n",
      "50/50 [==============================] - 25s 509ms/step - loss: 0.6994 - acc: 0.7625 - val_loss: 0.9609 - val_acc: 0.6716\n",
      "Epoch 48/64\n",
      "50/50 [==============================] - 30s 614ms/step - loss: 0.6807 - acc: 0.7631 - val_loss: 0.9664 - val_acc: 0.6727\n",
      "Epoch 49/64\n",
      "50/50 [==============================] - 27s 549ms/step - loss: 0.6707 - acc: 0.7650 - val_loss: 0.8389 - val_acc: 0.7127\n",
      "Epoch 50/64\n",
      "50/50 [==============================] - 25s 511ms/step - loss: 0.7078 - acc: 0.7475 - val_loss: 0.9623 - val_acc: 0.6776\n",
      "Epoch 51/64\n",
      "50/50 [==============================] - 26s 524ms/step - loss: 0.6754 - acc: 0.7600 - val_loss: 0.8367 - val_acc: 0.7104\n",
      "Epoch 52/64\n",
      "50/50 [==============================] - 25s 501ms/step - loss: 0.6638 - acc: 0.7688 - val_loss: 0.9206 - val_acc: 0.6880\n",
      "Epoch 53/64\n",
      "50/50 [==============================] - 26s 520ms/step - loss: 0.6476 - acc: 0.7825 - val_loss: 0.9197 - val_acc: 0.6926\n",
      "Epoch 54/64\n",
      "50/50 [==============================] - 25s 500ms/step - loss: 0.6468 - acc: 0.7769 - val_loss: 0.8497 - val_acc: 0.7046\n",
      "Epoch 55/64\n",
      "50/50 [==============================] - 26s 521ms/step - loss: 0.6853 - acc: 0.7681 - val_loss: 1.2591 - val_acc: 0.5812\n",
      "Epoch 56/64\n",
      "50/50 [==============================] - 25s 502ms/step - loss: 0.6385 - acc: 0.7731 - val_loss: 2.2840 - val_acc: 0.2168\n",
      "Epoch 57/64\n",
      "50/50 [==============================] - 26s 519ms/step - loss: 0.6024 - acc: 0.7919 - val_loss: 2.1442 - val_acc: 0.2635\n",
      "Epoch 58/64\n",
      "50/50 [==============================] - 26s 519ms/step - loss: 0.6901 - acc: 0.7588 - val_loss: 1.7754 - val_acc: 0.4076\n",
      "Epoch 59/64\n",
      "50/50 [==============================] - 26s 521ms/step - loss: 0.6600 - acc: 0.7825 - val_loss: 1.7230 - val_acc: 0.4492\n",
      "Epoch 60/64\n",
      "50/50 [==============================] - 26s 519ms/step - loss: 0.6478 - acc: 0.7781 - val_loss: 1.2087 - val_acc: 0.5918\n",
      "Epoch 61/64\n",
      "50/50 [==============================] - 25s 505ms/step - loss: 0.6688 - acc: 0.7713 - val_loss: 0.9080 - val_acc: 0.6945\n",
      "Epoch 62/64\n",
      "50/50 [==============================] - 26s 521ms/step - loss: 0.5696 - acc: 0.7994 - val_loss: 0.8961 - val_acc: 0.6915\n",
      "Epoch 63/64\n",
      "50/50 [==============================] - 25s 515ms/step - loss: 0.6406 - acc: 0.7837 - val_loss: 0.8894 - val_acc: 0.6940\n",
      "Epoch 64/64\n",
      "50/50 [==============================] - 26s 515ms/step - loss: 0.6126 - acc: 0.8000 - val_loss: 0.8048 - val_acc: 0.7245\n"
     ]
    }
   ],
   "source": [
    "# Fitting the model to the dataset\n",
    "history = model.fit(\n",
    "      train_generator, \n",
    "      epochs=64,\n",
    "      validation_data=valid_generator,\n",
    "      validation_steps=len(valid_generator),\n",
    "      steps_per_epoch=50)"
   ]
  },
  {
   "cell_type": "code",
   "execution_count": 7,
   "id": "d666e17a-734d-4c12-b8ab-9fe52c3f7a4d",
   "metadata": {},
   "outputs": [
    {
     "data": {
      "image/png": "[encoded data removed]",
      "text/plain": [
       "<Figure size 432x288 with 1 Axes>"
      ]
     },
     "metadata": {
      "needs_background": "light"
     },
     "output_type": "display_data"
    },
    {
     "data": {
      "image/png": "[encoded data removed]",
      "text/plain": [
       "<Figure size 432x288 with 1 Axes>"
      ]
     },
     "metadata": {
      "needs_background": "light"
     },
     "output_type": "display_data"
    }
   ],
   "source": [
    "acc = history.history['acc']\n",
    "val_acc = history.history['val_acc']\n",
    "loss = history.history['loss']\n",
    "val_loss = history.history['val_loss']\n",
    "epochs = range(1, len(acc) + 1)\n",
    "\n",
    "# Creating accuracy plot\n",
    "plt.plot(epochs, acc, 'bo', label='Training acc')\n",
    "plt.plot(epochs, val_acc, 'b', label='Validation acc')\n",
    "plt.title('Training and validation accuracy')\n",
    "# plt.savefig('results/6.2/6.2a_accuracy_plot.png')\n",
    "plt.legend()\n",
    "plt.figure()\n",
    "\n",
    "# Creating Loss plot\n",
    "plt.plot(epochs, loss, 'bo', label='Training loss')\n",
    "plt.plot(epochs, val_loss, 'b', label='Validation loss')\n",
    "plt.title('Training and validation loss')\n",
    "plt.legend()\n",
    "# plt.savefig('results/6.2/6.2a_validation_plot.png')\n",
    "plt.show()"
   ]
  },
  {
   "cell_type": "code",
   "execution_count": 8,
   "id": "dbe99709-e1b8-44f0-9b9d-b80aa732920b",
   "metadata": {},
   "outputs": [
    {
     "name": "stdout",
     "output_type": "stream",
     "text": [
      "313/313 [==============================] - 16s 50ms/step\n"
     ]
    }
   ],
   "source": [
    "model.save('Cifar10_CNN_model.h5')\n",
    "\n",
    "# making predictions \n",
    "import numpy as np\n",
    "pred = model.predict(test_data) \n",
    "prediction = np.argmax(pred, axis=1) \n",
    "\n",
    "# Saving prediction and metrics to a text file\n",
    "np.savetxt('results/6.2/6.2_prediction.txt', prediction, fmt='%d') \n",
    "np.savetxt('results/6.2/6.2_metrics.txt', np.column_stack((loss, acc, val_loss, val_acc)), fmt='%f')"
   ]
  },
  {
   "cell_type": "code",
   "execution_count": null,
   "id": "c3e35e90-8e0c-4df2-a8ed-05a595e6dc2a",
   "metadata": {},
   "outputs": [],
   "source": []
  },
  {
   "cell_type": "markdown",
   "id": "e0167298-c12a-45e2-a1de-bf17f204e58b",
   "metadata": {},
   "source": [
    "# Assignment 6.2b"
   ]
  },
  {
   "cell_type": "code",
   "execution_count": 2,
   "id": "af168823-581d-44fc-ab07-4a81e11a9b22",
   "metadata": {},
   "outputs": [],
   "source": [
    "# Importing libraries\n",
    "from keras.datasets import cifar10\n",
    "from keras.utils import to_categorical\n",
    "from keras import layers, optimizers\n",
    "from keras import models\n",
    "import matplotlib.pyplot as plt\n",
    "\n",
    "# Importing dataset\n",
    "(train_data, train_labels), (test_data, test_labels) = cifar10.load_data()\n",
    "\n",
    "# Reshaping dimensions to allow model to recognize the inputs\n",
    "train_data = train_data.astype('float32') / 255\n",
    "test_data = test_data.astype('float32') / 255\n",
    "\n",
    "# Converting dataset into categorical variables\n",
    "train_labels = to_categorical(train_labels, 10)\n",
    "test_labels = to_categorical(test_labels, 10)"
   ]
  },
  {
   "cell_type": "code",
   "execution_count": 3,
   "id": "da4f68fc-2531-481e-bd30-0cf190fb3dd7",
   "metadata": {},
   "outputs": [],
   "source": [
    "# Adding layers to create a CNN model\n",
    "model = models.Sequential()\n",
    "model.add(layers.Conv2D(32, (3, 3), activation='relu', kernel_initializer='he_uniform', padding='same', input_shape=(32, 32, 3)))\n",
    "model.add(layers.BatchNormalization())\n",
    "model.add(layers.Conv2D(32, (3, 3), activation='relu', kernel_initializer='he_uniform', padding='same'))\n",
    "model.add(layers.BatchNormalization())\n",
    "model.add(layers.MaxPooling2D((2, 2)))\n",
    "model.add(layers.Conv2D(64, (3, 3), activation='relu', kernel_initializer='he_uniform', padding='same'))\n",
    "model.add(layers.BatchNormalization())\n",
    "model.add(layers.Conv2D(64, (3, 3), activation='relu', kernel_initializer='he_uniform', padding='same'))\n",
    "model.add(layers.BatchNormalization())\n",
    "model.add(layers.MaxPooling2D((2, 2)))\n",
    "model.add(layers.Conv2D(128, (3, 3), activation='relu', kernel_initializer='he_uniform', padding='same'))\n",
    "model.add(layers.BatchNormalization())\n",
    "model.add(layers.Conv2D(128, (3, 3), activation='relu', kernel_initializer='he_uniform', padding='same'))\n",
    "model.add(layers.MaxPooling2D((2, 2)))\n",
    "\n",
    "# Applying flatten funtion and dropout function\n",
    "model.add(layers.Flatten())\n",
    "model.add(layers.Dropout(0.5)) # Adding dropout \n",
    "model.add(layers.Dense(512, activation='relu', kernel_initializer= 'he_uniform'))\n",
    "model.add(layers.Dense(10, activation='softmax'))\n",
    "\n",
    "model.compile(\n",
    "    optimizer= 'adam',\n",
    "    loss='categorical_crossentropy',\n",
    "    metrics=[\"acc\"]\n",
    ") "
   ]
  },
  {
   "cell_type": "code",
   "execution_count": 4,
   "id": "9c94a914-d0ed-45e2-9174-8d9940be1871",
   "metadata": {},
   "outputs": [
    {
     "name": "stdout",
     "output_type": "stream",
     "text": [
      "data batch shape: (32, 32, 32, 3)\n",
      "labels batch shape: (32, 10)\n",
      "Epoch 1/64\n"
     ]
    },
    {
     "name": "stderr",
     "output_type": "stream",
     "text": [
      "2023-04-22 13:24:33.276113: I tensorflow/core/common_runtime/executor.cc:1197] [/device:CPU:0] (DEBUG INFO) Executor start aborting (this does not indicate an error and you can ignore this message): INVALID_ARGUMENT: You must feed a value for placeholder tensor 'Placeholder/_0' with dtype int32\n",
      "\t [[{{node Placeholder/_0}}]]\n"
     ]
    },
    {
     "name": "stdout",
     "output_type": "stream",
     "text": [
      "50/50 [==============================] - ETA: 0s - loss: 3.5653 - acc: 0.1813"
     ]
    },
    {
     "name": "stderr",
     "output_type": "stream",
     "text": [
      "2023-04-22 13:24:46.792826: I tensorflow/core/common_runtime/executor.cc:1197] [/device:CPU:0] (DEBUG INFO) Executor start aborting (this does not indicate an error and you can ignore this message): INVALID_ARGUMENT: You must feed a value for placeholder tensor 'Placeholder/_0' with dtype int32\n",
      "\t [[{{node Placeholder/_0}}]]\n"
     ]
    },
    {
     "name": "stdout",
     "output_type": "stream",
     "text": [
      "50/50 [==============================] - 27s 490ms/step - loss: 3.5653 - acc: 0.1813 - val_loss: 2.4884 - val_acc: 0.1000\n",
      "Epoch 2/64\n",
      "50/50 [==============================] - 29s 582ms/step - loss: 2.0922 - acc: 0.2494 - val_loss: 2.6275 - val_acc: 0.1000\n",
      "Epoch 3/64\n",
      "50/50 [==============================] - 25s 495ms/step - loss: 2.0019 - acc: 0.2656 - val_loss: 3.1911 - val_acc: 0.1000\n",
      "Epoch 4/64\n",
      "50/50 [==============================] - 27s 540ms/step - loss: 1.9523 - acc: 0.2944 - val_loss: 3.0403 - val_acc: 0.1001\n",
      "Epoch 5/64\n",
      "50/50 [==============================] - 29s 592ms/step - loss: 1.9463 - acc: 0.2875 - val_loss: 2.6086 - val_acc: 0.1000\n",
      "Epoch 6/64\n",
      "50/50 [==============================] - 27s 539ms/step - loss: 1.8630 - acc: 0.3275 - val_loss: 3.4103 - val_acc: 0.1000\n",
      "Epoch 7/64\n",
      "50/50 [==============================] - 26s 531ms/step - loss: 1.8521 - acc: 0.3231 - val_loss: 3.6392 - val_acc: 0.1000\n",
      "Epoch 8/64\n",
      "50/50 [==============================] - 27s 550ms/step - loss: 1.8422 - acc: 0.3119 - val_loss: 3.5109 - val_acc: 0.1000\n",
      "Epoch 9/64\n",
      "50/50 [==============================] - 27s 549ms/step - loss: 1.7937 - acc: 0.3338 - val_loss: 4.7186 - val_acc: 0.1000\n",
      "Epoch 10/64\n",
      "50/50 [==============================] - 29s 581ms/step - loss: 1.7989 - acc: 0.3394 - val_loss: 3.1064 - val_acc: 0.1166\n",
      "Epoch 11/64\n",
      "50/50 [==============================] - 28s 559ms/step - loss: 1.7813 - acc: 0.3350 - val_loss: 3.0529 - val_acc: 0.1541\n",
      "Epoch 12/64\n",
      "50/50 [==============================] - 29s 585ms/step - loss: 1.7320 - acc: 0.3719 - val_loss: 3.1110 - val_acc: 0.1041\n",
      "Epoch 13/64\n",
      "50/50 [==============================] - 29s 581ms/step - loss: 1.7229 - acc: 0.3475 - val_loss: 2.1462 - val_acc: 0.2222\n",
      "Epoch 14/64\n",
      "50/50 [==============================] - 28s 573ms/step - loss: 1.7179 - acc: 0.3663 - val_loss: 2.0385 - val_acc: 0.3005\n",
      "Epoch 15/64\n",
      "50/50 [==============================] - 28s 556ms/step - loss: 1.6617 - acc: 0.3825 - val_loss: 1.7487 - val_acc: 0.3681\n",
      "Epoch 16/64\n",
      "50/50 [==============================] - 25s 495ms/step - loss: 1.6562 - acc: 0.3975 - val_loss: 1.6368 - val_acc: 0.4086\n",
      "Epoch 17/64\n",
      "50/50 [==============================] - 35s 707ms/step - loss: 1.6443 - acc: 0.4025 - val_loss: 1.7809 - val_acc: 0.3546\n",
      "Epoch 18/64\n",
      "50/50 [==============================] - 28s 557ms/step - loss: 1.7001 - acc: 0.3762 - val_loss: 1.5924 - val_acc: 0.4363\n",
      "Epoch 19/64\n",
      "50/50 [==============================] - 27s 553ms/step - loss: 1.5838 - acc: 0.4169 - val_loss: 1.4493 - val_acc: 0.4631\n",
      "Epoch 20/64\n",
      "50/50 [==============================] - 29s 582ms/step - loss: 1.6367 - acc: 0.3819 - val_loss: 1.5140 - val_acc: 0.4456\n",
      "Epoch 21/64\n",
      "50/50 [==============================] - 34s 697ms/step - loss: 1.6001 - acc: 0.4119 - val_loss: 1.4680 - val_acc: 0.4595\n",
      "Epoch 22/64\n",
      "50/50 [==============================] - 29s 584ms/step - loss: 1.5862 - acc: 0.4112 - val_loss: 1.6315 - val_acc: 0.4048\n",
      "Epoch 23/64\n",
      "50/50 [==============================] - 27s 551ms/step - loss: 1.6100 - acc: 0.4119 - val_loss: 1.4251 - val_acc: 0.4751\n",
      "Epoch 24/64\n",
      "50/50 [==============================] - 25s 504ms/step - loss: 1.6092 - acc: 0.4162 - val_loss: 2.1180 - val_acc: 0.3273\n",
      "Epoch 25/64\n",
      "50/50 [==============================] - 25s 502ms/step - loss: 1.5922 - acc: 0.4198 - val_loss: 1.6813 - val_acc: 0.3952\n",
      "Epoch 26/64\n",
      "50/50 [==============================] - 25s 514ms/step - loss: 1.5565 - acc: 0.4300 - val_loss: 1.4201 - val_acc: 0.4840\n",
      "Epoch 27/64\n",
      "50/50 [==============================] - 24s 493ms/step - loss: 1.5174 - acc: 0.4487 - val_loss: 1.7607 - val_acc: 0.3979\n",
      "Epoch 28/64\n",
      "50/50 [==============================] - 26s 518ms/step - loss: 1.5547 - acc: 0.4381 - val_loss: 1.4454 - val_acc: 0.4670\n",
      "Epoch 29/64\n",
      "50/50 [==============================] - 26s 516ms/step - loss: 1.5211 - acc: 0.4431 - val_loss: 1.4652 - val_acc: 0.4775\n",
      "Epoch 30/64\n",
      "50/50 [==============================] - 25s 501ms/step - loss: 1.5620 - acc: 0.4281 - val_loss: 1.3946 - val_acc: 0.4903\n",
      "Epoch 31/64\n",
      "50/50 [==============================] - 26s 519ms/step - loss: 1.5161 - acc: 0.4462 - val_loss: 2.3439 - val_acc: 0.3132\n",
      "Epoch 32/64\n",
      "50/50 [==============================] - 25s 498ms/step - loss: 1.5540 - acc: 0.4369 - val_loss: 1.7362 - val_acc: 0.4276\n",
      "Epoch 33/64\n",
      "50/50 [==============================] - 25s 503ms/step - loss: 1.5098 - acc: 0.4525 - val_loss: 1.4753 - val_acc: 0.4761\n",
      "Epoch 34/64\n",
      "50/50 [==============================] - 25s 501ms/step - loss: 1.5107 - acc: 0.4419 - val_loss: 1.4775 - val_acc: 0.4531\n",
      "Epoch 35/64\n",
      "50/50 [==============================] - 26s 519ms/step - loss: 1.4898 - acc: 0.4588 - val_loss: 1.4425 - val_acc: 0.4731\n",
      "Epoch 36/64\n",
      "50/50 [==============================] - 25s 508ms/step - loss: 1.4806 - acc: 0.4588 - val_loss: 1.2877 - val_acc: 0.5352\n",
      "Epoch 37/64\n",
      "50/50 [==============================] - 26s 522ms/step - loss: 1.5329 - acc: 0.4456 - val_loss: 1.5510 - val_acc: 0.4360\n",
      "Epoch 38/64\n",
      "50/50 [==============================] - 26s 518ms/step - loss: 1.4370 - acc: 0.4575 - val_loss: 1.3472 - val_acc: 0.5131\n",
      "Epoch 39/64\n",
      "50/50 [==============================] - 25s 513ms/step - loss: 1.4226 - acc: 0.4925 - val_loss: 1.7914 - val_acc: 0.3595\n",
      "Epoch 40/64\n",
      "50/50 [==============================] - 29s 576ms/step - loss: 1.4407 - acc: 0.4925 - val_loss: 1.5961 - val_acc: 0.4441\n",
      "Epoch 41/64\n",
      "50/50 [==============================] - 27s 537ms/step - loss: 1.4993 - acc: 0.4525 - val_loss: 1.7233 - val_acc: 0.3960\n",
      "Epoch 42/64\n",
      "50/50 [==============================] - 27s 543ms/step - loss: 1.4668 - acc: 0.4606 - val_loss: 1.5549 - val_acc: 0.4423\n",
      "Epoch 43/64\n",
      "50/50 [==============================] - 25s 501ms/step - loss: 1.4569 - acc: 0.4888 - val_loss: 1.7212 - val_acc: 0.3992\n",
      "Epoch 44/64\n",
      "50/50 [==============================] - 26s 523ms/step - loss: 1.4420 - acc: 0.4675 - val_loss: 1.3685 - val_acc: 0.5163\n",
      "Epoch 45/64\n",
      "50/50 [==============================] - 25s 507ms/step - loss: 1.4409 - acc: 0.4787 - val_loss: 1.4726 - val_acc: 0.4777\n",
      "Epoch 46/64\n",
      "50/50 [==============================] - 26s 519ms/step - loss: 1.4278 - acc: 0.4894 - val_loss: 1.2687 - val_acc: 0.5384\n",
      "Epoch 47/64\n",
      "50/50 [==============================] - 25s 503ms/step - loss: 1.4182 - acc: 0.5050 - val_loss: 1.4355 - val_acc: 0.4754\n",
      "Epoch 48/64\n",
      "50/50 [==============================] - 26s 521ms/step - loss: 1.4011 - acc: 0.4944 - val_loss: 1.4555 - val_acc: 0.4736\n",
      "Epoch 49/64\n",
      "50/50 [==============================] - 26s 529ms/step - loss: 1.3612 - acc: 0.4894 - val_loss: 1.6278 - val_acc: 0.4285\n",
      "Epoch 50/64\n",
      "50/50 [==============================] - 25s 508ms/step - loss: 1.3965 - acc: 0.5138 - val_loss: 1.5576 - val_acc: 0.4836\n",
      "Epoch 51/64\n",
      "50/50 [==============================] - 25s 510ms/step - loss: 1.3945 - acc: 0.4869 - val_loss: 1.5252 - val_acc: 0.4805\n",
      "Epoch 52/64\n",
      "50/50 [==============================] - 25s 507ms/step - loss: 1.3548 - acc: 0.5158 - val_loss: 1.8287 - val_acc: 0.4101\n",
      "Epoch 53/64\n",
      "50/50 [==============================] - 27s 539ms/step - loss: 1.3828 - acc: 0.4931 - val_loss: 1.3847 - val_acc: 0.5200\n",
      "Epoch 54/64\n",
      "50/50 [==============================] - 25s 503ms/step - loss: 1.4089 - acc: 0.4969 - val_loss: 1.4183 - val_acc: 0.4961\n",
      "Epoch 55/64\n",
      "50/50 [==============================] - 26s 523ms/step - loss: 1.3916 - acc: 0.5038 - val_loss: 1.5884 - val_acc: 0.4497\n",
      "Epoch 56/64\n",
      "50/50 [==============================] - 26s 534ms/step - loss: 1.3455 - acc: 0.5169 - val_loss: 1.7086 - val_acc: 0.3927\n",
      "Epoch 57/64\n",
      "50/50 [==============================] - 25s 508ms/step - loss: 1.4010 - acc: 0.5219 - val_loss: 1.3117 - val_acc: 0.5179\n",
      "Epoch 58/64\n",
      "50/50 [==============================] - 26s 533ms/step - loss: 1.3769 - acc: 0.4988 - val_loss: 2.5215 - val_acc: 0.3605\n",
      "Epoch 59/64\n",
      "50/50 [==============================] - 26s 526ms/step - loss: 1.3660 - acc: 0.5125 - val_loss: 1.2581 - val_acc: 0.5450\n",
      "Epoch 60/64\n",
      "50/50 [==============================] - 25s 502ms/step - loss: 1.3421 - acc: 0.5269 - val_loss: 2.0597 - val_acc: 0.3608\n",
      "Epoch 61/64\n",
      "50/50 [==============================] - 26s 530ms/step - loss: 1.3487 - acc: 0.5006 - val_loss: 1.2425 - val_acc: 0.5586\n",
      "Epoch 62/64\n",
      "50/50 [==============================] - 26s 517ms/step - loss: 1.3080 - acc: 0.5256 - val_loss: 1.3221 - val_acc: 0.5129\n",
      "Epoch 63/64\n",
      "50/50 [==============================] - 27s 535ms/step - loss: 1.3520 - acc: 0.5256 - val_loss: 1.2056 - val_acc: 0.5823\n",
      "Epoch 64/64\n",
      "50/50 [==============================] - 26s 528ms/step - loss: 1.3492 - acc: 0.5250 - val_loss: 1.7782 - val_acc: 0.4477\n"
     ]
    }
   ],
   "source": [
    "# Adding data augmentation\n",
    "from keras.preprocessing.image import ImageDataGenerator\n",
    "\n",
    "# Processing the images by applying data augmentation\n",
    "train_datagen = ImageDataGenerator(\n",
    "    rescale=1./255,\n",
    "    rotation_range=40,\n",
    "    width_shift_range=0.2,\n",
    "    height_shift_range=0.2,\n",
    "    shear_range=0.2,\n",
    "    zoom_range=0.2,\n",
    "    horizontal_flip=True,)\n",
    "\n",
    "test_datagen = ImageDataGenerator(rescale=1./255)\n",
    "\n",
    "train_datagen.fit(train_data)\n",
    "test_datagen.fit(test_data)\n",
    "\n",
    "train_generator = train_datagen.flow(train_data, train_labels, batch_size=32)\n",
    "valid_generator = test_datagen.flow(test_data, test_labels, batch_size=32)\n",
    "\n",
    "for data_batch, labels_batch in train_generator:\n",
    "    print('data batch shape:', data_batch.shape)\n",
    "    print('labels batch shape:', labels_batch.shape)\n",
    "    break\n",
    "\n",
    "# Fitting model to the dataset\n",
    "history = model.fit(\n",
    "      train_generator, \n",
    "      epochs=64,\n",
    "      validation_data=valid_generator,\n",
    "      validation_steps=len(valid_generator),\n",
    "      steps_per_epoch=50)"
   ]
  },
  {
   "cell_type": "code",
   "execution_count": 5,
   "id": "1bb95068-72bc-40d8-ab19-a9c2a0cca516",
   "metadata": {},
   "outputs": [
    {
     "data": {
      "image/png": "[encoded data removed]",
      "text/plain": [
       "<Figure size 432x288 with 1 Axes>"
      ]
     },
     "metadata": {
      "needs_background": "light"
     },
     "output_type": "display_data"
    },
    {
     "data": {
      "image/png": "[encoded data removed]",
      "text/plain": [
       "<Figure size 432x288 with 1 Axes>"
      ]
     },
     "metadata": {
      "needs_background": "light"
     },
     "output_type": "display_data"
    }
   ],
   "source": [
    "acc = history.history['acc']\n",
    "val_acc = history.history['val_acc']\n",
    "loss = history.history['loss']\n",
    "val_loss = history.history['val_loss']\n",
    "epochs = range(1, len(acc) + 1)\n",
    "\n",
    "# Plotting accuracy plot\n",
    "plt.clf()\n",
    "plt.plot(epochs, acc, 'bo', label='Training acc')\n",
    "plt.plot(epochs, val_acc, 'b', label='Validation acc')\n",
    "plt.title('Training and validation accuracy')\n",
    "plt.legend()\n",
    "# plt.savefig('results/6.2/6.2b_accuracy_plot.png')\n",
    "\n",
    "# Plotting loss plot\n",
    "plt.figure()\n",
    "plt.plot(epochs, loss, 'bo', label='Training loss')\n",
    "plt.plot(epochs, val_loss, 'b', label='Validation loss')\n",
    "plt.title('Training and validation loss')\n",
    "plt.legend()\n",
    "# plt.savefig('results/6.2/6.2b_validation_plot.png')\n",
    "plt.show()"
   ]
  },
  {
   "cell_type": "code",
   "execution_count": 6,
   "id": "a37141be-55b3-4f97-a283-ad1d154601ca",
   "metadata": {},
   "outputs": [
    {
     "name": "stdout",
     "output_type": "stream",
     "text": [
      "313/313 [==============================] - 14s 45ms/step\n"
     ]
    }
   ],
   "source": [
    "# model.save('results/6.2/6.2b_Cifar10_CNN_Data_Aug_model.h5')\n",
    "\n",
    "# making predictions \n",
    "import numpy as np\n",
    "pred = model.predict(test_data) \n",
    "prediction = np.argmax(pred, axis=1) \n",
    "\n",
    "# Saving prediction and metrics to a text file\n",
    "np.savetxt('results/6.2/6.2b_prediction.txt', prediction, fmt='%d') \n",
    "np.savetxt('results/6.2/6.2b_metrics.txt', np.column_stack((loss, acc, val_loss, val_acc)), fmt='%f')"
   ]
  },
  {
   "cell_type": "code",
   "execution_count": null,
   "id": "2777b4cf-9378-4313-9e2d-de2ea9ee2db7",
   "metadata": {},
   "outputs": [],
   "source": []
  },
  {
   "cell_type": "markdown",
   "id": "1b99c9ec-bbf3-405c-94b6-09f16a2e8808",
   "metadata": {},
   "source": [
    "# Assignment 6.3"
   ]
  },
  {
   "cell_type": "code",
   "execution_count": 1,
   "id": "f45c71c6-8b70-4eec-9c02-8cea563fcb9e",
   "metadata": {},
   "outputs": [
    {
     "name": "stderr",
     "output_type": "stream",
     "text": [
      "2023-04-21 23:10:07.345774: I tensorflow/core/platform/cpu_feature_guard.cc:182] This TensorFlow binary is optimized to use available CPU instructions in performance-critical operations.\n",
      "To enable the following instructions: AVX2 FMA, in other operations, rebuild TensorFlow with the appropriate compiler flags.\n"
     ]
    }
   ],
   "source": [
    "# importing libraries\n",
    "from tensorflow.keras.applications.resnet50 import ResNet50\n",
    "from tensorflow.keras.preprocessing import image\n",
    "from tensorflow.keras.applications.resnet50 import preprocess_input, decode_predictions\n",
    "import numpy as np\n",
    "from pathlib import Path\n",
    "import os\n",
    "\n",
    "# finding folder path\n",
    "current_dir = Path(os.getcwd()).absolute()\n",
    "images_dir = current_dir.joinpath('images')\n",
    "\n",
    "# List containing path to images\n",
    "image_paths = [os.path.join(images_dir, file) for file in os.listdir(images_dir)]\n",
    "\n",
    "# List contain image names\n",
    "image_names = []\n",
    "for file in os.listdir(images_dir):\n",
    "    name_only, extension = os.path.splitext(file)\n",
    "    image_names.append(name_only)"
   ]
  },
  {
   "cell_type": "code",
   "execution_count": 3,
   "id": "90431604-aa5b-45ae-9970-ea87eb27fd15",
   "metadata": {},
   "outputs": [
    {
     "name": "stdout",
     "output_type": "stream",
     "text": [
      "1/1 [==============================] - 2s 2s/step\n",
      "1/1 [==============================] - 0s 160ms/step\n",
      "1/1 [==============================] - 0s 183ms/step\n",
      "1/1 [==============================] - 0s 178ms/step\n",
      "1/1 [==============================] - 0s 182ms/step\n",
      "1/1 [==============================] - 0s 186ms/step\n",
      "1/1 [==============================] - 0s 216ms/step\n",
      "1/1 [==============================] - 0s 200ms/step\n",
      "1/1 [==============================] - 0s 278ms/step\n",
      "1/1 [==============================] - 0s 223ms/step\n"
     ]
    }
   ],
   "source": [
    "# Applying ResNet-50 pretrained model\n",
    "model = ResNet50(weights='imagenet')\n",
    "\n",
    "prediction_list = []\n",
    "for i, img_path in enumerate(image_paths):\n",
    "    img = image.load_img(img_path, target_size=(224, 224))\n",
    "    x = image.img_to_array(img)\n",
    "    x = np.expand_dims(x, axis=0)\n",
    "    x = preprocess_input(x)\n",
    "    \n",
    "    # Making predictions\n",
    "    prediction = model.predict(x)\n",
    "    predicted_class = decode_predictions(prediction, top=3)[0]\n",
    "    prediction_list.append(f\"Actual Image {image_names[i]}.. \\nPrediction:{predicted_class}\\n\")"
   ]
  },
  {
   "cell_type": "code",
   "execution_count": 4,
   "id": "81f3a93c-b7fa-45b5-951b-f5036b2890d6",
   "metadata": {},
   "outputs": [],
   "source": [
    "results_dir = current_dir.joinpath('results')\n",
    "\n",
    "# Saving predictions to the result folder\n",
    "with open(str(results_dir) + '/Predictions/ResNet-50 Prediction.txt','w') as f:\n",
    "    for pred in prediction_list:\n",
    "        f.write(f'{pred}\\n')"
   ]
  },
  {
   "cell_type": "code",
   "execution_count": null,
   "id": "8f011673-ebe7-4eee-bc86-bca8e57294e7",
   "metadata": {},
   "outputs": [],
   "source": []
  }
 ],
 "metadata": {
  "kernelspec": {
   "display_name": "Python 3 (ipykernel)",
   "language": "python",
   "name": "python3"
  },
  "language_info": {
   "codemirror_mode": {
    "name": "ipython",
    "version": 3
   },
   "file_extension": ".py",
   "mimetype": "text/x-python",
   "name": "python",
   "nbconvert_exporter": "python",
   "pygments_lexer": "ipython3",
   "version": "3.9.12"
  }
 },
 "nbformat": 4,
 "nbformat_minor": 5
}
