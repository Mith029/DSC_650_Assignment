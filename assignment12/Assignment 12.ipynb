{
 "cells": [
  {
   "cell_type": "code",
   "execution_count": 1,
   "id": "b95262a4",
   "metadata": {},
   "outputs": [],
   "source": [
    "import os\n",
    "import random\n",
    "import shutil\n",
    "from sklearn.model_selection import train_test_split\n",
    "\n",
    "cur_dir = os.getcwd()\n",
    "dataset_dir = cur_dir + '/img_align_celeba/'\n",
    "\n",
    "# path to training and validation directories\n",
    "train_dir = cur_dir + '/train/'\n",
    "val_dir = cur_dir + '/validation/'"
   ]
  },
  {
   "cell_type": "markdown",
   "id": "f0f96448-e8e7-4cc6-a78b-72a9b40dbfa9",
   "metadata": {},
   "source": [
    "# Only Run Once"
   ]
  },
  {
   "cell_type": "markdown",
   "id": "9369c638-08be-40be-912f-a0684187d1b2",
   "metadata": {},
   "source": [
    "### Splitting dataset into train and validation folder"
   ]
  },
  {
   "cell_type": "code",
   "execution_count": 18,
   "id": "a1cd4c99-43a0-443a-80cd-bcf2729abfab",
   "metadata": {},
   "outputs": [],
   "source": [
    "# # Creating train and validation folder\n",
    "# os.makedirs(train_dir, exist_ok=True)\n",
    "# os.makedirs(val_dir, exist_ok=True)\n",
    "\n",
    "# image_filenames = os.listdir(dataset_dir)\n",
    "\n",
    "# # Shuffle the image file names\n",
    "# random.shuffle(image_filenames)\n",
    "\n",
    "# # Split the image file names into training and validation sets\n",
    "# train_filenames, val_filenames = train_test_split(image_filenames, train_size = 0.80, test_size= 0.20, random_state=42)\n",
    "\n",
    "\n",
    "# # Move the training images to the training directory\n",
    "# for file in train_filenames:\n",
    "#     src = os.path.join(dataset_dir, file)\n",
    "#     dst = os.path.join(train_dir, file)\n",
    "#     shutil.move(src, dst)\n",
    "\n",
    "# # Move the validation images to the validation directory\n",
    "# for file in val_filenames:\n",
    "#     src = os.path.join(dataset_dir, file)\n",
    "#     dst = os.path.join(val_dir, file)\n",
    "#     shutil.move(src, dst)"
   ]
  },
  {
   "cell_type": "code",
   "execution_count": null,
   "id": "df5d8b65",
   "metadata": {},
   "outputs": [],
   "source": []
  },
  {
   "cell_type": "markdown",
   "id": "67cfef03-5c99-4bf8-92c9-f248775a9912",
   "metadata": {},
   "source": [
    "## Insert title here"
   ]
  },
  {
   "cell_type": "code",
   "execution_count": 7,
   "id": "d35f5490",
   "metadata": {},
   "outputs": [
    {
     "name": "stdout",
     "output_type": "stream",
     "text": [
      "Found 162079 files belonging to 1 classes.\n"
     ]
    },
    {
     "name": "stderr",
     "output_type": "stream",
     "text": [
      "2023-05-24 15:02:00.671995: I tensorflow/core/common_runtime/executor.cc:1197] [/device:CPU:0] (DEBUG INFO) Executor start aborting (this does not indicate an error and you can ignore this message): INVALID_ARGUMENT: You must feed a value for placeholder tensor 'Placeholder/_0' with dtype string and shape [162079]\n",
      "\t [[{{node Placeholder/_0}}]]\n",
      "2023-05-24 15:02:00.672770: I tensorflow/core/common_runtime/executor.cc:1197] [/device:CPU:0] (DEBUG INFO) Executor start aborting (this does not indicate an error and you can ignore this message): INVALID_ARGUMENT: You must feed a value for placeholder tensor 'Placeholder/_0' with dtype string and shape [162079]\n",
      "\t [[{{node Placeholder/_0}}]]\n",
      "Clipping input data to the valid range for imshow with RGB data ([0..1] for floats or [0..255] for integers).\n",
      "Clipping input data to the valid range for imshow with RGB data ([0..1] for floats or [0..255] for integers).\n",
      "Clipping input data to the valid range for imshow with RGB data ([0..1] for floats or [0..255] for integers).\n",
      "Clipping input data to the valid range for imshow with RGB data ([0..1] for floats or [0..255] for integers).\n",
      "Clipping input data to the valid range for imshow with RGB data ([0..1] for floats or [0..255] for integers).\n"
     ]
    },
    {
     "data": {
      "image/png": "[encoded data removed]",
      "text/plain": [
       "<Figure size 720x144 with 5 Axes>"
      ]
     },
     "metadata": {
      "needs_background": "light"
     },
     "output_type": "display_data"
    }
   ],
   "source": [
    "# import tensorflow as tf\n",
    "# from tensorflow import keras\n",
    "import numpy as np\n",
    "import matplotlib.pyplot as plt\n",
    "from tensorflow.keras.preprocessing import image_dataset_from_directory\n",
    "\n",
    "dataset = image_dataset_from_directory(\n",
    "    train_dir,\n",
    "    label_mode=None,\n",
    "    image_size=(64, 64),\n",
    "    batch_size=512\n",
    ")\n",
    "\n",
    "# Get the first 5 images from the dataset\n",
    "images = []\n",
    "for batch in dataset.take(1):\n",
    "    images = batch[:5]  # Take only the first 5 images\n",
    "\n",
    "# Display the images\n",
    "plt.figure(figsize=(10, 2))\n",
    "for i in range(5):\n",
    "    plt.subplot(1, 5, i+1)\n",
    "    plt.imshow(images[i].numpy())\n",
    "    plt.axis(\"off\")\n",
    "plt.show()"
   ]
  },
  {
   "cell_type": "code",
   "execution_count": null,
   "id": "c0e52a64-5860-491e-9aca-f2a8cefef064",
   "metadata": {},
   "outputs": [],
   "source": []
  }
 ],
 "metadata": {
  "kernelspec": {
   "display_name": "Python 3 (ipykernel)",
   "language": "python",
   "name": "python3"
  },
  "language_info": {
   "codemirror_mode": {
    "name": "ipython",
    "version": 3
   },
   "file_extension": ".py",
   "mimetype": "text/x-python",
   "name": "python",
   "nbconvert_exporter": "python",
   "pygments_lexer": "ipython3",
   "version": "3.9.12"
  }
 },
 "nbformat": 4,
 "nbformat_minor": 5
}
