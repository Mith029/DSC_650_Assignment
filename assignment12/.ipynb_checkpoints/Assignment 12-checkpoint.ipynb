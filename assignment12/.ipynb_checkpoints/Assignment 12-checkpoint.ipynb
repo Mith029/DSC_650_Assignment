{
 "cells": [
  {
   "cell_type": "code",
   "execution_count": 17,
   "id": "b95262a4",
   "metadata": {},
   "outputs": [],
   "source": [
    "import os\n",
    "import random\n",
    "import shutil\n",
    "from sklearn.model_selection import train_test_split\n",
    "\n",
    "cur_dir = os.getcwd()\n",
    "dataset_dir = cur_dir + '/img_align_celeba/'\n",
    "\n",
    "# path to training and validation directories\n",
    "train_dir = cur_dir + '/train/'\n",
    "val_dir = cur_dir + '/validation/'"
   ]
  },
  {
   "cell_type": "code",
   "execution_count": 14,
   "id": "b7e38233",
   "metadata": {},
   "outputs": [
    {
     "data": {
      "text/plain": [
       "'/Users/mithilpatel/Desktop/DSC_650/dsc650/assignments/assignment12/img_align_celeba/'"
      ]
     },
     "execution_count": 14,
     "metadata": {},
     "output_type": "execute_result"
    }
   ],
   "source": []
  },
  {
   "cell_type": "markdown",
   "id": "0f4ea866",
   "metadata": {},
   "source": [
    "## Only Run Once"
   ]
  },
  {
   "cell_type": "code",
   "execution_count": null,
   "id": "e2b310cb",
   "metadata": {},
   "outputs": [],
   "source": []
  },
  {
   "cell_type": "code",
   "execution_count": null,
   "id": "98415c00",
   "metadata": {},
   "outputs": [],
   "source": []
  },
  {
   "cell_type": "code",
   "execution_count": 18,
   "id": "a1cd4c99-43a0-443a-80cd-bcf2729abfab",
   "metadata": {},
   "outputs": [],
   "source": [
    "# Creating train and validation folder\n",
    "os.makedirs(train_dir, exist_ok=True)\n",
    "os.makedirs(val_dir, exist_ok=True)\n",
    "\n",
    "image_filenames = os.listdir(dataset_dir)\n",
    "\n",
    "# Shuffle the image file names\n",
    "random.shuffle(image_filenames)\n",
    "\n",
    "# Split the image file names into training and validation sets\n",
    "train_filenames, val_filenames = train_test_split(image_filenames, train_size = 0.80, test_size= 0.20, random_state=42)\n",
    "\n",
    "\n",
    "# Move the training images to the training directory\n",
    "for file in train_filenames:\n",
    "    src = os.path.join(dataset_dir, file)\n",
    "    dst = os.path.join(train_dir, file)\n",
    "    shutil.move(src, dst)\n",
    "\n",
    "# Move the validation images to the validation directory\n",
    "for file in val_filenames:\n",
    "    src = os.path.join(dataset_dir, file)\n",
    "    dst = os.path.join(val_dir, file)\n",
    "    shutil.move(src, dst)"
   ]
  },
  {
   "cell_type": "code",
   "execution_count": 21,
   "id": "df5d8b65",
   "metadata": {},
   "outputs": [
    {
     "data": {
      "text/plain": [
       "162079"
      ]
     },
     "execution_count": 21,
     "metadata": {},
     "output_type": "execute_result"
    }
   ],
   "source": [
    "len(os.listdir(train_dir))"
   ]
  },
  {
   "cell_type": "code",
   "execution_count": 20,
   "id": "9f9d5e98",
   "metadata": {},
   "outputs": [
    {
     "data": {
      "text/plain": [
       "40520"
      ]
     },
     "execution_count": 20,
     "metadata": {},
     "output_type": "execute_result"
    }
   ],
   "source": [
    "len(os.listdir(val_dir))"
   ]
  },
  {
   "cell_type": "code",
   "execution_count": null,
   "id": "d35f5490",
   "metadata": {},
   "outputs": [],
   "source": []
  }
 ],
 "metadata": {
  "kernelspec": {
   "display_name": "Python 3 (ipykernel)",
   "language": "python",
   "name": "python3"
  },
  "language_info": {
   "codemirror_mode": {
    "name": "ipython",
    "version": 3
   },
   "file_extension": ".py",
   "mimetype": "text/x-python",
   "name": "python",
   "nbconvert_exporter": "python",
   "pygments_lexer": "ipython3",
   "version": "3.9.12"
  }
 },
 "nbformat": 4,
 "nbformat_minor": 5
}
