{
 "cells": [
  {
   "cell_type": "markdown",
   "id": "880292fc-b032-47c0-aa17-835420fc4864",
   "metadata": {},
   "source": [
    "# 5.1 Assignment"
   ]
  },
  {
   "cell_type": "code",
   "execution_count": 2,
   "id": "0849b334-6ef2-4172-a46c-5022446a3b6b",
   "metadata": {},
   "outputs": [
    {
     "name": "stdout",
     "output_type": "stream",
     "text": [
      "[1, 14, 22, 16, 43, 530, 973, 1622, 1385, 65, 458, 4468, 66, 3941, 4, 173, 36, 256, 5, 25, 100, 43, 838, 112, 50, 670, 2, 9, 35, 480, 284, 5, 150, 4, 172, 112, 167, 2, 336, 385, 39, 4, 172, 4536, 1111, 17, 546, 38, 13, 447, 4, 192, 50, 16, 6, 147, 2025, 19, 14, 22, 4, 1920, 4613, 469, 4, 22, 71, 87, 12, 16, 43, 530, 38, 76, 15, 13, 1247, 4, 22, 17, 515, 17, 12, 16, 626, 18, 2, 5, 62, 386, 12, 8, 316, 8, 106, 5, 4, 2223, 5244, 16, 480, 66, 3785, 33, 4, 130, 12, 16, 38, 619, 5, 25, 124, 51, 36, 135, 48, 25, 1415, 33, 6, 22, 12, 215, 28, 77, 52, 5, 14, 407, 16, 82, 2, 8, 4, 107, 117, 5952, 15, 256, 4, 2, 7, 3766, 5, 723, 36, 71, 43, 530, 476, 26, 400, 317, 46, 7, 4, 2, 1029, 13, 104, 88, 4, 381, 15, 297, 98, 32, 2071, 56, 26, 141, 6, 194, 7486, 18, 4, 226, 22, 21, 134, 476, 26, 480, 5, 144, 30, 5535, 18, 51, 36, 28, 224, 92, 25, 104, 4, 226, 65, 16, 38, 1334, 88, 12, 16, 283, 5, 16, 4472, 113, 103, 32, 15, 16, 5345, 19, 178, 32]\n"
     ]
    }
   ],
   "source": [
    "from keras.datasets import imdb\n",
    "import numpy as np\n",
    "\n",
    "import warnings\n",
    "warnings.filterwarnings(\"ignore\")\n",
    "\n",
    "# Importing dataset\n",
    "(train_data, train_labels), (test_data, test_labels) = imdb.load_data(num_words=10000)\n",
    "print(train_data[0])"
   ]
  },
  {
   "cell_type": "code",
   "execution_count": 3,
   "id": "c3a6e5a5-c28b-4594-9f30-8a19c8f56527",
   "metadata": {},
   "outputs": [
    {
     "data": {
      "text/plain": [
       "\"? this film was just brilliant casting location scenery story direction everyone's really suited the part they played and you could just imagine being there robert ? is an amazing actor and now the same being director ? father came from the same scottish island as myself so i loved the fact there was a real connection with this film the witty remarks throughout the film were great it was just brilliant so much that i bought the film as soon as it was released for ? and would recommend it to everyone to watch and the fly fishing was amazing really cried at the end it was so sad and you know what they say if you cry at a film it must have been good and this definitely was also ? to the two little boy's that played the ? of norman and paul they were just brilliant children are often left out of the ? list i think because the stars that play them all grown up are such a big profile for the whole film but these children are amazing and should be praised for what they have done don't you think the whole story was so lovely because it was true and was someone's life after all that was shared with us all\""
      ]
     },
     "execution_count": 3,
     "metadata": {},
     "output_type": "execute_result"
    }
   ],
   "source": [
    "# Converting review index back to text\n",
    "word_index = imdb.get_word_index()\n",
    "reverse_word_index = dict(\n",
    "    [(value, key) for (key, value) in word_index.items()])\n",
    "decoded_review = ' '.join(\n",
    "    [reverse_word_index.get(i - 3, \"?\") for i in train_data[0]]) # 3 due to 0, 1, and 2 are reserved indices \n",
    "decoded_review"
   ]
  },
  {
   "cell_type": "code",
   "execution_count": 4,
   "id": "a4b8139c-3bc0-43cb-bc78-64a133f6d516",
   "metadata": {},
   "outputs": [
    {
     "data": {
      "text/plain": [
       "array([0., 1., 1., ..., 0., 0., 0.])"
      ]
     },
     "execution_count": 4,
     "metadata": {},
     "output_type": "execute_result"
    }
   ],
   "source": [
    "# Encoding integers into binary matrix\n",
    "def vectorize_sequences(sequences, dimension=10000):\n",
    "    results = np.zeros((len(sequences), dimension)) # creating all zero matrix (padding)\n",
    "    for i, sequence in enumerate(sequences):\n",
    "        results[i, sequence] = 1  # setting specific indices to 1\n",
    "    return results\n",
    "\n",
    "x_train = vectorize_sequences(train_data)\n",
    "x_test = vectorize_sequences(test_data)\n",
    "x_train[0]"
   ]
  },
  {
   "cell_type": "code",
   "execution_count": 5,
   "id": "5b46bf27-8924-42de-9825-91a10e4bbc57",
   "metadata": {},
   "outputs": [
    {
     "data": {
      "text/plain": [
       "array([1., 0., 0., ..., 0., 1., 0.], dtype=float32)"
      ]
     },
     "execution_count": 5,
     "metadata": {},
     "output_type": "execute_result"
    }
   ],
   "source": [
    "y_train = np.asarray(train_labels).astype('float32')\n",
    "y_test = np.asarray(test_labels).astype('float32')\n",
    "y_train"
   ]
  },
  {
   "cell_type": "code",
   "execution_count": 6,
   "id": "bf76dc08-ebfe-452e-b227-61fd6b78145f",
   "metadata": {},
   "outputs": [],
   "source": [
    "from keras import models\n",
    "from keras import layers\n",
    "\n",
    "# Creating neural network with 16 hidden layer and 2 intermediate layers\n",
    "model = models.Sequential()\n",
    "model.add(layers.Dense(16, activation='relu', input_shape=(10000,)))\n",
    "model.add(layers.Dense(16, activation='relu'))\n",
    "model.add(layers.Dense(1, activation='sigmoid'))\n",
    "\n",
    "model.compile(optimizer='rmsprop',\n",
    "                      loss='binary_crossentropy',\n",
    "                      metrics=['accuracy'])"
   ]
  },
  {
   "cell_type": "code",
   "execution_count": 7,
   "id": "b86dc74c-f70d-42d8-b19f-21420b52bf4c",
   "metadata": {},
   "outputs": [
    {
     "name": "stdout",
     "output_type": "stream",
     "text": [
      "Epoch 1/20\n",
      "30/30 [==============================] - 2s 53ms/step - loss: 0.5302 - acc: 0.7827 - val_loss: 0.4149 - val_acc: 0.8561\n",
      "Epoch 2/20\n",
      "30/30 [==============================] - 1s 20ms/step - loss: 0.3349 - acc: 0.8911 - val_loss: 0.3214 - val_acc: 0.8812\n",
      "Epoch 3/20\n",
      "30/30 [==============================] - 1s 22ms/step - loss: 0.2558 - acc: 0.9131 - val_loss: 0.2884 - val_acc: 0.8870\n",
      "Epoch 4/20\n",
      "30/30 [==============================] - 1s 22ms/step - loss: 0.2049 - acc: 0.9327 - val_loss: 0.3107 - val_acc: 0.8724\n",
      "Epoch 5/20\n",
      "30/30 [==============================] - 1s 23ms/step - loss: 0.1736 - acc: 0.9402 - val_loss: 0.2770 - val_acc: 0.8874\n",
      "Epoch 6/20\n",
      "30/30 [==============================] - 1s 21ms/step - loss: 0.1479 - acc: 0.9524 - val_loss: 0.2971 - val_acc: 0.8799\n",
      "Epoch 7/20\n",
      "30/30 [==============================] - 1s 22ms/step - loss: 0.1266 - acc: 0.9603 - val_loss: 0.3030 - val_acc: 0.8827\n",
      "Epoch 8/20\n",
      "30/30 [==============================] - 1s 22ms/step - loss: 0.1077 - acc: 0.9677 - val_loss: 0.3148 - val_acc: 0.8827\n",
      "Epoch 9/20\n",
      "30/30 [==============================] - 1s 35ms/step - loss: 0.0949 - acc: 0.9702 - val_loss: 0.3143 - val_acc: 0.8823\n",
      "Epoch 10/20\n",
      "30/30 [==============================] - 1s 25ms/step - loss: 0.0810 - acc: 0.9773 - val_loss: 0.3355 - val_acc: 0.8758\n",
      "Epoch 11/20\n",
      "30/30 [==============================] - 1s 27ms/step - loss: 0.0695 - acc: 0.9825 - val_loss: 0.3625 - val_acc: 0.8808\n",
      "Epoch 12/20\n",
      "30/30 [==============================] - 1s 28ms/step - loss: 0.0605 - acc: 0.9847 - val_loss: 0.3712 - val_acc: 0.8767\n",
      "Epoch 13/20\n",
      "30/30 [==============================] - 1s 26ms/step - loss: 0.0502 - acc: 0.9878 - val_loss: 0.4186 - val_acc: 0.8666\n",
      "Epoch 14/20\n",
      "30/30 [==============================] - 1s 26ms/step - loss: 0.0445 - acc: 0.9900 - val_loss: 0.4086 - val_acc: 0.8757\n",
      "Epoch 15/20\n",
      "30/30 [==============================] - 1s 25ms/step - loss: 0.0362 - acc: 0.9930 - val_loss: 0.4394 - val_acc: 0.8757\n",
      "Epoch 16/20\n",
      "30/30 [==============================] - 1s 26ms/step - loss: 0.0312 - acc: 0.9939 - val_loss: 0.4527 - val_acc: 0.8722\n",
      "Epoch 17/20\n",
      "30/30 [==============================] - 1s 28ms/step - loss: 0.0276 - acc: 0.9957 - val_loss: 0.4827 - val_acc: 0.8751\n",
      "Epoch 18/20\n",
      "30/30 [==============================] - 1s 24ms/step - loss: 0.0223 - acc: 0.9971 - val_loss: 0.4991 - val_acc: 0.8694\n",
      "Epoch 19/20\n",
      "30/30 [==============================] - 1s 26ms/step - loss: 0.0209 - acc: 0.9969 - val_loss: 0.5205 - val_acc: 0.8716\n",
      "Epoch 20/20\n",
      "30/30 [==============================] - 1s 26ms/step - loss: 0.0174 - acc: 0.9974 - val_loss: 0.5462 - val_acc: 0.8696\n"
     ]
    },
    {
     "data": {
      "text/plain": [
       "<keras.callbacks.History at 0x7f7c0c5e8f70>"
      ]
     },
     "execution_count": 7,
     "metadata": {},
     "output_type": "execute_result"
    }
   ],
   "source": [
    "# Spliting dataset into training and test\n",
    "x_val = x_train[:10000]\n",
    "partial_x_train = x_train[10000:]\n",
    "\n",
    "y_val = y_train[:10000]\n",
    "partial_y_train = y_train[10000:]\n",
    "\n",
    "# Applying optimizer and loss function\n",
    "model.compile(optimizer='rmsprop',\n",
    "              loss='binary_crossentropy',\n",
    "              metrics=['acc'])\n",
    "\n",
    "history = model.fit(partial_x_train, partial_y_train, epochs=20, batch_size=512, validation_data=(x_val, y_val))\n",
    "history"
   ]
  },
  {
   "cell_type": "code",
   "execution_count": 8,
   "id": "9b7cd9d7-8365-463d-9bfe-f62c9bf0c36f",
   "metadata": {},
   "outputs": [
    {
     "data": {
      "text/plain": [
       "dict_keys(['loss', 'acc', 'val_loss', 'val_acc'])"
      ]
     },
     "execution_count": 8,
     "metadata": {},
     "output_type": "execute_result"
    }
   ],
   "source": [
    "history_dict = history.history\n",
    "history_dict.keys()"
   ]
  },
  {
   "cell_type": "code",
   "execution_count": 9,
   "id": "573c3f38-6237-40e6-842c-623761269ee5",
   "metadata": {},
   "outputs": [
    {
     "data": {
      "image/png": "[encoded data removed]",
      "text/plain": [
       "<Figure size 432x288 with 1 Axes>"
      ]
     },
     "metadata": {
      "needs_background": "light"
     },
     "output_type": "display_data"
    }
   ],
   "source": [
    "import matplotlib.pyplot as plt\n",
    "history_dict = history.history\n",
    "loss_values = history_dict['loss']\n",
    "val_loss_values = history_dict['val_loss']\n",
    "epochs = range(1, len(loss_values) + 1)\n",
    "plt.plot(epochs, loss_values, 'bo', label='Training loss')\n",
    "plt.plot(epochs, val_loss_values, 'b', label='Validation loss')\n",
    "plt.title('Training and validation loss')\n",
    "plt.xlabel('Epochs')\n",
    "plt.ylabel('Loss')\n",
    "plt.legend()\n",
    "plt.show()"
   ]
  },
  {
   "cell_type": "code",
   "execution_count": 10,
   "id": "c29f1147-5305-4bc4-a7f9-8c0cecd50847",
   "metadata": {},
   "outputs": [
    {
     "data": {
      "image/png": "[encoded data removed]",
      "text/plain": [
       "<Figure size 432x288 with 1 Axes>"
      ]
     },
     "metadata": {
      "needs_background": "light"
     },
     "output_type": "display_data"
    }
   ],
   "source": [
    "plt.clf()\n",
    "acc_values = history_dict['acc'] \n",
    "val_acc_values = history_dict['val_acc']\n",
    "plt.plot(epochs, acc_values, 'bo', label='Training acc')\n",
    "plt.plot(epochs, val_acc_values, 'b', label='Validation acc')\n",
    "plt.title('Training and validation accuracy')\n",
    "plt.xlabel('Epochs')\n",
    "plt.ylabel('Loss')\n",
    "plt.legend()\n",
    "plt.show()"
   ]
  },
  {
   "cell_type": "markdown",
   "id": "918c653f-3b79-40ab-a4aa-d0dcbee2b090",
   "metadata": {},
   "source": [
    "The validation loss and accuracy seem to peak at 4 epoch and behavior differently than training set; therefore, the model is overfitting. Create another model with just 4 epoch. "
   ]
  },
  {
   "cell_type": "code",
   "execution_count": 11,
   "id": "6dcfa9c9-0ce0-4b42-98ba-93e6a5a0a2fa",
   "metadata": {},
   "outputs": [
    {
     "name": "stdout",
     "output_type": "stream",
     "text": [
      "Epoch 1/4\n",
      "49/49 [==============================] - 2s 17ms/step - loss: 0.4696 - accuracy: 0.8103\n",
      "Epoch 2/4\n",
      "49/49 [==============================] - 1s 16ms/step - loss: 0.2818 - accuracy: 0.9025\n",
      "Epoch 3/4\n",
      "49/49 [==============================] - 1s 17ms/step - loss: 0.2180 - accuracy: 0.9234\n",
      "Epoch 4/4\n",
      "49/49 [==============================] - 1s 17ms/step - loss: 0.1845 - accuracy: 0.9350\n"
     ]
    },
    {
     "data": {
      "text/plain": [
       "<keras.callbacks.History at 0x7f7c02e88820>"
      ]
     },
     "execution_count": 11,
     "metadata": {},
     "output_type": "execute_result"
    }
   ],
   "source": [
    "model = models.Sequential()\n",
    "model.add(layers.Dense(16, activation='relu', input_shape=(10000,)))\n",
    "model.add(layers.Dense(16, activation='relu'))\n",
    "model.add(layers.Dense(1, activation='sigmoid'))\n",
    "\n",
    "model.compile(optimizer='rmsprop',\n",
    "                      loss='binary_crossentropy',\n",
    "                      metrics=['accuracy'])\n",
    "\n",
    "model.fit(x_train, y_train, epochs=4, batch_size=512)"
   ]
  },
  {
   "cell_type": "code",
   "execution_count": 12,
   "id": "03bff38a-0ebe-4d6b-9c41-ea39225f44d2",
   "metadata": {},
   "outputs": [
    {
     "name": "stdout",
     "output_type": "stream",
     "text": [
      "782/782 [==============================] - 3s 3ms/step - loss: 0.3064 - accuracy: 0.8774\n"
     ]
    },
    {
     "data": {
      "text/plain": [
       "[0.306423157453537, 0.8773599863052368]"
      ]
     },
     "execution_count": 12,
     "metadata": {},
     "output_type": "execute_result"
    }
   ],
   "source": [
    "# Calculating accuracy\n",
    "model.evaluate(x_test, y_test)"
   ]
  },
  {
   "cell_type": "code",
   "execution_count": 13,
   "id": "b2f830a8-035c-4671-9455-044f5b690458",
   "metadata": {},
   "outputs": [
    {
     "name": "stdout",
     "output_type": "stream",
     "text": [
      "782/782 [==============================] - 3s 3ms/step\n"
     ]
    },
    {
     "data": {
      "text/plain": [
       "array([[0.17496145],\n",
       "       [0.9967825 ],\n",
       "       [0.39876187],\n",
       "       ...,\n",
       "       [0.07975207],\n",
       "       [0.04820384],\n",
       "       [0.45399916]], dtype=float32)"
      ]
     },
     "execution_count": 13,
     "metadata": {},
     "output_type": "execute_result"
    }
   ],
   "source": [
    "# Generating prediction\n",
    "model.predict(x_test)"
   ]
  },
  {
   "cell_type": "code",
   "execution_count": null,
   "id": "c51f472f-a347-4e75-8376-a55a5b020429",
   "metadata": {},
   "outputs": [],
   "source": []
  },
  {
   "cell_type": "code",
   "execution_count": 14,
   "id": "a2c945c4-9ebf-4809-a8a3-ce2f09d41f9e",
   "metadata": {},
   "outputs": [
    {
     "name": "stdout",
     "output_type": "stream",
     "text": [
      "Epoch 1/20\n",
      "30/30 [==============================] - 3s 90ms/step - loss: 0.1700 - accuracy: 0.7797 - val_loss: 0.1238 - val_accuracy: 0.8661\n",
      "Epoch 2/20\n",
      "30/30 [==============================] - 1s 33ms/step - loss: 0.1033 - accuracy: 0.8862 - val_loss: 0.1012 - val_accuracy: 0.8764\n",
      "Epoch 3/20\n",
      "30/30 [==============================] - 1s 27ms/step - loss: 0.0811 - accuracy: 0.9098 - val_loss: 0.0916 - val_accuracy: 0.8844\n",
      "Epoch 4/20\n",
      "30/30 [==============================] - 1s 28ms/step - loss: 0.0685 - accuracy: 0.9220 - val_loss: 0.0860 - val_accuracy: 0.8885\n",
      "Epoch 5/20\n",
      "30/30 [==============================] - 1s 28ms/step - loss: 0.0608 - accuracy: 0.9289 - val_loss: 0.0921 - val_accuracy: 0.8743\n",
      "Epoch 6/20\n",
      "30/30 [==============================] - 1s 30ms/step - loss: 0.0532 - accuracy: 0.9397 - val_loss: 0.0833 - val_accuracy: 0.8881\n",
      "Epoch 7/20\n",
      "30/30 [==============================] - 1s 31ms/step - loss: 0.0490 - accuracy: 0.9463 - val_loss: 0.0830 - val_accuracy: 0.8861\n",
      "Epoch 8/20\n",
      "30/30 [==============================] - 1s 31ms/step - loss: 0.0444 - accuracy: 0.9518 - val_loss: 0.0925 - val_accuracy: 0.8719\n",
      "Epoch 9/20\n",
      "30/30 [==============================] - 1s 30ms/step - loss: 0.0404 - accuracy: 0.9573 - val_loss: 0.0852 - val_accuracy: 0.8810\n",
      "Epoch 10/20\n",
      "30/30 [==============================] - 1s 33ms/step - loss: 0.0367 - accuracy: 0.9619 - val_loss: 0.0915 - val_accuracy: 0.8778\n",
      "Epoch 11/20\n",
      "30/30 [==============================] - 1s 29ms/step - loss: 0.0338 - accuracy: 0.9656 - val_loss: 0.0871 - val_accuracy: 0.8817\n",
      "Epoch 12/20\n",
      "30/30 [==============================] - 1s 31ms/step - loss: 0.0306 - accuracy: 0.9703 - val_loss: 0.0906 - val_accuracy: 0.8814\n",
      "Epoch 13/20\n",
      "30/30 [==============================] - 1s 36ms/step - loss: 0.0300 - accuracy: 0.9704 - val_loss: 0.0902 - val_accuracy: 0.8772\n",
      "Epoch 14/20\n",
      "30/30 [==============================] - 1s 28ms/step - loss: 0.0261 - accuracy: 0.9752 - val_loss: 0.0997 - val_accuracy: 0.8645\n",
      "Epoch 15/20\n",
      "30/30 [==============================] - 1s 27ms/step - loss: 0.0248 - accuracy: 0.9777 - val_loss: 0.0978 - val_accuracy: 0.8693\n",
      "Epoch 16/20\n",
      "30/30 [==============================] - 1s 30ms/step - loss: 0.0243 - accuracy: 0.9770 - val_loss: 0.0920 - val_accuracy: 0.8776\n",
      "Epoch 17/20\n",
      "30/30 [==============================] - 1s 32ms/step - loss: 0.0214 - accuracy: 0.9803 - val_loss: 0.0935 - val_accuracy: 0.8757\n",
      "Epoch 18/20\n",
      "30/30 [==============================] - 1s 27ms/step - loss: 0.0191 - accuracy: 0.9839 - val_loss: 0.0939 - val_accuracy: 0.8768\n",
      "Epoch 19/20\n",
      "30/30 [==============================] - 1s 33ms/step - loss: 0.0187 - accuracy: 0.9837 - val_loss: 0.0967 - val_accuracy: 0.8762\n",
      "Epoch 20/20\n",
      "30/30 [==============================] - 1s 31ms/step - loss: 0.0179 - accuracy: 0.9842 - val_loss: 0.0973 - val_accuracy: 0.8718\n"
     ]
    },
    {
     "data": {
      "text/plain": [
       "dict_keys(['loss', 'accuracy', 'val_loss', 'val_accuracy'])"
      ]
     },
     "execution_count": 14,
     "metadata": {},
     "output_type": "execute_result"
    }
   ],
   "source": [
    "# Further experiments with one hidden layer, 32 units,'tanh' activation function, and mse loss function\n",
    "model = models.Sequential()\n",
    "model.add(layers.Dense(32, activation='tanh', input_shape=(10000,)))\n",
    "model.add(layers.Dense(1, activation='sigmoid'))\n",
    "\n",
    "model.compile(optimizer='rmsprop',\n",
    "                      loss='mse',\n",
    "                      metrics=['accuracy'])\n",
    "\n",
    "history = model.fit(partial_x_train, partial_y_train, epochs=20, batch_size=512, validation_data=(x_val, y_val))\n",
    "history_dict = history.history\n",
    "history_dict.keys()"
   ]
  },
  {
   "cell_type": "code",
   "execution_count": 15,
   "id": "3aadbbc9-f42c-40cb-a723-2626b02326ea",
   "metadata": {},
   "outputs": [
    {
     "data": {
      "image/png": "[encoded data removed]",
      "text/plain": [
       "<Figure size 432x288 with 1 Axes>"
      ]
     },
     "metadata": {
      "needs_background": "light"
     },
     "output_type": "display_data"
    },
    {
     "data": {
      "image/png": "[encoded data removed]",
      "text/plain": [
       "<Figure size 432x288 with 1 Axes>"
      ]
     },
     "metadata": {
      "needs_background": "light"
     },
     "output_type": "display_data"
    }
   ],
   "source": [
    "import matplotlib.pyplot as plt\n",
    "\n",
    "# Loss plot\n",
    "history_dict = history.history\n",
    "loss_values = history_dict['loss']\n",
    "val_loss_values = history_dict['val_loss']\n",
    "epochs = range(1, len(loss_values) + 1)\n",
    "plt.plot(epochs, loss_values, 'bo', label='Training loss')\n",
    "plt.plot(epochs, val_loss_values, 'b', label='Validation loss')\n",
    "plt.title('Training and validation loss')\n",
    "plt.xlabel('Epochs')\n",
    "plt.ylabel('Loss')\n",
    "plt.legend()\n",
    "plt.show()\n",
    "\n",
    "# Accuracy plot\n",
    "plt.clf()\n",
    "acc_values = history_dict['accuracy'] \n",
    "val_acc_values = history_dict['val_accuracy']\n",
    "plt.plot(epochs, acc_values, 'bo', label='Training acc')\n",
    "plt.plot(epochs, val_acc_values, 'b', label='Validation acc')\n",
    "plt.title('Training and validation accuracy')\n",
    "plt.xlabel('Epochs')\n",
    "plt.ylabel('Loss')\n",
    "plt.legend()\n",
    "plt.show()"
   ]
  },
  {
   "cell_type": "code",
   "execution_count": 16,
   "id": "efea8392-6f16-44e3-8ab9-e9dfa1da75cc",
   "metadata": {},
   "outputs": [
    {
     "name": "stdout",
     "output_type": "stream",
     "text": [
      "Epoch 1/20\n",
      "30/30 [==============================] - 3s 57ms/step - loss: 0.1602 - accuracy: 0.7685 - val_loss: 0.1271 - val_accuracy: 0.8206\n",
      "Epoch 2/20\n",
      "30/30 [==============================] - 1s 28ms/step - loss: 0.0826 - accuracy: 0.8913 - val_loss: 0.0835 - val_accuracy: 0.8871\n",
      "Epoch 3/20\n",
      "30/30 [==============================] - 1s 32ms/step - loss: 0.0613 - accuracy: 0.9209 - val_loss: 0.0843 - val_accuracy: 0.8849\n",
      "Epoch 4/20\n",
      "30/30 [==============================] - 1s 32ms/step - loss: 0.0518 - accuracy: 0.9337 - val_loss: 0.1077 - val_accuracy: 0.8605\n",
      "Epoch 5/20\n",
      "30/30 [==============================] - 1s 29ms/step - loss: 0.0405 - accuracy: 0.9502 - val_loss: 0.1094 - val_accuracy: 0.8582\n",
      "Epoch 6/20\n",
      "30/30 [==============================] - 1s 28ms/step - loss: 0.0393 - accuracy: 0.9509 - val_loss: 0.0917 - val_accuracy: 0.8827\n",
      "Epoch 7/20\n",
      "30/30 [==============================] - 1s 29ms/step - loss: 0.0317 - accuracy: 0.9621 - val_loss: 0.1069 - val_accuracy: 0.8663\n",
      "Epoch 8/20\n",
      "30/30 [==============================] - 1s 33ms/step - loss: 0.0272 - accuracy: 0.9686 - val_loss: 0.1088 - val_accuracy: 0.8666\n",
      "Epoch 9/20\n",
      "30/30 [==============================] - 1s 28ms/step - loss: 0.0256 - accuracy: 0.9693 - val_loss: 0.1035 - val_accuracy: 0.8745\n",
      "Epoch 10/20\n",
      "30/30 [==============================] - 1s 28ms/step - loss: 0.0240 - accuracy: 0.9705 - val_loss: 0.1055 - val_accuracy: 0.8736\n",
      "Epoch 11/20\n",
      "30/30 [==============================] - 1s 28ms/step - loss: 0.0210 - accuracy: 0.9761 - val_loss: 0.1031 - val_accuracy: 0.8790\n",
      "Epoch 12/20\n",
      "30/30 [==============================] - 1s 28ms/step - loss: 0.0186 - accuracy: 0.9797 - val_loss: 0.1051 - val_accuracy: 0.8757\n",
      "Epoch 13/20\n",
      "30/30 [==============================] - 1s 30ms/step - loss: 0.0176 - accuracy: 0.9801 - val_loss: 0.1242 - val_accuracy: 0.8566\n",
      "Epoch 14/20\n",
      "30/30 [==============================] - 1s 32ms/step - loss: 0.0171 - accuracy: 0.9812 - val_loss: 0.1088 - val_accuracy: 0.8730\n",
      "Epoch 15/20\n",
      "30/30 [==============================] - 1s 32ms/step - loss: 0.0167 - accuracy: 0.9817 - val_loss: 0.1110 - val_accuracy: 0.8718\n",
      "Epoch 16/20\n",
      "30/30 [==============================] - 1s 30ms/step - loss: 0.0166 - accuracy: 0.9819 - val_loss: 0.1117 - val_accuracy: 0.8703\n",
      "Epoch 17/20\n",
      "30/30 [==============================] - 1s 31ms/step - loss: 0.0125 - accuracy: 0.9873 - val_loss: 0.1270 - val_accuracy: 0.8573\n",
      "Epoch 18/20\n",
      "30/30 [==============================] - 1s 32ms/step - loss: 0.0101 - accuracy: 0.9901 - val_loss: 0.1498 - val_accuracy: 0.8320\n",
      "Epoch 19/20\n",
      "30/30 [==============================] - 1s 32ms/step - loss: 0.0141 - accuracy: 0.9840 - val_loss: 0.1183 - val_accuracy: 0.8657\n",
      "Epoch 20/20\n",
      "30/30 [==============================] - 1s 34ms/step - loss: 0.0145 - accuracy: 0.9838 - val_loss: 0.1131 - val_accuracy: 0.8717\n"
     ]
    },
    {
     "data": {
      "image/png": "[encoded data removed]",
      "text/plain": [
       "<Figure size 432x288 with 1 Axes>"
      ]
     },
     "metadata": {
      "needs_background": "light"
     },
     "output_type": "display_data"
    },
    {
     "data": {
      "image/png": "[encoded data removed]",
      "text/plain": [
       "<Figure size 432x288 with 1 Axes>"
      ]
     },
     "metadata": {
      "needs_background": "light"
     },
     "output_type": "display_data"
    }
   ],
   "source": [
    "# Further experiments with three hidden layer, 32 units,'tanh' activation function, and mse loss function\n",
    "model = models.Sequential()\n",
    "model.add(layers.Dense(32, activation='tanh', input_shape=(10000,)))\n",
    "model.add(layers.Dense(32, activation='tanh'))\n",
    "model.add(layers.Dense(32, activation='tanh'))\n",
    "model.add(layers.Dense(1, activation='sigmoid'))\n",
    "\n",
    "model.compile(optimizer='rmsprop',\n",
    "                      loss='mse',\n",
    "                      metrics=['accuracy'])\n",
    "\n",
    "history = model.fit(partial_x_train, partial_y_train, epochs=20, batch_size=512, validation_data=(x_val, y_val))\n",
    "\n",
    "# Plotting loss plot\n",
    "history_dict = history.history\n",
    "loss_values = history_dict['loss']\n",
    "val_loss_values = history_dict['val_loss']\n",
    "epochs = range(1, len(loss_values) + 1)\n",
    "plt.plot(epochs, loss_values, 'go', label='Training loss')\n",
    "plt.plot(epochs, val_loss_values, 'g', label='Validation loss')\n",
    "plt.title('Training and validation loss')\n",
    "plt.xlabel('Epochs')\n",
    "plt.ylabel('Loss')\n",
    "plt.legend()\n",
    "plt.show()\n",
    "\n",
    "# Plotting Accuracy plot\n",
    "plt.clf()\n",
    "acc_values = history_dict['accuracy'] \n",
    "val_acc_values = history_dict['val_accuracy']\n",
    "plt.plot(epochs, acc_values, 'go', label='Training acc')\n",
    "plt.plot(epochs, val_acc_values, 'g', label='Validation acc')\n",
    "plt.title('Training and validation accuracy')\n",
    "plt.xlabel('Epochs')\n",
    "plt.ylabel('Loss')\n",
    "plt.legend()\n",
    "plt.show()"
   ]
  },
  {
   "cell_type": "code",
   "execution_count": null,
   "id": "ca0f0008-f7b9-41db-9dd4-152051db5ef1",
   "metadata": {},
   "outputs": [],
   "source": []
  },
  {
   "cell_type": "code",
   "execution_count": null,
   "id": "7cc99590-39d3-4086-8927-9a0c02ff5fee",
   "metadata": {},
   "outputs": [],
   "source": []
  },
  {
   "cell_type": "markdown",
   "id": "4c515b20-d5dc-429d-a6ce-165d63299ec1",
   "metadata": {},
   "source": [
    "# 5.2 Assignment"
   ]
  },
  {
   "cell_type": "code",
   "execution_count": 17,
   "id": "8501b782-e383-40ce-abd0-a1f95da22fbd",
   "metadata": {},
   "outputs": [
    {
     "name": "stdout",
     "output_type": "stream",
     "text": [
      "[1, 2, 2, 8, 43, 10, 447, 5, 25, 207, 270, 5, 3095, 111, 16, 369, 186, 90, 67, 7, 89, 5, 19, 102, 6, 19, 124, 15, 90, 67, 84, 22, 482, 26, 7, 48, 4, 49, 8, 864, 39, 209, 154, 6, 151, 6, 83, 11, 15, 22, 155, 11, 15, 7, 48, 9, 4579, 1005, 504, 6, 258, 6, 272, 11, 15, 22, 134, 44, 11, 15, 16, 8, 197, 1245, 90, 67, 52, 29, 209, 30, 32, 132, 6, 109, 15, 17, 12]\n"
     ]
    }
   ],
   "source": [
    "# importing dataset\n",
    "from keras.datasets import reuters\n",
    "(train_data, train_labels), (test_data, test_labels) = reuters.load_data(num_words=10000)\n",
    "print(train_data[0])"
   ]
  },
  {
   "cell_type": "code",
   "execution_count": 18,
   "id": "f6bf5463-dd48-41d4-a3fb-1717a086cc55",
   "metadata": {},
   "outputs": [
    {
     "name": "stdout",
     "output_type": "stream",
     "text": [
      "8982\n",
      "2246\n"
     ]
    }
   ],
   "source": [
    "print(len(train_data))\n",
    "print(len(test_data))"
   ]
  },
  {
   "cell_type": "code",
   "execution_count": 19,
   "id": "0ce40c66-74f9-499c-a5da-d6fbf87e92e3",
   "metadata": {},
   "outputs": [
    {
     "data": {
      "text/plain": [
       "'? ? ? said as a result of its december acquisition of space co it expects earnings per share in 1987 of 1 15 to 1 30 dlrs per share up from 70 cts in 1986 the company said pretax net should rise to nine to 10 mln dlrs from six mln dlrs in 1986 and rental operation revenues to 19 to 22 mln dlrs from 12 5 mln dlrs it said cash flow per share this year should be 2 50 to three dlrs reuter 3'"
      ]
     },
     "execution_count": 19,
     "metadata": {},
     "output_type": "execute_result"
    }
   ],
   "source": [
    "# Convering index to words\n",
    "word_index = reuters.get_word_index()\n",
    "reverse_word_index = dict([(value, key) for (key, value) in word_index.items()])\n",
    "decoded_newswire = ' '.join([reverse_word_index.get(i-3, '?') for i in train_data[0]])\n",
    "decoded_newswire"
   ]
  },
  {
   "cell_type": "code",
   "execution_count": 20,
   "id": "f3d4064f-2427-42ef-94f0-381f4fd5271c",
   "metadata": {},
   "outputs": [
    {
     "data": {
      "text/plain": [
       "array([[0., 1., 1., ..., 0., 0., 0.],\n",
       "       [0., 1., 1., ..., 0., 0., 0.],\n",
       "       [0., 1., 1., ..., 0., 0., 0.],\n",
       "       ...,\n",
       "       [0., 1., 1., ..., 0., 0., 0.],\n",
       "       [0., 1., 1., ..., 0., 0., 0.],\n",
       "       [0., 1., 1., ..., 0., 0., 0.]])"
      ]
     },
     "execution_count": 20,
     "metadata": {},
     "output_type": "execute_result"
    }
   ],
   "source": [
    "import numpy as np\n",
    "\n",
    "# Vectorizing data\n",
    "x_train = vectorize_sequences(train_data)\n",
    "x_test = vectorize_sequences(test_data)\n",
    "x_train"
   ]
  },
  {
   "cell_type": "code",
   "execution_count": 21,
   "id": "709fb38f-352a-4abe-a193-347c85a3dd9e",
   "metadata": {},
   "outputs": [],
   "source": [
    "# Built-in function to hot-encode categorical data\n",
    "from keras.utils.np_utils import to_categorical\n",
    "\n",
    "one_hot_train_labels = to_categorical(train_labels)\n",
    "one_hot_test_labels = to_categorical(test_labels)"
   ]
  },
  {
   "cell_type": "code",
   "execution_count": 22,
   "id": "f2333961-538e-46e5-9fde-5434746a4c64",
   "metadata": {},
   "outputs": [
    {
     "name": "stdout",
     "output_type": "stream",
     "text": [
      "Epoch 1/20\n",
      "16/16 [==============================] - 1s 53ms/step - loss: 2.6457 - accuracy: 0.5243 - val_loss: 1.8149 - val_accuracy: 0.6250\n",
      "Epoch 2/20\n",
      "16/16 [==============================] - 1s 43ms/step - loss: 1.5195 - accuracy: 0.6829 - val_loss: 1.3686 - val_accuracy: 0.6880\n",
      "Epoch 3/20\n",
      "16/16 [==============================] - 1s 40ms/step - loss: 1.1612 - accuracy: 0.7471 - val_loss: 1.1938 - val_accuracy: 0.7380\n",
      "Epoch 4/20\n",
      "16/16 [==============================] - 1s 39ms/step - loss: 0.9434 - accuracy: 0.7957 - val_loss: 1.0809 - val_accuracy: 0.7600\n",
      "Epoch 5/20\n",
      "16/16 [==============================] - 1s 41ms/step - loss: 0.7853 - accuracy: 0.8279 - val_loss: 1.0113 - val_accuracy: 0.7770\n",
      "Epoch 6/20\n",
      "16/16 [==============================] - 1s 46ms/step - loss: 0.6500 - accuracy: 0.8569 - val_loss: 0.9601 - val_accuracy: 0.8010\n",
      "Epoch 7/20\n",
      "16/16 [==============================] - 1s 44ms/step - loss: 0.5471 - accuracy: 0.8812 - val_loss: 0.9396 - val_accuracy: 0.8080\n",
      "Epoch 8/20\n",
      "16/16 [==============================] - 1s 40ms/step - loss: 0.4594 - accuracy: 0.9005 - val_loss: 0.9669 - val_accuracy: 0.7850\n",
      "Epoch 9/20\n",
      "16/16 [==============================] - 1s 40ms/step - loss: 0.3925 - accuracy: 0.9162 - val_loss: 0.9155 - val_accuracy: 0.8130\n",
      "Epoch 10/20\n",
      "16/16 [==============================] - 1s 41ms/step - loss: 0.3346 - accuracy: 0.9276 - val_loss: 0.8950 - val_accuracy: 0.8170\n",
      "Epoch 11/20\n",
      "16/16 [==============================] - 1s 41ms/step - loss: 0.2899 - accuracy: 0.9381 - val_loss: 0.9425 - val_accuracy: 0.8070\n",
      "Epoch 12/20\n",
      "16/16 [==============================] - 1s 43ms/step - loss: 0.2543 - accuracy: 0.9426 - val_loss: 0.9134 - val_accuracy: 0.8130\n",
      "Epoch 13/20\n",
      "16/16 [==============================] - 1s 38ms/step - loss: 0.2255 - accuracy: 0.9453 - val_loss: 0.9177 - val_accuracy: 0.8130\n",
      "Epoch 14/20\n",
      "16/16 [==============================] - 1s 37ms/step - loss: 0.2078 - accuracy: 0.9515 - val_loss: 0.9617 - val_accuracy: 0.8020\n",
      "Epoch 15/20\n",
      "16/16 [==============================] - 1s 36ms/step - loss: 0.1821 - accuracy: 0.9504 - val_loss: 0.9133 - val_accuracy: 0.8140\n",
      "Epoch 16/20\n",
      "16/16 [==============================] - 1s 37ms/step - loss: 0.1731 - accuracy: 0.9526 - val_loss: 0.9247 - val_accuracy: 0.8170\n",
      "Epoch 17/20\n",
      "16/16 [==============================] - 1s 38ms/step - loss: 0.1575 - accuracy: 0.9560 - val_loss: 0.9537 - val_accuracy: 0.8070\n",
      "Epoch 18/20\n",
      "16/16 [==============================] - 1s 40ms/step - loss: 0.1513 - accuracy: 0.9550 - val_loss: 0.9784 - val_accuracy: 0.8120\n",
      "Epoch 19/20\n",
      "16/16 [==============================] - 1s 40ms/step - loss: 0.1399 - accuracy: 0.9553 - val_loss: 1.0053 - val_accuracy: 0.8150\n",
      "Epoch 20/20\n",
      "16/16 [==============================] - 1s 39ms/step - loss: 0.1372 - accuracy: 0.9562 - val_loss: 0.9997 - val_accuracy: 0.8030\n"
     ]
    },
    {
     "data": {
      "text/plain": [
       "dict_keys(['loss', 'accuracy', 'val_loss', 'val_accuracy'])"
      ]
     },
     "execution_count": 22,
     "metadata": {},
     "output_type": "execute_result"
    }
   ],
   "source": [
    "from keras import models\n",
    "from keras import layers\n",
    "\n",
    "# Applying layers\n",
    "model = models.Sequential()\n",
    "model.add(layers.Dense(64, activation='relu', input_shape=(10000,)))\n",
    "model.add(layers.Dense(64, activation='relu'))\n",
    "model.add(layers.Dense(46, activation='softmax'))\n",
    "\n",
    "model.compile(optimizer='rmsprop',\n",
    "              loss='categorical_crossentropy',\n",
    "              metrics=['accuracy'])\n",
    "\n",
    "# Splitting training data into training and validation\n",
    "x_val = x_train[:1000]\n",
    "partial_x_train = x_train[1000:]\n",
    "y_val = one_hot_train_labels[:1000]\n",
    "partial_y_train = one_hot_train_labels[1000:]\n",
    "\n",
    "# Fitting data to the model\n",
    "history = model.fit(partial_x_train, partial_y_train, epochs=20, batch_size=512, validation_data=(x_val, y_val))\n",
    "history_dict = history.history\n",
    "history_dict.keys()"
   ]
  },
  {
   "cell_type": "code",
   "execution_count": 23,
   "id": "6a1f8112-2026-4f2b-a4c7-c8581483350b",
   "metadata": {},
   "outputs": [
    {
     "data": {
      "image/png": "[encoded data removed]",
      "text/plain": [
       "<Figure size 432x288 with 1 Axes>"
      ]
     },
     "metadata": {
      "needs_background": "light"
     },
     "output_type": "display_data"
    },
    {
     "data": {
      "image/png": "[encoded data removed]",
      "text/plain": [
       "<Figure size 432x288 with 1 Axes>"
      ]
     },
     "metadata": {
      "needs_background": "light"
     },
     "output_type": "display_data"
    }
   ],
   "source": [
    "import matplotlib.pyplot as plt \n",
    "\n",
    "# Creating loss plot\n",
    "loss_values = history_dict['loss']\n",
    "val_loss_values = history_dict['val_loss']\n",
    "epochs = range(1, len(loss_values) + 1)\n",
    "plt.plot(epochs, loss_values, 'bo', label='Training loss')\n",
    "plt.plot(epochs, val_loss_values, 'b', label='Validation loss')\n",
    "plt.title('Training and validation loss')\n",
    "plt.xlabel('Epochs')\n",
    "plt.ylabel('Loss')\n",
    "plt.legend()\n",
    "plt.show()\n",
    "\n",
    "# Creating accuracy plot\n",
    "plt.clf()\n",
    "acc_values = history_dict['accuracy'] \n",
    "val_acc_values = history_dict['val_accuracy']\n",
    "plt.plot(epochs, acc_values, 'go', label='Training acc')\n",
    "plt.plot(epochs, val_acc_values, 'g', label='Validation acc')\n",
    "plt.title('Training and validation accuracy')\n",
    "plt.xlabel('Epochs')\n",
    "plt.ylabel('Loss')\n",
    "plt.legend()\n",
    "plt.show()"
   ]
  },
  {
   "cell_type": "code",
   "execution_count": 24,
   "id": "98d3631a-4ba9-4487-b8e9-e27f7da564f9",
   "metadata": {},
   "outputs": [
    {
     "name": "stdout",
     "output_type": "stream",
     "text": [
      "Epoch 1/9\n",
      "16/16 [==============================] - 1s 52ms/step - loss: 2.7395 - accuracy: 0.4767 - val_loss: 1.8270 - val_accuracy: 0.6340\n",
      "Epoch 2/9\n",
      "16/16 [==============================] - 1s 36ms/step - loss: 1.5028 - accuracy: 0.6916 - val_loss: 1.3481 - val_accuracy: 0.7040\n",
      "Epoch 3/9\n",
      "16/16 [==============================] - 1s 36ms/step - loss: 1.1452 - accuracy: 0.7538 - val_loss: 1.1564 - val_accuracy: 0.7430\n",
      "Epoch 4/9\n",
      "16/16 [==============================] - 1s 38ms/step - loss: 0.9334 - accuracy: 0.8004 - val_loss: 1.0667 - val_accuracy: 0.7580\n",
      "Epoch 5/9\n",
      "16/16 [==============================] - 1s 37ms/step - loss: 0.7774 - accuracy: 0.8311 - val_loss: 0.9856 - val_accuracy: 0.7880\n",
      "Epoch 6/9\n",
      "16/16 [==============================] - 1s 37ms/step - loss: 0.6422 - accuracy: 0.8608 - val_loss: 0.9409 - val_accuracy: 0.8070\n",
      "Epoch 7/9\n",
      "16/16 [==============================] - 1s 37ms/step - loss: 0.5375 - accuracy: 0.8846 - val_loss: 0.9115 - val_accuracy: 0.8000\n",
      "Epoch 8/9\n",
      "16/16 [==============================] - 1s 37ms/step - loss: 0.4532 - accuracy: 0.9034 - val_loss: 0.8890 - val_accuracy: 0.7970\n",
      "Epoch 9/9\n",
      "16/16 [==============================] - 1s 37ms/step - loss: 0.3800 - accuracy: 0.9188 - val_loss: 0.8704 - val_accuracy: 0.8200\n",
      "71/71 [==============================] - 0s 3ms/step - loss: 0.9338 - accuracy: 0.7881\n"
     ]
    },
    {
     "data": {
      "text/plain": [
       "[0.9337555766105652, 0.7880676984786987]"
      ]
     },
     "execution_count": 24,
     "metadata": {},
     "output_type": "execute_result"
    }
   ],
   "source": [
    "from keras import models\n",
    "from keras import layers\n",
    "\n",
    "# Creating a neural network with 64 units and categorical_crossentropy loss function\n",
    "model = models.Sequential()\n",
    "model.add(layers.Dense(64, activation='relu', input_shape=(10000,)))\n",
    "model.add(layers.Dense(64, activation='relu'))\n",
    "model.add(layers.Dense(46, activation='softmax'))\n",
    "\n",
    "model.compile(optimizer='rmsprop',\n",
    "              loss='categorical_crossentropy',\n",
    "              metrics=['accuracy'])\n",
    "\n",
    "model.fit(partial_x_train, partial_y_train, epochs=9, batch_size=512, validation_data=(x_val, y_val))\n",
    "\n",
    "model.evaluate(x_test, one_hot_test_labels)"
   ]
  },
  {
   "cell_type": "code",
   "execution_count": 25,
   "id": "ac549c8b-18fe-459a-9e46-c40f67ab8fc0",
   "metadata": {},
   "outputs": [
    {
     "name": "stdout",
     "output_type": "stream",
     "text": [
      "71/71 [==============================] - 0s 3ms/step\n",
      "0.9999998\n",
      "3\n"
     ]
    },
    {
     "data": {
      "text/plain": [
       "(46,)"
      ]
     },
     "execution_count": 25,
     "metadata": {},
     "output_type": "execute_result"
    }
   ],
   "source": [
    "# Generating prediction\n",
    "predictions = model.predict(x_test)\n",
    "print(np.sum(predictions[0]))\n",
    "print(np.argmax(predictions[0]))\n",
    "predictions[0].shape"
   ]
  },
  {
   "cell_type": "code",
   "execution_count": 26,
   "id": "f80f84d1-bd49-4ed2-ba35-77848e8c306c",
   "metadata": {},
   "outputs": [
    {
     "name": "stdout",
     "output_type": "stream",
     "text": [
      "Epoch 1/20\n",
      "63/63 [==============================] - 2s 18ms/step - loss: 2.8154 - accuracy: 0.3499 - val_loss: 2.2921 - val_accuracy: 0.3630\n",
      "Epoch 2/20\n",
      "63/63 [==============================] - 1s 16ms/step - loss: 2.0253 - accuracy: 0.3945 - val_loss: 1.8727 - val_accuracy: 0.4250\n",
      "Epoch 3/20\n",
      "63/63 [==============================] - 1s 16ms/step - loss: 1.6532 - accuracy: 0.4793 - val_loss: 1.6301 - val_accuracy: 0.5830\n",
      "Epoch 4/20\n",
      "63/63 [==============================] - 1s 17ms/step - loss: 1.4218 - accuracy: 0.6194 - val_loss: 1.5053 - val_accuracy: 0.6290\n",
      "Epoch 5/20\n",
      "63/63 [==============================] - 1s 17ms/step - loss: 1.2823 - accuracy: 0.6505 - val_loss: 1.4681 - val_accuracy: 0.6480\n",
      "Epoch 6/20\n",
      "63/63 [==============================] - 1s 17ms/step - loss: 1.1744 - accuracy: 0.6892 - val_loss: 1.4113 - val_accuracy: 0.6690\n",
      "Epoch 7/20\n",
      "63/63 [==============================] - 1s 18ms/step - loss: 1.0777 - accuracy: 0.7020 - val_loss: 1.4031 - val_accuracy: 0.6730\n",
      "Epoch 8/20\n",
      "63/63 [==============================] - 1s 18ms/step - loss: 0.9920 - accuracy: 0.7314 - val_loss: 1.3788 - val_accuracy: 0.6900\n",
      "Epoch 9/20\n",
      "63/63 [==============================] - 1s 19ms/step - loss: 0.9139 - accuracy: 0.7615 - val_loss: 1.3663 - val_accuracy: 0.7030\n",
      "Epoch 10/20\n",
      "63/63 [==============================] - 1s 16ms/step - loss: 0.8505 - accuracy: 0.7746 - val_loss: 1.4017 - val_accuracy: 0.6920\n",
      "Epoch 11/20\n",
      "63/63 [==============================] - 1s 16ms/step - loss: 0.7964 - accuracy: 0.7820 - val_loss: 1.3712 - val_accuracy: 0.7090\n",
      "Epoch 12/20\n",
      "63/63 [==============================] - 1s 16ms/step - loss: 0.7494 - accuracy: 0.7924 - val_loss: 1.4305 - val_accuracy: 0.7050\n",
      "Epoch 13/20\n",
      "63/63 [==============================] - 1s 18ms/step - loss: 0.7072 - accuracy: 0.7997 - val_loss: 1.4231 - val_accuracy: 0.7080\n",
      "Epoch 14/20\n",
      "63/63 [==============================] - 1s 19ms/step - loss: 0.6696 - accuracy: 0.8049 - val_loss: 1.4739 - val_accuracy: 0.7070\n",
      "Epoch 15/20\n",
      "63/63 [==============================] - 1s 20ms/step - loss: 0.6348 - accuracy: 0.8108 - val_loss: 1.5036 - val_accuracy: 0.7080\n",
      "Epoch 16/20\n",
      "63/63 [==============================] - 1s 19ms/step - loss: 0.6058 - accuracy: 0.8136 - val_loss: 1.5258 - val_accuracy: 0.7050\n",
      "Epoch 17/20\n",
      "63/63 [==============================] - 1s 20ms/step - loss: 0.5770 - accuracy: 0.8188 - val_loss: 1.5544 - val_accuracy: 0.7090\n",
      "Epoch 18/20\n",
      "63/63 [==============================] - 1s 17ms/step - loss: 0.5544 - accuracy: 0.8265 - val_loss: 1.5461 - val_accuracy: 0.7110\n",
      "Epoch 19/20\n",
      "63/63 [==============================] - 1s 17ms/step - loss: 0.5301 - accuracy: 0.8376 - val_loss: 1.6046 - val_accuracy: 0.7110\n",
      "Epoch 20/20\n",
      "63/63 [==============================] - 1s 16ms/step - loss: 0.5076 - accuracy: 0.8425 - val_loss: 1.6396 - val_accuracy: 0.7170\n",
      "71/71 [==============================] - 0s 3ms/step - loss: 1.6685 - accuracy: 0.6977\n"
     ]
    },
    {
     "data": {
      "text/plain": [
       "[1.6685248613357544, 0.6976847648620605]"
      ]
     },
     "execution_count": 26,
     "metadata": {},
     "output_type": "execute_result"
    }
   ],
   "source": [
    "# A model with an information bottleneck\n",
    "model = models.Sequential()\n",
    "model.add(layers.Dense(64, activation='relu', input_shape=(10000,)))\n",
    "model.add(layers.Dense(4, activation='relu'))\n",
    "model.add(layers.Dense(46, activation='softmax'))\n",
    "model.compile(optimizer='rmsprop',\n",
    "              loss='categorical_crossentropy',\n",
    "              metrics=['accuracy'])\n",
    "model.fit(partial_x_train, partial_y_train, epochs=20, batch_size=128, validation_data=(x_val, y_val))\n",
    "results = model.evaluate(x_test, one_hot_test_labels)\n",
    "results"
   ]
  },
  {
   "cell_type": "code",
   "execution_count": 27,
   "id": "24e957c4-6476-4095-bbd8-d773d7af0903",
   "metadata": {},
   "outputs": [
    {
     "name": "stdout",
     "output_type": "stream",
     "text": [
      "Epoch 1/20\n",
      "16/16 [==============================] - 2s 39ms/step - loss: 3.1449 - accuracy: 0.5079 - val_loss: 2.3825 - val_accuracy: 0.6050\n",
      "Epoch 2/20\n",
      "16/16 [==============================] - 0s 24ms/step - loss: 1.9797 - accuracy: 0.6396 - val_loss: 1.7395 - val_accuracy: 0.6450\n",
      "Epoch 3/20\n",
      "16/16 [==============================] - 0s 25ms/step - loss: 1.5173 - accuracy: 0.6898 - val_loss: 1.4560 - val_accuracy: 0.6870\n",
      "Epoch 4/20\n",
      "16/16 [==============================] - 0s 25ms/step - loss: 1.2700 - accuracy: 0.7239 - val_loss: 1.3068 - val_accuracy: 0.7110\n",
      "Epoch 5/20\n",
      "16/16 [==============================] - 0s 25ms/step - loss: 1.1040 - accuracy: 0.7554 - val_loss: 1.2106 - val_accuracy: 0.7320\n",
      "Epoch 6/20\n",
      "16/16 [==============================] - 0s 25ms/step - loss: 0.9764 - accuracy: 0.7845 - val_loss: 1.1436 - val_accuracy: 0.7500\n",
      "Epoch 7/20\n",
      "16/16 [==============================] - 0s 24ms/step - loss: 0.8700 - accuracy: 0.8084 - val_loss: 1.0953 - val_accuracy: 0.7580\n",
      "Epoch 8/20\n",
      "16/16 [==============================] - 0s 24ms/step - loss: 0.7745 - accuracy: 0.8264 - val_loss: 1.0542 - val_accuracy: 0.7690\n",
      "Epoch 9/20\n",
      "16/16 [==============================] - 0s 25ms/step - loss: 0.6897 - accuracy: 0.8438 - val_loss: 1.0272 - val_accuracy: 0.7740\n",
      "Epoch 10/20\n",
      "16/16 [==============================] - 0s 25ms/step - loss: 0.6155 - accuracy: 0.8589 - val_loss: 1.0022 - val_accuracy: 0.7790\n",
      "Epoch 11/20\n",
      "16/16 [==============================] - 0s 25ms/step - loss: 0.5481 - accuracy: 0.8768 - val_loss: 0.9848 - val_accuracy: 0.7880\n",
      "Epoch 12/20\n",
      "16/16 [==============================] - 0s 26ms/step - loss: 0.4892 - accuracy: 0.8938 - val_loss: 0.9674 - val_accuracy: 0.7920\n",
      "Epoch 13/20\n",
      "16/16 [==============================] - 0s 24ms/step - loss: 0.4368 - accuracy: 0.9093 - val_loss: 0.9634 - val_accuracy: 0.7950\n",
      "Epoch 14/20\n",
      "16/16 [==============================] - 0s 25ms/step - loss: 0.3903 - accuracy: 0.9183 - val_loss: 0.9563 - val_accuracy: 0.7930\n",
      "Epoch 15/20\n",
      "16/16 [==============================] - 0s 25ms/step - loss: 0.3507 - accuracy: 0.9275 - val_loss: 0.9548 - val_accuracy: 0.8000\n",
      "Epoch 16/20\n",
      "16/16 [==============================] - 0s 26ms/step - loss: 0.3160 - accuracy: 0.9316 - val_loss: 0.9427 - val_accuracy: 0.8050\n",
      "Epoch 17/20\n",
      "16/16 [==============================] - 0s 25ms/step - loss: 0.2856 - accuracy: 0.9362 - val_loss: 0.9573 - val_accuracy: 0.8060\n",
      "Epoch 18/20\n",
      "16/16 [==============================] - 0s 25ms/step - loss: 0.2613 - accuracy: 0.9405 - val_loss: 0.9562 - val_accuracy: 0.8020\n",
      "Epoch 19/20\n",
      "16/16 [==============================] - 0s 22ms/step - loss: 0.2369 - accuracy: 0.9466 - val_loss: 0.9708 - val_accuracy: 0.8010\n",
      "Epoch 20/20\n",
      "16/16 [==============================] - 0s 23ms/step - loss: 0.2205 - accuracy: 0.9458 - val_loss: 0.9992 - val_accuracy: 0.8050\n",
      "Epoch 1/20\n",
      "16/16 [==============================] - 2s 81ms/step - loss: 2.4023 - accuracy: 0.5109 - val_loss: 1.5498 - val_accuracy: 0.6600\n",
      "Epoch 2/20\n",
      "16/16 [==============================] - 1s 65ms/step - loss: 1.3227 - accuracy: 0.7077 - val_loss: 1.2104 - val_accuracy: 0.7360\n",
      "Epoch 3/20\n",
      "16/16 [==============================] - 1s 71ms/step - loss: 1.0125 - accuracy: 0.7746 - val_loss: 1.0550 - val_accuracy: 0.7660\n",
      "Epoch 4/20\n",
      "16/16 [==============================] - 1s 69ms/step - loss: 0.7767 - accuracy: 0.8299 - val_loss: 0.9539 - val_accuracy: 0.7960\n",
      "Epoch 5/20\n",
      "16/16 [==============================] - 1s 65ms/step - loss: 0.6148 - accuracy: 0.8670 - val_loss: 0.9106 - val_accuracy: 0.8130\n",
      "Epoch 6/20\n",
      "16/16 [==============================] - 1s 67ms/step - loss: 0.4881 - accuracy: 0.8934 - val_loss: 0.8865 - val_accuracy: 0.8110\n",
      "Epoch 7/20\n",
      "16/16 [==============================] - 1s 57ms/step - loss: 0.3832 - accuracy: 0.9194 - val_loss: 0.8541 - val_accuracy: 0.8130\n",
      "Epoch 8/20\n",
      "16/16 [==============================] - 1s 55ms/step - loss: 0.3364 - accuracy: 0.9241 - val_loss: 0.8668 - val_accuracy: 0.8120\n",
      "Epoch 9/20\n",
      "16/16 [==============================] - 1s 59ms/step - loss: 0.2639 - accuracy: 0.9414 - val_loss: 0.8805 - val_accuracy: 0.8160\n",
      "Epoch 10/20\n",
      "16/16 [==============================] - 1s 61ms/step - loss: 0.2297 - accuracy: 0.9476 - val_loss: 0.8849 - val_accuracy: 0.8100\n",
      "Epoch 11/20\n",
      "16/16 [==============================] - 1s 70ms/step - loss: 0.1987 - accuracy: 0.9506 - val_loss: 0.9105 - val_accuracy: 0.8180\n",
      "Epoch 12/20\n",
      "16/16 [==============================] - 1s 70ms/step - loss: 0.1860 - accuracy: 0.9509 - val_loss: 0.8964 - val_accuracy: 0.8140\n",
      "Epoch 13/20\n",
      "16/16 [==============================] - 1s 70ms/step - loss: 0.1660 - accuracy: 0.9535 - val_loss: 0.8826 - val_accuracy: 0.8270\n",
      "Epoch 14/20\n",
      "16/16 [==============================] - 1s 66ms/step - loss: 0.1588 - accuracy: 0.9557 - val_loss: 0.9456 - val_accuracy: 0.8160\n",
      "Epoch 15/20\n",
      "16/16 [==============================] - 1s 68ms/step - loss: 0.1485 - accuracy: 0.9554 - val_loss: 0.9688 - val_accuracy: 0.8150\n",
      "Epoch 16/20\n",
      "16/16 [==============================] - 1s 66ms/step - loss: 0.1418 - accuracy: 0.9565 - val_loss: 0.9721 - val_accuracy: 0.8020\n",
      "Epoch 17/20\n",
      "16/16 [==============================] - 1s 56ms/step - loss: 0.1324 - accuracy: 0.9564 - val_loss: 1.1163 - val_accuracy: 0.7860\n",
      "Epoch 18/20\n",
      "16/16 [==============================] - 1s 57ms/step - loss: 0.1282 - accuracy: 0.9560 - val_loss: 1.0053 - val_accuracy: 0.8130\n",
      "Epoch 19/20\n",
      "16/16 [==============================] - 1s 59ms/step - loss: 0.1302 - accuracy: 0.9555 - val_loss: 0.9463 - val_accuracy: 0.8220\n",
      "Epoch 20/20\n",
      "16/16 [==============================] - 1s 57ms/step - loss: 0.1304 - accuracy: 0.9560 - val_loss: 0.9900 - val_accuracy: 0.8120\n"
     ]
    },
    {
     "data": {
      "image/png": "[encoded data removed]",
      "text/plain": [
       "<Figure size 432x288 with 1 Axes>"
      ]
     },
     "metadata": {
      "needs_background": "light"
     },
     "output_type": "display_data"
    },
    {
     "data": {
      "image/png": "[encoded data removed]",
      "text/plain": [
       "<Figure size 432x288 with 1 Axes>"
      ]
     },
     "metadata": {
      "needs_background": "light"
     },
     "output_type": "display_data"
    }
   ],
   "source": [
    "# Further experiment: Trying smaller unit and larger unit\n",
    "\n",
    "model_32 = model = models.Sequential()\n",
    "model_32.add(layers.Dense(32, activation='relu', input_shape=(10000,)))\n",
    "model_32.add(layers.Dense(32, activation='relu'))\n",
    "model_32.add(layers.Dense(46, activation='softmax'))\n",
    "\n",
    "model_32.compile(optimizer='rmsprop', loss='categorical_crossentropy', metrics=['accuracy'])\n",
    "\n",
    "his_32 = model_32.fit(partial_x_train, partial_y_train, epochs=20, batch_size=512, validation_data=(x_val, y_val))\n",
    "his_dic_32 = his_32.history\n",
    "\n",
    "model_128 = model = models.Sequential()\n",
    "model_128.add(layers.Dense(128, activation='relu', input_shape=(10000,)))\n",
    "model_128.add(layers.Dense(128, activation='relu'))\n",
    "model_128.add(layers.Dense(46, activation='softmax'))\n",
    "\n",
    "model_128.compile(optimizer='rmsprop', loss='categorical_crossentropy', metrics=['accuracy'])\n",
    "\n",
    "his_128 = model_128.fit(partial_x_train, partial_y_train, epochs=20, batch_size=512, validation_data=(x_val, y_val))\n",
    "his_dic_128 = his_128.history\n",
    "\n",
    "\n",
    "loss_values_32 = his_dic_32['loss']\n",
    "val_loss_values_32 = his_dic_32['val_loss']\n",
    "\n",
    "loss_values_128 = his_dic_128['loss']\n",
    "val_loss_values_128 = his_dic_128['val_loss']\n",
    "\n",
    "epochs = range(1, len(loss_values_32) + 1)\n",
    "plt.plot(epochs, loss_values_32, 'bo', label='Training loss(32)')\n",
    "plt.plot(epochs, val_loss_values_32, 'b', label='Validation loss(32)')\n",
    "plt.plot(epochs, loss_values_128, 'ro', label='Training loss(128)')\n",
    "plt.plot(epochs, val_loss_values_128, 'r', label='Validation loss(128)')\n",
    "plt.title('Training and validation loss')\n",
    "plt.xlabel('Epochs')\n",
    "plt.ylabel('Loss')\n",
    "plt.legend()\n",
    "plt.show()\n",
    "\n",
    "plt.clf()\n",
    "acc_values_32 = his_dic_32['accuracy'] \n",
    "val_acc_values_32 = his_dic_32['val_accuracy']\n",
    "\n",
    "acc_values_128 = his_dic_128['accuracy'] \n",
    "val_acc_values_128 = his_dic_128['val_accuracy']\n",
    "\n",
    "plt.plot(epochs, acc_values_32, 'bo', label='Training acc')\n",
    "plt.plot(epochs, val_acc_values_32, 'b', label='Validation acc')\n",
    "plt.plot(epochs, acc_values_128, 'ro', label='Training acc')\n",
    "plt.plot(epochs, val_acc_values_128, 'r', label='Validation acc')\n",
    "\n",
    "plt.title('Training and validation accuracy')\n",
    "plt.xlabel('Epochs')\n",
    "plt.ylabel('Loss')\n",
    "plt.legend()\n",
    "plt.show()"
   ]
  },
  {
   "cell_type": "code",
   "execution_count": 28,
   "id": "f6c29aec-03e5-4e04-b8a4-8f67ca17aa34",
   "metadata": {},
   "outputs": [
    {
     "name": "stdout",
     "output_type": "stream",
     "text": [
      "Epoch 1/20\n",
      "16/16 [==============================] - 1s 46ms/step - loss: 2.6953 - accuracy: 0.5495 - val_loss: 1.9126 - val_accuracy: 0.6310\n",
      "Epoch 2/20\n",
      "16/16 [==============================] - 1s 35ms/step - loss: 1.6042 - accuracy: 0.6894 - val_loss: 1.4381 - val_accuracy: 0.6950\n",
      "Epoch 3/20\n",
      "16/16 [==============================] - 1s 38ms/step - loss: 1.2143 - accuracy: 0.7523 - val_loss: 1.2064 - val_accuracy: 0.7420\n",
      "Epoch 4/20\n",
      "16/16 [==============================] - 1s 36ms/step - loss: 0.9826 - accuracy: 0.7935 - val_loss: 1.0744 - val_accuracy: 0.7670\n",
      "Epoch 5/20\n",
      "16/16 [==============================] - 1s 39ms/step - loss: 0.8187 - accuracy: 0.8274 - val_loss: 0.9942 - val_accuracy: 0.7910\n",
      "Epoch 6/20\n",
      "16/16 [==============================] - 1s 40ms/step - loss: 0.6913 - accuracy: 0.8592 - val_loss: 0.9318 - val_accuracy: 0.8060\n",
      "Epoch 7/20\n",
      "16/16 [==============================] - 1s 40ms/step - loss: 0.5898 - accuracy: 0.8807 - val_loss: 0.8874 - val_accuracy: 0.8160\n",
      "Epoch 8/20\n",
      "16/16 [==============================] - 1s 40ms/step - loss: 0.5092 - accuracy: 0.8974 - val_loss: 0.8560 - val_accuracy: 0.8150\n",
      "Epoch 9/20\n",
      "16/16 [==============================] - 1s 40ms/step - loss: 0.4411 - accuracy: 0.9114 - val_loss: 0.8340 - val_accuracy: 0.8160\n",
      "Epoch 10/20\n",
      "16/16 [==============================] - 1s 42ms/step - loss: 0.3861 - accuracy: 0.9213 - val_loss: 0.8097 - val_accuracy: 0.8180\n",
      "Epoch 11/20\n",
      "16/16 [==============================] - 1s 39ms/step - loss: 0.3408 - accuracy: 0.9300 - val_loss: 0.7961 - val_accuracy: 0.8220\n",
      "Epoch 12/20\n",
      "16/16 [==============================] - 1s 40ms/step - loss: 0.3024 - accuracy: 0.9369 - val_loss: 0.7993 - val_accuracy: 0.8210\n",
      "Epoch 13/20\n",
      "16/16 [==============================] - 1s 40ms/step - loss: 0.2712 - accuracy: 0.9411 - val_loss: 0.7965 - val_accuracy: 0.8290\n",
      "Epoch 14/20\n",
      "16/16 [==============================] - 1s 41ms/step - loss: 0.2441 - accuracy: 0.9448 - val_loss: 0.7900 - val_accuracy: 0.8300\n",
      "Epoch 15/20\n",
      "16/16 [==============================] - 1s 41ms/step - loss: 0.2213 - accuracy: 0.9489 - val_loss: 0.7949 - val_accuracy: 0.8210\n",
      "Epoch 16/20\n",
      "16/16 [==============================] - 1s 45ms/step - loss: 0.2023 - accuracy: 0.9494 - val_loss: 0.8005 - val_accuracy: 0.8250\n",
      "Epoch 17/20\n",
      "16/16 [==============================] - 1s 36ms/step - loss: 0.1874 - accuracy: 0.9519 - val_loss: 0.7956 - val_accuracy: 0.8250\n",
      "Epoch 18/20\n",
      "16/16 [==============================] - 1s 38ms/step - loss: 0.1749 - accuracy: 0.9518 - val_loss: 0.8011 - val_accuracy: 0.8260\n",
      "Epoch 19/20\n",
      "16/16 [==============================] - 1s 36ms/step - loss: 0.1622 - accuracy: 0.9538 - val_loss: 0.8065 - val_accuracy: 0.8270\n",
      "Epoch 20/20\n",
      "16/16 [==============================] - 1s 35ms/step - loss: 0.1529 - accuracy: 0.9545 - val_loss: 0.8078 - val_accuracy: 0.8250\n",
      "Epoch 1/20\n",
      "16/16 [==============================] - 1s 53ms/step - loss: 2.8207 - accuracy: 0.4002 - val_loss: 1.8800 - val_accuracy: 0.5420\n",
      "Epoch 2/20\n",
      "16/16 [==============================] - 1s 39ms/step - loss: 1.6645 - accuracy: 0.5982 - val_loss: 1.5192 - val_accuracy: 0.6150\n",
      "Epoch 3/20\n",
      "16/16 [==============================] - 1s 36ms/step - loss: 1.3143 - accuracy: 0.6893 - val_loss: 1.2903 - val_accuracy: 0.6900\n",
      "Epoch 4/20\n",
      "16/16 [==============================] - 1s 36ms/step - loss: 1.0811 - accuracy: 0.7522 - val_loss: 1.1609 - val_accuracy: 0.7360\n",
      "Epoch 5/20\n",
      "16/16 [==============================] - 1s 39ms/step - loss: 0.8910 - accuracy: 0.8027 - val_loss: 1.1069 - val_accuracy: 0.7520\n",
      "Epoch 6/20\n",
      "16/16 [==============================] - 1s 39ms/step - loss: 0.7466 - accuracy: 0.8364 - val_loss: 1.0173 - val_accuracy: 0.7880\n",
      "Epoch 7/20\n",
      "16/16 [==============================] - 1s 39ms/step - loss: 0.6268 - accuracy: 0.8614 - val_loss: 0.9722 - val_accuracy: 0.8000\n",
      "Epoch 8/20\n",
      "16/16 [==============================] - 1s 39ms/step - loss: 0.5170 - accuracy: 0.8854 - val_loss: 0.9761 - val_accuracy: 0.7970\n",
      "Epoch 9/20\n",
      "16/16 [==============================] - 1s 42ms/step - loss: 0.4361 - accuracy: 0.9070 - val_loss: 0.9816 - val_accuracy: 0.7930\n",
      "Epoch 10/20\n",
      "16/16 [==============================] - 1s 37ms/step - loss: 0.3764 - accuracy: 0.9186 - val_loss: 0.9724 - val_accuracy: 0.8040\n",
      "Epoch 11/20\n",
      "16/16 [==============================] - 1s 40ms/step - loss: 0.3076 - accuracy: 0.9347 - val_loss: 1.0061 - val_accuracy: 0.8020\n",
      "Epoch 12/20\n",
      "16/16 [==============================] - 1s 42ms/step - loss: 0.2726 - accuracy: 0.9391 - val_loss: 1.0418 - val_accuracy: 0.7860\n",
      "Epoch 13/20\n",
      "16/16 [==============================] - 1s 40ms/step - loss: 0.2312 - accuracy: 0.9470 - val_loss: 1.0671 - val_accuracy: 0.7850\n",
      "Epoch 14/20\n",
      "16/16 [==============================] - 1s 37ms/step - loss: 0.2139 - accuracy: 0.9483 - val_loss: 1.0313 - val_accuracy: 0.7980\n",
      "Epoch 15/20\n",
      "16/16 [==============================] - 1s 42ms/step - loss: 0.1894 - accuracy: 0.9509 - val_loss: 1.0543 - val_accuracy: 0.7850\n",
      "Epoch 16/20\n",
      "16/16 [==============================] - 1s 45ms/step - loss: 0.1831 - accuracy: 0.9525 - val_loss: 1.0446 - val_accuracy: 0.7880\n",
      "Epoch 17/20\n",
      "16/16 [==============================] - 1s 46ms/step - loss: 0.1582 - accuracy: 0.9558 - val_loss: 1.0836 - val_accuracy: 0.8020\n",
      "Epoch 18/20\n",
      "16/16 [==============================] - 1s 44ms/step - loss: 0.1567 - accuracy: 0.9550 - val_loss: 1.0534 - val_accuracy: 0.8030\n",
      "Epoch 19/20\n",
      "16/16 [==============================] - 1s 45ms/step - loss: 0.1469 - accuracy: 0.9573 - val_loss: 1.1133 - val_accuracy: 0.8010\n",
      "Epoch 20/20\n",
      "16/16 [==============================] - 1s 45ms/step - loss: 0.1375 - accuracy: 0.9583 - val_loss: 1.3797 - val_accuracy: 0.7650\n"
     ]
    },
    {
     "data": {
      "image/png": "[encoded data removed]",
      "text/plain": [
       "<Figure size 432x288 with 1 Axes>"
      ]
     },
     "metadata": {
      "needs_background": "light"
     },
     "output_type": "display_data"
    },
    {
     "data": {
      "image/png": "[encoded data removed]",
      "text/plain": [
       "<Figure size 432x288 with 1 Axes>"
      ]
     },
     "metadata": {
      "needs_background": "light"
     },
     "output_type": "display_data"
    }
   ],
   "source": [
    "# Further experiment: Trying smaller unit and larger unit\n",
    "\n",
    "model_single = model = models.Sequential()\n",
    "model_single.add(layers.Dense(64, activation='relu', input_shape=(10000,)))\n",
    "model_single.add(layers.Dense(46, activation='softmax'))\n",
    "\n",
    "model_single.compile(optimizer='rmsprop', loss='categorical_crossentropy', metrics=['accuracy'])\n",
    "\n",
    "his_single = model_single.fit(partial_x_train, partial_y_train, epochs=20, batch_size=512, validation_data=(x_val, y_val))\n",
    "his_dic_single = his_single.history\n",
    "\n",
    "model_triple = model = models.Sequential()\n",
    "model_triple.add(layers.Dense(64, activation='relu', input_shape=(10000,)))\n",
    "model_triple.add(layers.Dense(64, activation='relu'))\n",
    "model_triple.add(layers.Dense(64, activation='relu'))\n",
    "model_triple.add(layers.Dense(46, activation='softmax'))\n",
    "\n",
    "model_triple.compile(optimizer='rmsprop', loss='categorical_crossentropy', metrics=['accuracy'])\n",
    "\n",
    "his_triple = model_triple.fit(partial_x_train, partial_y_train, epochs=20, batch_size=512, validation_data=(x_val, y_val))\n",
    "his_dic_triple = his_triple.history\n",
    "\n",
    "\n",
    "loss_values_single = his_dic_single['loss']\n",
    "val_loss_values_single = his_dic_single['val_loss']\n",
    "\n",
    "loss_values_triple = his_dic_triple['loss']\n",
    "val_loss_values_triple = his_dic_triple['val_loss']\n",
    "\n",
    "epochs = range(1, len(loss_values_single) + 1)\n",
    "plt.plot(epochs, loss_values_single, 'bo', label='Training loss(single)')\n",
    "plt.plot(epochs, val_loss_values_single, 'b', label='Validation loss(single)')\n",
    "plt.plot(epochs, loss_values_triple, 'ro', label='Training loss(triple)')\n",
    "plt.plot(epochs, val_loss_values_triple, 'r', label='Validation loss(triple)')\n",
    "plt.title('Training and validation loss')\n",
    "plt.xlabel('Epochs')\n",
    "plt.ylabel('Loss')\n",
    "plt.legend()\n",
    "plt.show()\n",
    "\n",
    "plt.clf()\n",
    "acc_values_single = his_dic_single['accuracy'] \n",
    "val_acc_values_single = his_dic_single['val_accuracy']\n",
    "\n",
    "acc_values_triple = his_dic_triple['accuracy'] \n",
    "val_acc_values_triple = his_dic_triple['val_accuracy']\n",
    "\n",
    "plt.plot(epochs, acc_values_single, 'bo', label='Training acc(single)')\n",
    "plt.plot(epochs, val_acc_values_single, 'b', label='Validation acc(single)')\n",
    "plt.plot(epochs, acc_values_triple, 'ro', label='Training acc(triple)')\n",
    "plt.plot(epochs, val_acc_values_triple, 'r', label='Validation acc(triple)')\n",
    "\n",
    "plt.title('Training and validation accuracy')\n",
    "plt.xlabel('Epochs')\n",
    "plt.ylabel('Loss')\n",
    "plt.legend()\n",
    "plt.show()"
   ]
  },
  {
   "cell_type": "code",
   "execution_count": null,
   "id": "03880722-6d45-4e20-9d8c-816440c183b6",
   "metadata": {},
   "outputs": [],
   "source": []
  },
  {
   "cell_type": "code",
   "execution_count": null,
   "id": "ed658429-8ec2-4d7b-81ac-8da53aa371b2",
   "metadata": {},
   "outputs": [],
   "source": []
  },
  {
   "cell_type": "markdown",
   "id": "385153ad-f25e-45c3-a835-95abc4f3c34f",
   "metadata": {},
   "source": [
    "# 5.3 Assignment"
   ]
  },
  {
   "cell_type": "code",
   "execution_count": 29,
   "id": "8e7e6784-838a-4361-a8c1-fc3b6da68284",
   "metadata": {},
   "outputs": [
    {
     "name": "stdout",
     "output_type": "stream",
     "text": [
      "(404, 13)\n",
      "(102, 13)\n",
      "train_set: [  1.23247   0.        8.14      0.        0.538     6.142    91.7\n",
      "   3.9769    4.      307.       21.      396.9      18.72   ]\n"
     ]
    },
    {
     "data": {
      "text/plain": [
       "array([15.2, 42.3, 50. , 21.1, 17.7, 18.5, 11.3, 15.6, 15.6, 14.4, 12.1,\n",
       "       17.9, 23.1, 19.9, 15.7,  8.8, 50. , 22.5, 24.1, 27.5, 10.9, 30.8,\n",
       "       32.9, 24. , 18.5, 13.3, 22.9, 34.7, 16.6, 17.5, 22.3, 16.1, 14.9,\n",
       "       23.1, 34.9, 25. , 13.9, 13.1, 20.4, 20. , 15.2, 24.7, 22.2, 16.7,\n",
       "       12.7, 15.6, 18.4, 21. , 30.1, 15.1, 18.7,  9.6, 31.5, 24.8, 19.1,\n",
       "       22. , 14.5, 11. , 32. , 29.4, 20.3, 24.4, 14.6, 19.5, 14.1, 14.3,\n",
       "       15.6, 10.5,  6.3, 19.3, 19.3, 13.4, 36.4, 17.8, 13.5, 16.5,  8.3,\n",
       "       14.3, 16. , 13.4, 28.6, 43.5, 20.2, 22. , 23. , 20.7, 12.5, 48.5,\n",
       "       14.6, 13.4, 23.7, 50. , 21.7, 39.8, 38.7, 22.2, 34.9, 22.5, 31.1,\n",
       "       28.7, 46. , 41.7, 21. , 26.6, 15. , 24.4, 13.3, 21.2, 11.7, 21.7,\n",
       "       19.4, 50. , 22.8, 19.7, 24.7, 36.2, 14.2, 18.9, 18.3, 20.6, 24.6,\n",
       "       18.2,  8.7, 44. , 10.4, 13.2, 21.2, 37. , 30.7, 22.9, 20. , 19.3,\n",
       "       31.7, 32. , 23.1, 18.8, 10.9, 50. , 19.6,  5. , 14.4, 19.8, 13.8,\n",
       "       19.6, 23.9, 24.5, 25. , 19.9, 17.2, 24.6, 13.5, 26.6, 21.4, 11.9,\n",
       "       22.6, 19.6,  8.5, 23.7, 23.1, 22.4, 20.5, 23.6, 18.4, 35.2, 23.1,\n",
       "       27.9, 20.6, 23.7, 28. , 13.6, 27.1, 23.6, 20.6, 18.2, 21.7, 17.1,\n",
       "        8.4, 25.3, 13.8, 22.2, 18.4, 20.7, 31.6, 30.5, 20.3,  8.8, 19.2,\n",
       "       19.4, 23.1, 23. , 14.8, 48.8, 22.6, 33.4, 21.1, 13.6, 32.2, 13.1,\n",
       "       23.4, 18.9, 23.9, 11.8, 23.3, 22.8, 19.6, 16.7, 13.4, 22.2, 20.4,\n",
       "       21.8, 26.4, 14.9, 24.1, 23.8, 12.3, 29.1, 21. , 19.5, 23.3, 23.8,\n",
       "       17.8, 11.5, 21.7, 19.9, 25. , 33.4, 28.5, 21.4, 24.3, 27.5, 33.1,\n",
       "       16.2, 23.3, 48.3, 22.9, 22.8, 13.1, 12.7, 22.6, 15. , 15.3, 10.5,\n",
       "       24. , 18.5, 21.7, 19.5, 33.2, 23.2,  5. , 19.1, 12.7, 22.3, 10.2,\n",
       "       13.9, 16.3, 17. , 20.1, 29.9, 17.2, 37.3, 45.4, 17.8, 23.2, 29. ,\n",
       "       22. , 18. , 17.4, 34.6, 20.1, 25. , 15.6, 24.8, 28.2, 21.2, 21.4,\n",
       "       23.8, 31. , 26.2, 17.4, 37.9, 17.5, 20. ,  8.3, 23.9,  8.4, 13.8,\n",
       "        7.2, 11.7, 17.1, 21.6, 50. , 16.1, 20.4, 20.6, 21.4, 20.6, 36.5,\n",
       "        8.5, 24.8, 10.8, 21.9, 17.3, 18.9, 36.2, 14.9, 18.2, 33.3, 21.8,\n",
       "       19.7, 31.6, 24.8, 19.4, 22.8,  7.5, 44.8, 16.8, 18.7, 50. , 50. ,\n",
       "       19.5, 20.1, 50. , 17.2, 20.8, 19.3, 41.3, 20.4, 20.5, 13.8, 16.5,\n",
       "       23.9, 20.6, 31.5, 23.3, 16.8, 14. , 33.8, 36.1, 12.8, 18.3, 18.7,\n",
       "       19.1, 29. , 30.1, 50. , 50. , 22. , 11.9, 37.6, 50. , 22.7, 20.8,\n",
       "       23.5, 27.9, 50. , 19.3, 23.9, 22.6, 15.2, 21.7, 19.2, 43.8, 20.3,\n",
       "       33.2, 19.9, 22.5, 32.7, 22. , 17.1, 19. , 15. , 16.1, 25.1, 23.7,\n",
       "       28.7, 37.2, 22.6, 16.4, 25. , 29.8, 22.1, 17.4, 18.1, 30.3, 17.5,\n",
       "       24.7, 12.6, 26.5, 28.7, 13.3, 10.4, 24.4, 23. , 20. , 17.8,  7. ,\n",
       "       11.8, 24.4, 13.8, 19.4, 25.2, 19.4, 19.4, 29.1])"
      ]
     },
     "execution_count": 29,
     "metadata": {},
     "output_type": "execute_result"
    }
   ],
   "source": [
    "from keras.datasets import boston_housing\n",
    "\n",
    "# Importing Boston housing dataset\n",
    "(train_data, train_targets), (test_data, test_targets) = boston_housing.load_data()\n",
    "print(train_data.shape)\n",
    "print(test_data.shape)\n",
    "print(\"train_set:\",train_data[0])\n",
    "train_targets"
   ]
  },
  {
   "cell_type": "code",
   "execution_count": 30,
   "id": "75eea1bf-8f38-43a1-9375-4e44fbe8ac1c",
   "metadata": {},
   "outputs": [
    {
     "name": "stdout",
     "output_type": "stream",
     "text": [
      "train_set: [-0.27224633 -0.48361547 -0.43576161 -0.25683275 -0.1652266  -0.1764426\n",
      "  0.81306188  0.1166983  -0.62624905 -0.59517003  1.14850044  0.44807713\n",
      "  0.8252202 ]\n"
     ]
    }
   ],
   "source": [
    "# Normalizing data\n",
    "mean = train_data.mean(axis=0)\n",
    "std = train_data.std(axis=0)\n",
    "\n",
    "train_data -= mean\n",
    "train_data /= std\n",
    "test_data -= mean\n",
    "test_data /= std\n",
    "print(\"train_set:\",train_data[0])"
   ]
  },
  {
   "cell_type": "code",
   "execution_count": 31,
   "id": "69de730e-5247-45c1-9480-de4e2b2d651f",
   "metadata": {},
   "outputs": [
    {
     "name": "stdout",
     "output_type": "stream",
     "text": [
      "processing fold # 0\n",
      "processing fold # 1\n",
      "processing fold # 2\n",
      "processing fold # 3\n",
      "[2.018446207046509, 2.5544750690460205, 2.7490158081054688, 2.4144127368927]\n"
     ]
    },
    {
     "data": {
      "text/plain": [
       "2.4340874552726746"
      ]
     },
     "execution_count": 31,
     "metadata": {},
     "output_type": "execute_result"
    }
   ],
   "source": [
    "from keras import models\n",
    "from keras import layers\n",
    "\n",
    "# function to build a regression neural network model\n",
    "def build_model():\n",
    "    model = models.Sequential()\n",
    "    model.add(layers.Dense(64, activation='relu', input_shape=(train_data.shape[1],)))\n",
    "    model.add(layers.Dense(64, activation='relu'))\n",
    "    model.add(layers.Dense(1))\n",
    "    model.compile(optimizer='rmsprop', loss='mse', metrics=['mae'])\n",
    "    return model\n",
    "\n",
    "# Due to smaller data points, we will be using K-fold cross-validation\n",
    "import numpy as np\n",
    "k=4\n",
    "num_val_samples = len(train_data) // k \n",
    "num_epochs = 100\n",
    "all_scores = []\n",
    "\n",
    "# Calculating k-fold score to determine optimal  value\n",
    "for i in range(k):\n",
    "    print('processing fold #', i)\n",
    "    val_data = train_data[i * num_val_samples: (i + 1) * num_val_samples] \n",
    "    val_targets = train_targets[i * num_val_samples: (i + 1) * num_val_samples]\n",
    "    \n",
    "    partial_train_data = np.concatenate([train_data[:i * num_val_samples], train_data[(i + 1) * num_val_samples:]], axis=0)\n",
    "    partial_train_targets = np.concatenate( [train_targets[:i * num_val_samples], train_targets[(i + 1) * num_val_samples:]], axis=0)\n",
    "    \n",
    "    model = build_model()\n",
    "    model.fit(partial_train_data, partial_train_targets,epochs=num_epochs, batch_size=1, verbose=0)\n",
    "    val_mse, val_mae = model.evaluate(val_data, val_targets, verbose=0)\n",
    "    all_scores.append(val_mae)\n",
    "\n",
    "print(all_scores)\n",
    "np.mean(all_scores)"
   ]
  },
  {
   "cell_type": "code",
   "execution_count": 32,
   "id": "88515c22-9d97-42e7-9c40-27035feab883",
   "metadata": {},
   "outputs": [
    {
     "name": "stdout",
     "output_type": "stream",
     "text": [
      "processing fold # 0\n",
      "processing fold # 1\n",
      "processing fold # 2\n",
      "processing fold # 3\n"
     ]
    },
    {
     "data": {
      "text/plain": [
       "[4.364482402801514,\n",
       " 3.3791163563728333,\n",
       " 2.895492672920227,\n",
       " 3.013947010040283,\n",
       " 2.7075257301330566,\n",
       " 2.744834542274475,\n",
       " 2.5485559701919556,\n",
       " 2.4729894399642944,\n",
       " 2.5320281386375427,\n",
       " 2.5622146129608154,\n",
       " 2.5763601064682007,\n",
       " 2.4921681880950928,\n",
       " 2.5232481360435486,\n",
       " 2.4886600971221924,\n",
       " 2.5326156616210938,\n",
       " 2.457868456840515,\n",
       " 2.395930290222168,\n",
       " 2.4481319189071655,\n",
       " 2.4213384091854095,\n",
       " 2.3898648619651794,\n",
       " 2.414567917585373,\n",
       " 2.37325319647789,\n",
       " 2.4811301231384277,\n",
       " 2.4177469611167908,\n",
       " 2.587382197380066,\n",
       " 2.440190464258194,\n",
       " 2.5476114749908447,\n",
       " 2.5393448173999786,\n",
       " 2.3536020517349243,\n",
       " 2.605218470096588,\n",
       " 2.480168581008911,\n",
       " 2.5270462036132812,\n",
       " 2.404189169406891,\n",
       " 2.388783872127533,\n",
       " 2.5024108290672302,\n",
       " 2.4641364216804504,\n",
       " 2.3484250009059906,\n",
       " 2.418135166168213,\n",
       " 2.3113301396369934,\n",
       " 2.377179503440857,\n",
       " 2.4219518303871155,\n",
       " 2.295135259628296,\n",
       " 2.390165477991104,\n",
       " 2.616774559020996,\n",
       " 2.5127110481262207,\n",
       " 2.4182068705558777,\n",
       " 2.365536391735077,\n",
       " 2.4768113493919373,\n",
       " 2.4278478622436523,\n",
       " 2.489829272031784,\n",
       " 2.4221056699752808,\n",
       " 2.32022225856781,\n",
       " 2.396343946456909,\n",
       " 2.4273064136505127,\n",
       " 2.428410828113556,\n",
       " 2.4944710731506348,\n",
       " 2.4463756680488586,\n",
       " 2.4761511087417603,\n",
       " 2.423692047595978,\n",
       " 2.3634633123874664,\n",
       " 2.4207380414009094,\n",
       " 2.5046735405921936,\n",
       " 2.758920192718506,\n",
       " 2.417431056499481,\n",
       " 2.458997905254364,\n",
       " 2.443766415119171,\n",
       " 2.466208130121231,\n",
       " 2.4459783732891083,\n",
       " 2.54029643535614,\n",
       " 2.4462546706199646,\n",
       " 2.526326060295105,\n",
       " 2.406449556350708,\n",
       " 2.6560197472572327,\n",
       " 2.4964380264282227,\n",
       " 2.505734443664551,\n",
       " 2.4498594105243683,\n",
       " 2.5325154066085815,\n",
       " 2.5770397186279297,\n",
       " 2.4861111640930176,\n",
       " 2.4490976333618164,\n",
       " 2.614084005355835,\n",
       " 2.457958906888962,\n",
       " 2.4684740900993347,\n",
       " 2.4365694522857666,\n",
       " 2.5810419619083405,\n",
       " 2.4689671397209167,\n",
       " 2.511803478002548,\n",
       " 2.690454065799713,\n",
       " 2.622442066669464,\n",
       " 2.6335591673851013,\n",
       " 2.638944983482361,\n",
       " 2.5703327655792236,\n",
       " 2.6076728105545044,\n",
       " 2.49953156709671,\n",
       " 2.7157889008522034,\n",
       " 2.513639450073242,\n",
       " 2.560977280139923,\n",
       " 2.528289794921875,\n",
       " 2.5931349992752075,\n",
       " 2.769338607788086,\n",
       " 2.837663948535919,\n",
       " 2.6351929008960724,\n",
       " 2.5052539110183716,\n",
       " 2.4754098653793335,\n",
       " 2.5348711609840393,\n",
       " 2.7140972018241882,\n",
       " 2.474158525466919,\n",
       " 2.4298926889896393,\n",
       " 2.488689601421356,\n",
       " 2.5350356698036194,\n",
       " 2.741548538208008,\n",
       " 2.5714184641838074,\n",
       " 2.601272761821747,\n",
       " 2.509510338306427,\n",
       " 2.558682292699814,\n",
       " 2.5262792110443115,\n",
       " 2.5607418417930603,\n",
       " 2.838371455669403,\n",
       " 2.5665788054466248,\n",
       " 2.6590625643730164,\n",
       " 2.5889217257499695,\n",
       " 2.5246831476688385,\n",
       " 2.5986052751541138,\n",
       " 2.6490541100502014,\n",
       " 2.6034509539604187,\n",
       " 2.6504414677619934,\n",
       " 2.501517802476883,\n",
       " 2.6959781646728516,\n",
       " 2.610768437385559,\n",
       " 2.581296682357788,\n",
       " 2.5611034631729126,\n",
       " 2.7141526341438293,\n",
       " 2.4805842638015747,\n",
       " 2.582357555627823,\n",
       " 2.7342637181282043,\n",
       " 2.7692933678627014,\n",
       " 2.7038204073905945,\n",
       " 2.580652505159378,\n",
       " 2.525929719209671,\n",
       " 2.586697369813919,\n",
       " 2.5689242482185364,\n",
       " 2.51698762178421,\n",
       " 2.690887749195099,\n",
       " 2.6829519271850586,\n",
       " 2.6308714747428894,\n",
       " 2.478441834449768,\n",
       " 2.6406977772712708,\n",
       " 2.5209731459617615,\n",
       " 2.565350294113159,\n",
       " 2.5276540517807007,\n",
       " 2.710797369480133,\n",
       " 2.5148640275001526,\n",
       " 2.6123951077461243,\n",
       " 2.6814792156219482,\n",
       " 2.7120882868766785,\n",
       " 2.7895265221595764,\n",
       " 2.6247729659080505,\n",
       " 2.647219657897949,\n",
       " 2.6393043994903564,\n",
       " 2.8507171869277954,\n",
       " 2.6990185379981995,\n",
       " 2.7068400382995605,\n",
       " 2.7108051776885986,\n",
       " 2.7609724402427673,\n",
       " 2.5989671647548676,\n",
       " 2.7328991293907166,\n",
       " 2.7565394043922424,\n",
       " 2.7170419692993164,\n",
       " 2.6268115639686584,\n",
       " 2.6171121895313263,\n",
       " 2.8092209100723267,\n",
       " 2.6723820567131042,\n",
       " 2.575836658477783,\n",
       " 2.6044683754444122,\n",
       " 2.7360028624534607,\n",
       " 2.7531662583351135,\n",
       " 2.708480477333069,\n",
       " 2.7339075207710266,\n",
       " 2.6598284244537354,\n",
       " 2.70399010181427,\n",
       " 2.7801926732063293,\n",
       " 2.6962445974349976,\n",
       " 2.6244938373565674,\n",
       " 2.6530860364437103,\n",
       " 2.664711117744446,\n",
       " 2.7922521233558655,\n",
       " 2.6926636695861816,\n",
       " 2.750829577445984,\n",
       " 2.701440215110779,\n",
       " 2.7244009971618652,\n",
       " 2.7053478956222534,\n",
       " 2.6093242168426514,\n",
       " 2.69587242603302,\n",
       " 2.763504683971405,\n",
       " 2.6886274218559265,\n",
       " 2.8140756487846375,\n",
       " 2.7930347323417664,\n",
       " 2.8604989647865295,\n",
       " 2.7597506046295166,\n",
       " 2.8295058012008667,\n",
       " 2.677800416946411,\n",
       " 2.684935510158539,\n",
       " 2.816549599170685,\n",
       " 2.7433279752731323,\n",
       " 2.6887770891189575,\n",
       " 2.7635907530784607,\n",
       " 2.651936173439026,\n",
       " 2.842952072620392,\n",
       " 2.7575660943984985,\n",
       " 2.7912264466285706,\n",
       " 2.7572181224823,\n",
       " 2.7534335255622864,\n",
       " 2.7018752098083496,\n",
       " 2.742213547229767,\n",
       " 2.6968072056770325,\n",
       " 2.6863707304000854,\n",
       " 2.702548086643219,\n",
       " 2.88968288898468,\n",
       " 2.8334701657295227,\n",
       " 2.7776028513908386,\n",
       " 2.7476651072502136,\n",
       " 2.765219211578369,\n",
       " 2.738481104373932,\n",
       " 2.70553457736969,\n",
       " 2.6661787629127502,\n",
       " 2.8373992443084717,\n",
       " 2.854332149028778,\n",
       " 2.799866497516632,\n",
       " 2.767682373523712,\n",
       " 2.755380630493164,\n",
       " 2.7638681530952454,\n",
       " 2.71462881565094,\n",
       " 2.787282109260559,\n",
       " 2.8281677961349487,\n",
       " 2.7223451137542725,\n",
       " 2.721340775489807,\n",
       " 2.817313849925995,\n",
       " 2.8690823912620544,\n",
       " 2.7545968294143677,\n",
       " 2.896215260028839,\n",
       " 2.7492237091064453,\n",
       " 2.731464207172394,\n",
       " 2.8390167355537415,\n",
       " 2.676888585090637,\n",
       " 2.910839080810547,\n",
       " 2.810589015483856,\n",
       " 2.7693777680397034,\n",
       " 2.7796290516853333,\n",
       " 2.7333807349205017,\n",
       " 2.724225878715515,\n",
       " 2.7983930110931396,\n",
       " 2.8576390743255615,\n",
       " 2.6825669407844543,\n",
       " 2.706549286842346,\n",
       " 2.707257032394409,\n",
       " 2.8551266193389893,\n",
       " 2.736810863018036,\n",
       " 2.821822702884674,\n",
       " 2.875162363052368,\n",
       " 2.7401850819587708,\n",
       " 2.7756125926971436,\n",
       " 2.7522016167640686,\n",
       " 2.9638684391975403,\n",
       " 2.930465817451477,\n",
       " 2.7633402943611145,\n",
       " 2.8005919456481934,\n",
       " 2.8352882266044617,\n",
       " 2.830136001110077,\n",
       " 2.8122214674949646,\n",
       " 2.737310290336609,\n",
       " 2.806175708770752,\n",
       " 2.8935068249702454,\n",
       " 2.785058081150055,\n",
       " 2.854335308074951,\n",
       " 2.811995506286621,\n",
       " 2.8487162590026855,\n",
       " 2.935448408126831,\n",
       " 2.9474456310272217,\n",
       " 2.8355575799942017,\n",
       " 2.7544180750846863,\n",
       " 2.7400301694869995,\n",
       " 2.784498453140259,\n",
       " 2.9460275769233704,\n",
       " 2.7591311931610107,\n",
       " 2.861437678337097,\n",
       " 2.7786154747009277,\n",
       " 2.829942286014557,\n",
       " 2.786723792552948,\n",
       " 2.7904252409934998,\n",
       " 2.8629499673843384,\n",
       " 2.8166394233703613,\n",
       " 2.8255066871643066,\n",
       " 2.809371829032898,\n",
       " 2.848011314868927,\n",
       " 2.798128604888916,\n",
       " 2.8476940989494324,\n",
       " 2.7387959361076355,\n",
       " 2.8236493468284607,\n",
       " 2.784105896949768,\n",
       " 2.7827321887016296,\n",
       " 2.788180887699127,\n",
       " 2.7424997687339783,\n",
       " 2.6648298501968384,\n",
       " 2.746000289916992,\n",
       " 2.765958249568939,\n",
       " 2.780523359775543,\n",
       " 2.692877173423767,\n",
       " 2.946809947490692,\n",
       " 2.881492495536804,\n",
       " 2.7489007711410522,\n",
       " 2.7913156151771545,\n",
       " 2.7653470039367676,\n",
       " 2.757568597793579,\n",
       " 2.841852068901062,\n",
       " 2.831789970397949,\n",
       " 2.8527461886405945,\n",
       " 2.828828275203705,\n",
       " 2.737273931503296,\n",
       " 2.8600781559944153,\n",
       " 2.922826409339905,\n",
       " 2.7761847376823425,\n",
       " 2.888561964035034,\n",
       " 2.7715758681297302,\n",
       " 2.7673113346099854,\n",
       " 2.8115257620811462,\n",
       " 2.9138776063919067,\n",
       " 2.7803492546081543,\n",
       " 2.794120132923126,\n",
       " 2.7119465470314026,\n",
       " 2.751346468925476,\n",
       " 2.7765766978263855,\n",
       " 2.78939425945282,\n",
       " 2.787125825881958,\n",
       " 2.8317337036132812,\n",
       " 2.7838191390037537,\n",
       " 2.85613876581192,\n",
       " 2.8730504512786865,\n",
       " 2.818598985671997,\n",
       " 2.8238654136657715,\n",
       " 2.7227180004119873,\n",
       " 2.8467975854873657,\n",
       " 2.7022106051445007,\n",
       " 2.806446135044098,\n",
       " 2.844526708126068,\n",
       " 2.863682448863983,\n",
       " 2.957237958908081,\n",
       " 2.7119765281677246,\n",
       " 2.8207441568374634,\n",
       " 2.7225865721702576,\n",
       " 2.7829450964927673,\n",
       " 2.7625622749328613,\n",
       " 2.6971747279167175,\n",
       " 2.876816153526306,\n",
       " 2.763892412185669,\n",
       " 2.759108304977417,\n",
       " 2.811093032360077,\n",
       " 2.7402029037475586,\n",
       " 2.6845354437828064,\n",
       " 2.7139679193496704,\n",
       " 2.8383808732032776,\n",
       " 2.7133947610855103,\n",
       " 2.9762555956840515,\n",
       " 2.7740888595581055,\n",
       " 2.798827886581421,\n",
       " 2.7927169799804688,\n",
       " 2.8130264282226562,\n",
       " 2.727272152900696,\n",
       " 2.7997788190841675,\n",
       " 2.7751193046569824,\n",
       " 2.8854958415031433,\n",
       " 2.776165544986725,\n",
       " 2.7747356295585632,\n",
       " 2.7611727714538574,\n",
       " 2.7556750774383545,\n",
       " 2.7808082699775696,\n",
       " 2.7982007265090942,\n",
       " 2.8185027837753296,\n",
       " 2.8509026765823364,\n",
       " 2.6865963339805603,\n",
       " 2.7906283140182495,\n",
       " 2.861437678337097,\n",
       " 2.819202184677124,\n",
       " 2.8308058381080627,\n",
       " 2.790455162525177,\n",
       " 2.8514052033424377,\n",
       " 2.7703830003738403,\n",
       " 2.8236067295074463,\n",
       " 2.797382950782776,\n",
       " 2.8976417779922485,\n",
       " 2.893730103969574,\n",
       " 2.8474294543266296,\n",
       " 2.8423686027526855,\n",
       " 2.8144007325172424,\n",
       " 2.7806719541549683,\n",
       " 2.8141483664512634,\n",
       " 2.766612708568573,\n",
       " 2.78656667470932,\n",
       " 2.7614678740501404,\n",
       " 2.825299084186554,\n",
       " 2.8232646584510803,\n",
       " 2.7242754101753235,\n",
       " 2.8187859654426575,\n",
       " 2.8235859870910645,\n",
       " 2.798602879047394,\n",
       " 2.8081189393997192,\n",
       " 2.7186479568481445,\n",
       " 2.960249960422516,\n",
       " 2.865610420703888,\n",
       " 2.7548142671585083,\n",
       " 2.8501240611076355,\n",
       " 2.9170098900794983,\n",
       " 2.8433759808540344,\n",
       " 2.718998432159424,\n",
       " 2.7928492426872253,\n",
       " 2.7774535417556763,\n",
       " 2.7280142307281494,\n",
       " 2.7339996695518494,\n",
       " 2.868584990501404,\n",
       " 2.8182283639907837,\n",
       " 2.7642431259155273,\n",
       " 2.766891658306122,\n",
       " 2.7459765672683716,\n",
       " 2.9867124557495117,\n",
       " 2.795083463191986,\n",
       " 2.8544397950172424,\n",
       " 2.8168907165527344,\n",
       " 2.787403643131256,\n",
       " 2.7469324469566345,\n",
       " 2.6818674206733704,\n",
       " 2.7849923968315125,\n",
       " 2.7668188214302063,\n",
       " 2.760368049144745,\n",
       " 2.780933916568756,\n",
       " 2.765539228916168,\n",
       " 2.8409525752067566,\n",
       " 2.672043800354004,\n",
       " 2.670338451862335,\n",
       " 2.796111285686493,\n",
       " 2.7641867995262146,\n",
       " 2.7411205768585205,\n",
       " 2.7963679432868958,\n",
       " 2.732755482196808,\n",
       " 2.8908165097236633,\n",
       " 2.7552362084388733,\n",
       " 2.7103782892227173,\n",
       " 2.7150603532791138,\n",
       " 2.7037786841392517,\n",
       " 2.696467638015747,\n",
       " 2.7655149102211,\n",
       " 2.795125961303711,\n",
       " 2.7625269293785095,\n",
       " 2.7757524847984314,\n",
       " 2.749749183654785,\n",
       " 2.888538420200348,\n",
       " 2.813638746738434,\n",
       " 2.733848512172699,\n",
       " 2.8424704670906067,\n",
       " 2.863042652606964,\n",
       " 2.8374639749526978,\n",
       " 2.8155215978622437,\n",
       " 2.7732415199279785,\n",
       " 2.7664210200309753,\n",
       " 2.7579054832458496,\n",
       " 2.7634997367858887,\n",
       " 2.8633769750595093,\n",
       " 2.7810924649238586,\n",
       " 2.767594277858734,\n",
       " 2.7766368985176086,\n",
       " 2.723522126674652,\n",
       " 2.786714792251587,\n",
       " 2.7961443066596985,\n",
       " 2.7059985995292664,\n",
       " 2.7845927476882935,\n",
       " 2.835142731666565,\n",
       " 2.734528064727783,\n",
       " 2.8309582471847534,\n",
       " 2.91114342212677,\n",
       " 2.7840012311935425,\n",
       " 2.883944809436798,\n",
       " 2.8510366678237915,\n",
       " 2.754179298877716,\n",
       " 2.7884090542793274,\n",
       " 2.820891559123993,\n",
       " 2.805375635623932,\n",
       " 2.762305498123169,\n",
       " 2.7645548582077026,\n",
       " 2.796160876750946,\n",
       " 2.8680127263069153,\n",
       " 2.8521634340286255,\n",
       " 2.775802195072174,\n",
       " 2.79269278049469,\n",
       " 2.8407707810401917,\n",
       " 2.780520737171173,\n",
       " 2.8395129442214966,\n",
       " 2.8830586671829224,\n",
       " 2.80129474401474,\n",
       " 2.8413150906562805,\n",
       " 2.885626971721649,\n",
       " 2.7912649512290955,\n",
       " 2.7821491360664368]"
      ]
     },
     "execution_count": 32,
     "metadata": {},
     "output_type": "execute_result"
    }
   ],
   "source": [
    "# Saving the validation logs at each fold\n",
    "num_epochs = 500\n",
    "all_mae_histories = []\n",
    "for i in range(k):\n",
    "    print('processing fold #', i)\n",
    "    val_data = train_data[i * num_val_samples: (i + 1) * num_val_samples]\n",
    "    val_targets = train_targets[i * num_val_samples: (i + 1) * num_val_samples]\n",
    "\n",
    "    partial_train_data = np.concatenate([train_data[:i * num_val_samples], train_data[(i + 1) * num_val_samples:]], axis=0)\n",
    "    partial_train_targets = np.concatenate([train_targets[:i * num_val_samples], train_targets[(i + 1) * num_val_samples:]], axis=0)\n",
    "    \n",
    "    model = build_model()\n",
    "    history = model.fit(partial_train_data, partial_train_targets, validation_data=(val_data, val_targets), epochs=num_epochs, batch_size=1, verbose=0)\n",
    "    mae_history = history.history['val_mae']\n",
    "    all_mae_histories.append(mae_history)\n",
    "\n",
    "average_mae_history = [np.mean([x[i] for x in all_mae_histories]) for i in range(num_epochs)]"
   ]
  },
  {
   "cell_type": "code",
   "execution_count": 33,
   "id": "185f357f-a577-4c53-95d8-923e76e715ad",
   "metadata": {},
   "outputs": [
    {
     "data": {
      "image/png": "[encoded data removed]",
      "text/plain": [
       "<Figure size 432x288 with 1 Axes>"
      ]
     },
     "metadata": {
      "needs_background": "light"
     },
     "output_type": "display_data"
    }
   ],
   "source": [
    "plt.plot(range(1, len(average_mae_history) + 1), average_mae_history)\n",
    "plt.xlabel('Epochs')\n",
    "plt.ylabel('Validation MAE')\n",
    "plt.show()"
   ]
  },
  {
   "cell_type": "code",
   "execution_count": 34,
   "id": "b03f6d32-cb7e-4129-a54f-ddee8fffc1af",
   "metadata": {},
   "outputs": [
    {
     "data": {
      "image/png": "[encoded data removed]",
      "text/plain": [
       "<Figure size 432x288 with 1 Axes>"
      ]
     },
     "metadata": {
      "needs_background": "light"
     },
     "output_type": "display_data"
    }
   ],
   "source": [
    "# Plotting validation scores, excluding the first 10 data points\n",
    "def smooth_curve(points, factor=0.9):\n",
    "    smoothed_points = []\n",
    "    for point in points:\n",
    "        if smoothed_points:\n",
    "            previous = smoothed_points[-1]\n",
    "            smoothed_points.append(previous * factor + point * (1 - factor))\n",
    "        else:\n",
    "            smoothed_points.append(point)\n",
    "    return smoothed_points\n",
    "\n",
    "smooth_mae_history = smooth_curve(average_mae_history[10:])\n",
    "plt.plot(range(1, len(smooth_mae_history) + 1), smooth_mae_history)\n",
    "plt.xlabel('Epochs')\n",
    "plt.ylabel('Validation MAE')\n",
    "plt.show()"
   ]
  },
  {
   "cell_type": "code",
   "execution_count": 35,
   "id": "1f868c56-3199-499d-9294-27082b4ff45f",
   "metadata": {},
   "outputs": [
    {
     "name": "stdout",
     "output_type": "stream",
     "text": [
      "4/4 [==============================] - 0s 3ms/step - loss: 18.7276 - mae: 2.7493\n"
     ]
    },
    {
     "data": {
      "text/plain": [
       "2.749293088912964"
      ]
     },
     "execution_count": 35,
     "metadata": {},
     "output_type": "execute_result"
    }
   ],
   "source": [
    "# Running a fresh model with 80 \n",
    "model = build_model()\n",
    "model.fit(train_data, train_targets,epochs=80, batch_size=16, verbose=0)\n",
    "test_mse_score, test_mae_score = model.evaluate(test_data, test_targets)\n",
    "test_mae_score"
   ]
  },
  {
   "cell_type": "markdown",
   "id": "d09fef65-4504-4f27-90f0-5ed360757391",
   "metadata": {},
   "source": [
    "Currently, the best mae score is 2.750, which means the model is off by $2,750."
   ]
  },
  {
   "cell_type": "code",
   "execution_count": null,
   "id": "f6a9fbf9-2f28-47e7-8467-05dc9c49f77d",
   "metadata": {},
   "outputs": [],
   "source": []
  }
 ],
 "metadata": {
  "kernelspec": {
   "display_name": "Python 3 (ipykernel)",
   "language": "python",
   "name": "python3"
  },
  "language_info": {
   "codemirror_mode": {
    "name": "ipython",
    "version": 3
   },
   "file_extension": ".py",
   "mimetype": "text/x-python",
   "name": "python",
   "nbconvert_exporter": "python",
   "pygments_lexer": "ipython3",
   "version": "3.9.12"
  }
 },
 "nbformat": 4,
 "nbformat_minor": 5
}
