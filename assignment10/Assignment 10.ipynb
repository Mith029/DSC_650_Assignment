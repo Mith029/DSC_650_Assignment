{
 "cells": [
  {
   "cell_type": "markdown",
   "id": "30ffc2e2-6581-41e4-9c3c-d57faca1b826",
   "metadata": {},
   "source": [
    "## 10.1.a"
   ]
  },
  {
   "cell_type": "code",
   "execution_count": 2,
   "id": "cdf46211-bdc1-445e-b65a-4bb4b3d8dd64",
   "metadata": {},
   "outputs": [
    {
     "name": "stdout",
     "output_type": "stream",
     "text": [
      "['of', 'Research', 'determined', 'laughter', 'reason', 'has', 'accident', 'Thats', 'an', 'is', 'the', '70']\n"
     ]
    }
   ],
   "source": [
    "import re\n",
    "\n",
    "# function to tokenize text\n",
    "def tokenize(sentence):\n",
    "    text = re.sub('[^A-Za-z0-9 ]+', '', sentence)\n",
    "    tokens = list(set(text.split(\" \")))\n",
    "    return tokens\n",
    "\n",
    "test_str = \"Research has determined 70% of #laughter is an accident. That's the reason!\"\n",
    "print(tokenize(test_str))"
   ]
  },
  {
   "cell_type": "markdown",
   "id": "0392f4e0-2a06-4172-a3f6-407809bfc90e",
   "metadata": {},
   "source": [
    "## 10.1.b"
   ]
  },
  {
   "cell_type": "code",
   "execution_count": 3,
   "id": "1f5f88bb-79da-41e4-8505-b09937937fbe",
   "metadata": {},
   "outputs": [
    {
     "name": "stdout",
     "output_type": "stream",
     "text": [
      "['of Research determined', 'Research determined laughter', 'determined laughter reason', 'laughter reason has', 'reason has accident', 'has accident Thats', 'accident Thats an', 'Thats an is', 'an is the', 'is the 70']\n"
     ]
    }
   ],
   "source": [
    "tokens = tokenize(test_str)\n",
    "\n",
    "# function to splits tokens into N-grams\n",
    "def ngram(tokens, n):\n",
    "    ngrams = []\n",
    "    for i in range(len(tokens) - n + 1):\n",
    "        ngrams.append(' '.join(tokens[i:i+n]))\n",
    "    return ngrams\n",
    "            \n",
    "print(ngram(tokens,3))"
   ]
  },
  {
   "cell_type": "markdown",
   "id": "67411356-2eb5-4be8-a103-d2709da6adfc",
   "metadata": {},
   "source": [
    "## 10.1.c"
   ]
  },
  {
   "cell_type": "code",
   "execution_count": 4,
   "id": "9a29d42c-3ba6-4975-bff3-b053f371cdc6",
   "metadata": {},
   "outputs": [
    {
     "data": {
      "text/plain": [
       "[[1, 0, 0, 0, 0, 0, 0, 0, 0, 0, 0, 0],\n",
       " [0, 1, 0, 0, 0, 0, 0, 0, 0, 0, 0, 0],\n",
       " [0, 0, 1, 0, 0, 0, 0, 0, 0, 0, 0, 0],\n",
       " [0, 0, 0, 1, 0, 0, 0, 0, 0, 0, 0, 0],\n",
       " [0, 0, 0, 0, 1, 0, 0, 0, 0, 0, 0, 0],\n",
       " [0, 0, 0, 0, 0, 1, 0, 0, 0, 0, 0, 0],\n",
       " [0, 0, 0, 0, 0, 0, 1, 0, 0, 0, 0, 0],\n",
       " [0, 0, 0, 0, 0, 0, 0, 1, 0, 0, 0, 0],\n",
       " [0, 0, 0, 0, 0, 0, 0, 0, 1, 0, 0, 0],\n",
       " [0, 0, 0, 0, 0, 0, 0, 0, 0, 1, 0, 0],\n",
       " [0, 0, 0, 0, 0, 0, 0, 0, 0, 0, 1, 0],\n",
       " [0, 0, 0, 0, 0, 0, 0, 0, 0, 0, 0, 1]]"
      ]
     },
     "execution_count": 4,
     "metadata": {},
     "output_type": "execute_result"
    }
   ],
   "source": [
    "tokens = tokenize(test_str)\n",
    "\n",
    "# function to create a vector from a numerical vector from a list of tokens.\n",
    "def one_hot_encode(tokens, num_words):\n",
    "    token_index = {}\n",
    "    results = []\n",
    "    \n",
    "    for i in range(len(tokens)):\n",
    "        if tokens[i] not in token_index:\n",
    "            token_index[tokens[i]] = i\n",
    "        encoded = [0]*num_words\n",
    "        encoded[token_index[tokens[i]]] = 1 \n",
    "        results.append(encoded)\n",
    "    return results\n",
    "\n",
    "one_hot_encode(tokens, 12) "
   ]
  },
  {
   "cell_type": "code",
   "execution_count": null,
   "id": "b26bbfa7-1fb1-4498-a0e4-43f827c51aac",
   "metadata": {},
   "outputs": [],
   "source": []
  },
  {
   "cell_type": "markdown",
   "id": "f84e4202-aab8-49f4-b6e5-8a4ca426166f",
   "metadata": {},
   "source": [
    "## 10.2 Word Embedding"
   ]
  },
  {
   "cell_type": "code",
   "execution_count": 1,
   "id": "69e9abfd-18e3-442b-8ef5-4d88cac3b5e3",
   "metadata": {},
   "outputs": [],
   "source": [
    "from pathlib import Path\n",
    "import os\n",
    "import pandas as pd\n",
    "\n",
    "\n",
    "# Setting dataframe path \n",
    "imdb_path = os.path.abspath('/Users/mithilpatel/Desktop/DSC_650/data/external/imdb/aclImdb/')"
   ]
  },
  {
   "cell_type": "code",
   "execution_count": 2,
   "id": "968c58c8-06cf-4891-9888-c95f13d02a8c",
   "metadata": {},
   "outputs": [
    {
     "data": {
      "text/html": [
       "<div>\n",
       "<style scoped>\n",
       "    .dataframe tbody tr th:only-of-type {\n",
       "        vertical-align: middle;\n",
       "    }\n",
       "\n",
       "    .dataframe tbody tr th {\n",
       "        vertical-align: top;\n",
       "    }\n",
       "\n",
       "    .dataframe thead th {\n",
       "        text-align: right;\n",
       "    }\n",
       "</style>\n",
       "<table border=\"1\" class=\"dataframe\">\n",
       "  <thead>\n",
       "    <tr style=\"text-align: right;\">\n",
       "      <th></th>\n",
       "      <th>text</th>\n",
       "      <th>review</th>\n",
       "    </tr>\n",
       "  </thead>\n",
       "  <tbody>\n",
       "    <tr>\n",
       "      <th>0</th>\n",
       "      <td>Great little thriller. I was expecting some ty...</td>\n",
       "      <td>1</td>\n",
       "    </tr>\n",
       "    <tr>\n",
       "      <th>1</th>\n",
       "      <td>Nothing could have saved this movie, not even ...</td>\n",
       "      <td>0</td>\n",
       "    </tr>\n",
       "    <tr>\n",
       "      <th>2</th>\n",
       "      <td>This was a good movie. It wasn't your typical ...</td>\n",
       "      <td>1</td>\n",
       "    </tr>\n",
       "    <tr>\n",
       "      <th>3</th>\n",
       "      <td>From the pen of Richard Condon (The Manchurian...</td>\n",
       "      <td>0</td>\n",
       "    </tr>\n",
       "    <tr>\n",
       "      <th>4</th>\n",
       "      <td>I suppose that today this film has relevance b...</td>\n",
       "      <td>0</td>\n",
       "    </tr>\n",
       "    <tr>\n",
       "      <th>5</th>\n",
       "      <td>Some guys think that sniper is not good becaus...</td>\n",
       "      <td>1</td>\n",
       "    </tr>\n",
       "    <tr>\n",
       "      <th>6</th>\n",
       "      <td>Che: Part One was a fascinating experiment, wh...</td>\n",
       "      <td>1</td>\n",
       "    </tr>\n",
       "    <tr>\n",
       "      <th>7</th>\n",
       "      <td>I found Horrorvision almost unwatchable. While...</td>\n",
       "      <td>0</td>\n",
       "    </tr>\n",
       "    <tr>\n",
       "      <th>8</th>\n",
       "      <td>I really enjoyed this movie. It succeeded in d...</td>\n",
       "      <td>1</td>\n",
       "    </tr>\n",
       "    <tr>\n",
       "      <th>9</th>\n",
       "      <td>Eric Rohmer's \"The Lady and the Duke\". could h...</td>\n",
       "      <td>1</td>\n",
       "    </tr>\n",
       "  </tbody>\n",
       "</table>\n",
       "</div>"
      ],
      "text/plain": [
       "                                                text  review\n",
       "0  Great little thriller. I was expecting some ty...       1\n",
       "1  Nothing could have saved this movie, not even ...       0\n",
       "2  This was a good movie. It wasn't your typical ...       1\n",
       "3  From the pen of Richard Condon (The Manchurian...       0\n",
       "4  I suppose that today this film has relevance b...       0\n",
       "5  Some guys think that sniper is not good becaus...       1\n",
       "6  Che: Part One was a fascinating experiment, wh...       1\n",
       "7  I found Horrorvision almost unwatchable. While...       0\n",
       "8  I really enjoyed this movie. It succeeded in d...       1\n",
       "9  Eric Rohmer's \"The Lady and the Duke\". could h...       1"
      ]
     },
     "execution_count": 2,
     "metadata": {},
     "output_type": "execute_result"
    }
   ],
   "source": [
    "# Importing train dataset and converting to a pandas dataframe \n",
    "pos_train_path = str(Path(imdb_path).joinpath('train/pos'))\n",
    "neg_train_path = str(Path(imdb_path).joinpath('train/neg'))\n",
    "\n",
    "# Function to read data from each files \n",
    "def text_to_frame(folder_path):\n",
    "    # Get a list of all subdirectories within the main folder\n",
    "    file_content = []\n",
    "\n",
    "    for file_name in os.listdir(folder_path):\n",
    "        file_path = os.path.join(folder_path, file_name)\n",
    "        \n",
    "        if os.path.isfile(file_path):\n",
    "            with open(file_path, 'r') as f:\n",
    "                content = f.read()\n",
    "            file_content.append(content)\n",
    "\n",
    "    return file_content\n",
    "\n",
    "# Creating a dataframe with text and review \n",
    "df_pos = pd.DataFrame({'text': text_to_frame(pos_train_path), 'review': [1] * len(text_to_frame(pos_train_path))})\n",
    "df_neg = pd.DataFrame({'text': text_to_frame(neg_train_path), 'review': [0] * len(text_to_frame(neg_train_path))})\n",
    "\n",
    "# merging both dataframe\n",
    "df_train = pd.concat([df_pos, df_neg], ignore_index=True)\n",
    "df_train = df_train.sample(frac=1, random_state=42).reset_index(drop=True)\n",
    "df_train.head(10)"
   ]
  },
  {
   "cell_type": "code",
   "execution_count": 3,
   "id": "eadeecb2-e2b8-41ea-b04f-a8da2c1e15fc",
   "metadata": {},
   "outputs": [
    {
     "data": {
      "text/html": [
       "<div>\n",
       "<style scoped>\n",
       "    .dataframe tbody tr th:only-of-type {\n",
       "        vertical-align: middle;\n",
       "    }\n",
       "\n",
       "    .dataframe tbody tr th {\n",
       "        vertical-align: top;\n",
       "    }\n",
       "\n",
       "    .dataframe thead th {\n",
       "        text-align: right;\n",
       "    }\n",
       "</style>\n",
       "<table border=\"1\" class=\"dataframe\">\n",
       "  <thead>\n",
       "    <tr style=\"text-align: right;\">\n",
       "      <th></th>\n",
       "      <th>text</th>\n",
       "      <th>review</th>\n",
       "    </tr>\n",
       "  </thead>\n",
       "  <tbody>\n",
       "    <tr>\n",
       "      <th>0</th>\n",
       "      <td>Yul Brynner was a symbol of villein in the tin...</td>\n",
       "      <td>1</td>\n",
       "    </tr>\n",
       "    <tr>\n",
       "      <th>1</th>\n",
       "      <td>This show has been performed live around the c...</td>\n",
       "      <td>0</td>\n",
       "    </tr>\n",
       "    <tr>\n",
       "      <th>2</th>\n",
       "      <td>To sum this story up in a few sentences: A tee...</td>\n",
       "      <td>1</td>\n",
       "    </tr>\n",
       "    <tr>\n",
       "      <th>3</th>\n",
       "      <td>This is absolutely beyond question the worst m...</td>\n",
       "      <td>0</td>\n",
       "    </tr>\n",
       "    <tr>\n",
       "      <th>4</th>\n",
       "      <td>A box with a button provides a couple with the...</td>\n",
       "      <td>0</td>\n",
       "    </tr>\n",
       "    <tr>\n",
       "      <th>5</th>\n",
       "      <td>First off let me say that this is probably in ...</td>\n",
       "      <td>1</td>\n",
       "    </tr>\n",
       "    <tr>\n",
       "      <th>6</th>\n",
       "      <td>Albert Finney and Tom Courtenay are brilliant ...</td>\n",
       "      <td>1</td>\n",
       "    </tr>\n",
       "    <tr>\n",
       "      <th>7</th>\n",
       "      <td>I don't know about the rest of the viewers of ...</td>\n",
       "      <td>0</td>\n",
       "    </tr>\n",
       "    <tr>\n",
       "      <th>8</th>\n",
       "      <td>Sick of the current cinema output, particularl...</td>\n",
       "      <td>1</td>\n",
       "    </tr>\n",
       "    <tr>\n",
       "      <th>9</th>\n",
       "      <td>This movie is beautiful in all ways. It is vis...</td>\n",
       "      <td>1</td>\n",
       "    </tr>\n",
       "  </tbody>\n",
       "</table>\n",
       "</div>"
      ],
      "text/plain": [
       "                                                text  review\n",
       "0  Yul Brynner was a symbol of villein in the tin...       1\n",
       "1  This show has been performed live around the c...       0\n",
       "2  To sum this story up in a few sentences: A tee...       1\n",
       "3  This is absolutely beyond question the worst m...       0\n",
       "4  A box with a button provides a couple with the...       0\n",
       "5  First off let me say that this is probably in ...       1\n",
       "6  Albert Finney and Tom Courtenay are brilliant ...       1\n",
       "7  I don't know about the rest of the viewers of ...       0\n",
       "8  Sick of the current cinema output, particularl...       1\n",
       "9  This movie is beautiful in all ways. It is vis...       1"
      ]
     },
     "execution_count": 3,
     "metadata": {},
     "output_type": "execute_result"
    }
   ],
   "source": [
    "# Importing test dataset and converting to a pandas dataframe \n",
    "pos_test_path = str(Path(imdb_path).joinpath('test/pos'))\n",
    "neg_test_path = str(Path(imdb_path).joinpath('test/neg'))\n",
    "\n",
    "# Creating dataframe using test dataset\n",
    "df_pos_test = pd.DataFrame({'text': text_to_frame(pos_test_path), 'review': [1] * len(text_to_frame(pos_test_path))})\n",
    "df_neg_test = pd.DataFrame({'text': text_to_frame(neg_test_path), 'review': [0] * len(text_to_frame(neg_test_path))})\n",
    "\n",
    "# merging dataframes\n",
    "df_test = pd.concat([df_pos_test, df_neg_test], ignore_index=True)\n",
    "df_test = df_test.sample(frac=1, random_state=42).reset_index(drop=True)\n",
    "df_test.head(10)"
   ]
  },
  {
   "cell_type": "code",
   "execution_count": 4,
   "id": "710ac9d9-0144-4e7b-8736-2bc09583bbbb",
   "metadata": {},
   "outputs": [],
   "source": [
    "# Splitting test set into test and validation \n",
    "test_split = int(len(df_test)*0.50)\n",
    "df_testset = df_test.iloc[:test_split,:]\n",
    "df_validation = df_test.iloc[test_split:,:]\n",
    "\n",
    "# Splitting into training and testing variables\n",
    "x_train = df_train['text']\n",
    "y_train = df_train['review']\n",
    "\n",
    "x_val = df_validation['text']\n",
    "y_val = df_validation['review']\n",
    "\n",
    "x_test = df_testset['text']\n",
    "y_test = df_testset['review']"
   ]
  },
  {
   "cell_type": "code",
   "execution_count": 5,
   "id": "b1336190-dc24-427f-838b-0bba99e66217",
   "metadata": {},
   "outputs": [
    {
     "name": "stderr",
     "output_type": "stream",
     "text": [
      "2023-05-14 13:14:18.227515: I tensorflow/core/platform/cpu_feature_guard.cc:182] This TensorFlow binary is optimized to use available CPU instructions in performance-critical operations.\n",
      "To enable the following instructions: AVX2 FMA, in other operations, rebuild TensorFlow with the appropriate compiler flags.\n"
     ]
    }
   ],
   "source": [
    "from keras.preprocessing.text import Tokenizer\n",
    "from tensorflow.keras.preprocessing.sequence import pad_sequences\n",
    "import numpy as np\n",
    "\n",
    "# Tokenizing text\n",
    "tokenizer = Tokenizer()\n",
    "tokenizer.fit_on_texts(x_train) \n",
    "\n",
    "# Convert text to sequences \n",
    "x_train = tokenizer.texts_to_sequences(x_train)  # Convert text to sequences of integers\n",
    "x_val = tokenizer.texts_to_sequences(x_val)\n",
    "x_test = tokenizer.texts_to_sequences(x_test)\n",
    "\n",
    "max_length = 100  \n",
    "\n",
    "# Apply padding to the tokenized sequences\n",
    "x_train_padded = pad_sequences(x_train, maxlen=max_length, padding='post')\n",
    "x_val_padded = pad_sequences(x_val, maxlen=max_length, padding='post')\n",
    "x_test_padded = pad_sequences(x_test, maxlen=max_length, padding='post')"
   ]
  },
  {
   "cell_type": "code",
   "execution_count": 6,
   "id": "22366feb-b7e8-416c-9de6-1235154e5f46",
   "metadata": {},
   "outputs": [
    {
     "data": {
      "text/plain": [
       "88582"
      ]
     },
     "execution_count": 6,
     "metadata": {},
     "output_type": "execute_result"
    }
   ],
   "source": [
    "len(tokenizer.word_index)"
   ]
  },
  {
   "cell_type": "code",
   "execution_count": 7,
   "id": "4106bd02-5e2d-4778-99b3-46151d47df5a",
   "metadata": {},
   "outputs": [
    {
     "name": "stdout",
     "output_type": "stream",
     "text": [
      "Epoch 1/10\n",
      "782/782 [==============================] - 36s 46ms/step - loss: 0.4373 - acc: 0.7849 - val_loss: 0.3516 - val_acc: 0.8426\n",
      "Epoch 2/10\n",
      "782/782 [==============================] - 36s 46ms/step - loss: 0.1537 - acc: 0.9439 - val_loss: 0.4660 - val_acc: 0.8122\n",
      "Epoch 3/10\n",
      "782/782 [==============================] - 38s 49ms/step - loss: 0.0175 - acc: 0.9960 - val_loss: 0.6596 - val_acc: 0.8118\n",
      "Epoch 4/10\n",
      "782/782 [==============================] - 39s 50ms/step - loss: 0.0015 - acc: 0.9998 - val_loss: 0.7687 - val_acc: 0.8236\n",
      "Epoch 5/10\n",
      "782/782 [==============================] - 40s 51ms/step - loss: 1.4540e-04 - acc: 1.0000 - val_loss: 0.8228 - val_acc: 0.8225\n",
      "Epoch 6/10\n",
      "782/782 [==============================] - 41s 53ms/step - loss: 3.2849e-05 - acc: 1.0000 - val_loss: 0.8643 - val_acc: 0.8229\n",
      "Epoch 7/10\n",
      "782/782 [==============================] - 42s 54ms/step - loss: 1.8217e-05 - acc: 1.0000 - val_loss: 0.8665 - val_acc: 0.8233\n",
      "Epoch 8/10\n",
      "782/782 [==============================] - 42s 54ms/step - loss: 1.3150e-05 - acc: 1.0000 - val_loss: 0.8797 - val_acc: 0.8230\n",
      "Epoch 9/10\n",
      "782/782 [==============================] - 40s 51ms/step - loss: 1.0162e-05 - acc: 1.0000 - val_loss: 0.8922 - val_acc: 0.8231\n",
      "Epoch 10/10\n",
      "782/782 [==============================] - 38s 49ms/step - loss: 8.6209e-06 - acc: 1.0000 - val_loss: 0.9018 - val_acc: 0.8230\n"
     ]
    }
   ],
   "source": [
    "from keras.models import Sequential\n",
    "from keras.layers import Embedding, Flatten, Dense\n",
    "\n",
    "max_words = 88582\n",
    "embedding_dim = 100\n",
    "\n",
    "model = Sequential()\n",
    "model.add(Embedding(max_words, embedding_dim, input_length= max_length))\n",
    "model.add(Flatten())\n",
    "model.add(Dense(32, activation='relu'))\n",
    "model.add(Dense(1, activation='sigmoid'))\n",
    "model.summary()\n",
    "model.compile(optimizer='rmsprop',\n",
    "              loss='binary_crossentropy',\n",
    "              metrics=['acc'])\n",
    "\n",
    "history = model.fit(x_train_padded, y_train,\n",
    "                    epochs=10,\n",
    "                    batch_size=32,\n",
    "                    validation_data=(x_val_padded, y_val))"
   ]
  },
  {
   "cell_type": "code",
   "execution_count": 8,
   "id": "cab20801-8097-43d6-aa48-2b9e7e220a82",
   "metadata": {},
   "outputs": [
    {
     "name": "stdout",
     "output_type": "stream",
     "text": [
      "391/391 [==============================] - 1s 3ms/step - loss: 0.8909 - acc: 0.8250\n",
      "Model Accuracy: 0.8250399827957153\n"
     ]
    }
   ],
   "source": [
    "test_loss, test_acc = model.evaluate(x_test_padded, y_test)\n",
    "print(\"Model Accuracy:\", test_acc)"
   ]
  },
  {
   "cell_type": "code",
   "execution_count": 9,
   "id": "4dc241ac-94b8-4acf-b45d-63fc4560e1df",
   "metadata": {},
   "outputs": [
    {
     "data": {
      "image/png": "[encoded data removed]",
      "text/plain": [
       "<Figure size 432x288 with 1 Axes>"
      ]
     },
     "metadata": {
      "needs_background": "light"
     },
     "output_type": "display_data"
    },
    {
     "data": {
      "image/png": "[encoded data removed]",
      "text/plain": [
       "<Figure size 432x288 with 1 Axes>"
      ]
     },
     "metadata": {
      "needs_background": "light"
     },
     "output_type": "display_data"
    }
   ],
   "source": [
    "import matplotlib.pyplot as plt\n",
    "\n",
    "# Creating training and validation loss and accuracy curves\n",
    "acc = history.history['acc']\n",
    "val_acc = history.history['val_acc']\n",
    "loss = history.history['loss']\n",
    "val_loss = history.history['val_loss']\n",
    "epochs = range(1, len(acc) + 1)\n",
    "plt.plot(epochs, acc, 'bo', label='Training acc')\n",
    "plt.plot(epochs, val_acc, 'b', label='Validation acc')\n",
    "plt.title('Training and validation accuracy')\n",
    "plt.legend()\n",
    "plt.figure()\n",
    "plt.plot(epochs, loss, 'bo', label='Training loss')\n",
    "plt.plot(epochs, val_loss, 'b', label='Validation loss')\n",
    "plt.title('Training and validation loss')\n",
    "plt.legend()\n",
    "plt.show()"
   ]
  },
  {
   "cell_type": "code",
   "execution_count": null,
   "id": "b65a4312-210c-4e21-9c86-c8f34908a7fd",
   "metadata": {},
   "outputs": [],
   "source": []
  },
  {
   "cell_type": "markdown",
   "id": "bb391b3b-dd9a-4bd7-a3bf-bb9251bdd85e",
   "metadata": {},
   "source": [
    "## 10.3 LSTM layer"
   ]
  },
  {
   "cell_type": "code",
   "execution_count": 11,
   "id": "5d405eec-636b-4115-91f3-8671a1ffa908",
   "metadata": {},
   "outputs": [
    {
     "name": "stdout",
     "output_type": "stream",
     "text": [
      "Epoch 1/10\n"
     ]
    },
    {
     "name": "stderr",
     "output_type": "stream",
     "text": [
      "2023-05-14 13:38:45.413704: I tensorflow/core/common_runtime/executor.cc:1197] [/device:CPU:0] (DEBUG INFO) Executor start aborting (this does not indicate an error and you can ignore this message): INVALID_ARGUMENT: You must feed a value for placeholder tensor 'gradients/split_2_grad/concat/split_2/split_dim' with dtype int32\n",
      "\t [[{{node gradients/split_2_grad/concat/split_2/split_dim}}]]\n",
      "2023-05-14 13:38:45.416641: I tensorflow/core/common_runtime/executor.cc:1197] [/device:CPU:0] (DEBUG INFO) Executor start aborting (this does not indicate an error and you can ignore this message): INVALID_ARGUMENT: You must feed a value for placeholder tensor 'gradients/split_grad/concat/split/split_dim' with dtype int32\n",
      "\t [[{{node gradients/split_grad/concat/split/split_dim}}]]\n",
      "2023-05-14 13:38:45.419194: I tensorflow/core/common_runtime/executor.cc:1197] [/device:CPU:0] (DEBUG INFO) Executor start aborting (this does not indicate an error and you can ignore this message): INVALID_ARGUMENT: You must feed a value for placeholder tensor 'gradients/split_1_grad/concat/split_1/split_dim' with dtype int32\n",
      "\t [[{{node gradients/split_1_grad/concat/split_1/split_dim}}]]\n",
      "2023-05-14 13:38:45.883752: I tensorflow/core/common_runtime/executor.cc:1197] [/device:CPU:0] (DEBUG INFO) Executor start aborting (this does not indicate an error and you can ignore this message): INVALID_ARGUMENT: You must feed a value for placeholder tensor 'gradients/split_2_grad/concat/split_2/split_dim' with dtype int32\n",
      "\t [[{{node gradients/split_2_grad/concat/split_2/split_dim}}]]\n",
      "2023-05-14 13:38:45.887249: I tensorflow/core/common_runtime/executor.cc:1197] [/device:CPU:0] (DEBUG INFO) Executor start aborting (this does not indicate an error and you can ignore this message): INVALID_ARGUMENT: You must feed a value for placeholder tensor 'gradients/split_grad/concat/split/split_dim' with dtype int32\n",
      "\t [[{{node gradients/split_grad/concat/split/split_dim}}]]\n",
      "2023-05-14 13:38:45.889830: I tensorflow/core/common_runtime/executor.cc:1197] [/device:CPU:0] (DEBUG INFO) Executor start aborting (this does not indicate an error and you can ignore this message): INVALID_ARGUMENT: You must feed a value for placeholder tensor 'gradients/split_1_grad/concat/split_1/split_dim' with dtype int32\n",
      "\t [[{{node gradients/split_1_grad/concat/split_1/split_dim}}]]\n",
      "2023-05-14 13:38:46.933764: I tensorflow/core/common_runtime/executor.cc:1197] [/device:CPU:0] (DEBUG INFO) Executor start aborting (this does not indicate an error and you can ignore this message): INVALID_ARGUMENT: You must feed a value for placeholder tensor 'gradients/split_2_grad/concat/split_2/split_dim' with dtype int32\n",
      "\t [[{{node gradients/split_2_grad/concat/split_2/split_dim}}]]\n",
      "2023-05-14 13:38:46.937256: I tensorflow/core/common_runtime/executor.cc:1197] [/device:CPU:0] (DEBUG INFO) Executor start aborting (this does not indicate an error and you can ignore this message): INVALID_ARGUMENT: You must feed a value for placeholder tensor 'gradients/split_grad/concat/split/split_dim' with dtype int32\n",
      "\t [[{{node gradients/split_grad/concat/split/split_dim}}]]\n",
      "2023-05-14 13:38:46.939986: I tensorflow/core/common_runtime/executor.cc:1197] [/device:CPU:0] (DEBUG INFO) Executor start aborting (this does not indicate an error and you can ignore this message): INVALID_ARGUMENT: You must feed a value for placeholder tensor 'gradients/split_1_grad/concat/split_1/split_dim' with dtype int32\n",
      "\t [[{{node gradients/split_1_grad/concat/split_1/split_dim}}]]\n"
     ]
    },
    {
     "name": "stdout",
     "output_type": "stream",
     "text": [
      "782/782 [==============================] - ETA: 0s - loss: 0.4363 - acc: 0.7949"
     ]
    },
    {
     "name": "stderr",
     "output_type": "stream",
     "text": [
      "2023-05-14 13:39:45.758918: I tensorflow/core/common_runtime/executor.cc:1197] [/device:CPU:0] (DEBUG INFO) Executor start aborting (this does not indicate an error and you can ignore this message): INVALID_ARGUMENT: You must feed a value for placeholder tensor 'gradients/split_2_grad/concat/split_2/split_dim' with dtype int32\n",
      "\t [[{{node gradients/split_2_grad/concat/split_2/split_dim}}]]\n",
      "2023-05-14 13:39:45.761675: I tensorflow/core/common_runtime/executor.cc:1197] [/device:CPU:0] (DEBUG INFO) Executor start aborting (this does not indicate an error and you can ignore this message): INVALID_ARGUMENT: You must feed a value for placeholder tensor 'gradients/split_grad/concat/split/split_dim' with dtype int32\n",
      "\t [[{{node gradients/split_grad/concat/split/split_dim}}]]\n",
      "2023-05-14 13:39:45.764294: I tensorflow/core/common_runtime/executor.cc:1197] [/device:CPU:0] (DEBUG INFO) Executor start aborting (this does not indicate an error and you can ignore this message): INVALID_ARGUMENT: You must feed a value for placeholder tensor 'gradients/split_1_grad/concat/split_1/split_dim' with dtype int32\n",
      "\t [[{{node gradients/split_1_grad/concat/split_1/split_dim}}]]\n"
     ]
    },
    {
     "name": "stdout",
     "output_type": "stream",
     "text": [
      "782/782 [==============================] - 64s 79ms/step - loss: 0.4363 - acc: 0.7949 - val_loss: 0.3377 - val_acc: 0.8510\n",
      "Epoch 2/10\n",
      "782/782 [==============================] - 62s 79ms/step - loss: 0.2872 - acc: 0.8844 - val_loss: 0.4238 - val_acc: 0.8306\n",
      "Epoch 3/10\n",
      "782/782 [==============================] - 62s 80ms/step - loss: 0.2263 - acc: 0.9138 - val_loss: 0.3894 - val_acc: 0.8476\n",
      "Epoch 4/10\n",
      "782/782 [==============================] - 63s 81ms/step - loss: 0.1828 - acc: 0.9342 - val_loss: 0.4057 - val_acc: 0.8434\n",
      "Epoch 5/10\n",
      "782/782 [==============================] - 64s 82ms/step - loss: 0.1492 - acc: 0.9488 - val_loss: 0.4463 - val_acc: 0.8470\n",
      "Epoch 6/10\n",
      "782/782 [==============================] - 62s 80ms/step - loss: 0.1193 - acc: 0.9600 - val_loss: 0.4631 - val_acc: 0.8430\n",
      "Epoch 7/10\n",
      "782/782 [==============================] - 62s 79ms/step - loss: 0.0953 - acc: 0.9693 - val_loss: 0.4950 - val_acc: 0.8421\n",
      "Epoch 8/10\n",
      "782/782 [==============================] - 63s 80ms/step - loss: 0.0769 - acc: 0.9761 - val_loss: 0.5808 - val_acc: 0.8150\n",
      "Epoch 9/10\n",
      "782/782 [==============================] - 63s 81ms/step - loss: 0.0581 - acc: 0.9823 - val_loss: 0.6153 - val_acc: 0.8310\n",
      "Epoch 10/10\n",
      "782/782 [==============================] - 63s 80ms/step - loss: 0.0452 - acc: 0.9861 - val_loss: 0.6196 - val_acc: 0.8236\n",
      "391/391 [==============================] - 5s 13ms/step - loss: 0.6208 - acc: 0.8224\n",
      "Model Accuracy: 0.8223999738693237\n"
     ]
    }
   ],
   "source": [
    "import warnings\n",
    "warnings.filterwarnings(\"ignore\")\n",
    "\n",
    "from keras.layers import LSTM\n",
    "\n",
    "model = Sequential()\n",
    "model.add(Embedding(max_words, embedding_dim, input_length= max_length))\n",
    "model.add(LSTM(32)) # Adding LSTM layer\n",
    "model.add(Dense(1, activation='sigmoid'))\n",
    "model.compile(optimizer='rmsprop',\n",
    "              loss='binary_crossentropy',\n",
    "              metrics=['acc'])\n",
    "\n",
    "history = model.fit(x_train_padded, y_train,\n",
    "                    epochs=10,\n",
    "                    batch_size=32,\n",
    "                    validation_data=(x_val_padded, y_val))\n",
    "\n",
    "test_loss, test_acc = model.evaluate(x_test_padded, y_test)\n",
    "print(\"Model Accuracy:\", test_acc)"
   ]
  },
  {
   "cell_type": "code",
   "execution_count": 12,
   "id": "102fa4e3-0ecf-46fb-87ad-2faf6fea43a5",
   "metadata": {},
   "outputs": [
    {
     "data": {
      "image/png": "[encoded data removed]",
      "text/plain": [
       "<Figure size 432x288 with 1 Axes>"
      ]
     },
     "metadata": {
      "needs_background": "light"
     },
     "output_type": "display_data"
    },
    {
     "data": {
      "image/png": "[encoded data removed]",
      "text/plain": [
       "<Figure size 432x288 with 1 Axes>"
      ]
     },
     "metadata": {
      "needs_background": "light"
     },
     "output_type": "display_data"
    }
   ],
   "source": [
    "import matplotlib.pyplot as plt\n",
    "\n",
    "# Creating training and validation loss and accuracy curves\n",
    "acc = history.history['acc']\n",
    "val_acc = history.history['val_acc']\n",
    "loss = history.history['loss']\n",
    "val_loss = history.history['val_loss']\n",
    "epochs = range(1, len(acc) + 1)\n",
    "plt.plot(epochs, acc, 'bo', label='Training acc')\n",
    "plt.plot(epochs, val_acc, 'b', label='Validation acc')\n",
    "plt.title('Training and validation accuracy')\n",
    "plt.legend()\n",
    "plt.figure()\n",
    "plt.plot(epochs, loss, 'bo', label='Training loss')\n",
    "plt.plot(epochs, val_loss, 'b', label='Validation loss')\n",
    "plt.title('Training and validation loss')\n",
    "plt.legend()\n",
    "plt.show()"
   ]
  },
  {
   "cell_type": "code",
   "execution_count": null,
   "id": "b593ce00-c847-42bf-9557-95c8f269be90",
   "metadata": {},
   "outputs": [],
   "source": []
  },
  {
   "cell_type": "markdown",
   "id": "e5148df7-5784-40be-85cf-a1a14a187a25",
   "metadata": {},
   "source": [
    "## 10.4 1D Convnet"
   ]
  },
  {
   "cell_type": "code",
   "execution_count": 13,
   "id": "911348f3-b29f-474d-a98a-55306a4ba478",
   "metadata": {},
   "outputs": [
    {
     "name": "stdout",
     "output_type": "stream",
     "text": [
      "Epoch 1/10\n",
      "782/782 [==============================] - 43s 54ms/step - loss: 0.7280 - acc: 0.5778 - val_loss: 0.6518 - val_acc: 0.6628\n",
      "Epoch 2/10\n",
      "782/782 [==============================] - 42s 54ms/step - loss: 0.5574 - acc: 0.7474 - val_loss: 0.5046 - val_acc: 0.7734\n",
      "Epoch 3/10\n",
      "782/782 [==============================] - 42s 54ms/step - loss: 0.4284 - acc: 0.8252 - val_loss: 0.4924 - val_acc: 0.8037\n",
      "Epoch 4/10\n",
      "782/782 [==============================] - 43s 55ms/step - loss: 0.3702 - acc: 0.8602 - val_loss: 0.5104 - val_acc: 0.8178\n",
      "Epoch 5/10\n",
      "782/782 [==============================] - 44s 56ms/step - loss: 0.3470 - acc: 0.8806 - val_loss: 0.5490 - val_acc: 0.8240\n",
      "Epoch 6/10\n",
      "782/782 [==============================] - 42s 53ms/step - loss: 0.3151 - acc: 0.8965 - val_loss: 0.5841 - val_acc: 0.8265\n",
      "Epoch 7/10\n",
      "782/782 [==============================] - 41s 53ms/step - loss: 0.2827 - acc: 0.9112 - val_loss: 0.6394 - val_acc: 0.8259\n",
      "Epoch 8/10\n",
      "782/782 [==============================] - 42s 54ms/step - loss: 0.2559 - acc: 0.9257 - val_loss: 0.7134 - val_acc: 0.8259\n",
      "Epoch 9/10\n",
      "782/782 [==============================] - 43s 55ms/step - loss: 0.2278 - acc: 0.9392 - val_loss: 0.7402 - val_acc: 0.8247\n",
      "Epoch 10/10\n",
      "782/782 [==============================] - 42s 54ms/step - loss: 0.2040 - acc: 0.9496 - val_loss: 0.8100 - val_acc: 0.8216\n",
      "391/391 [==============================] - 2s 5ms/step - loss: 0.8159 - acc: 0.8208\n",
      "Model Accuracy: 0.8208000063896179\n"
     ]
    }
   ],
   "source": [
    "from keras.optimizers import RMSprop\n",
    "from keras import layers\n",
    "\n",
    "model = Sequential()\n",
    "model.add(Embedding(max_words, embedding_dim, input_length= max_length))\n",
    "model.add(layers.Conv1D(32, 7, activation='relu')) # Adding 1D Convnet layer\n",
    "model.add(layers.MaxPooling1D(5))\n",
    "model.add(layers.Conv1D(32, 7, activation='relu')) # Adding 1D Convnet layer\n",
    "model.add(layers.GlobalMaxPooling1D())\n",
    "model.add(layers.Dense(1))\n",
    "\n",
    "model.compile(optimizer=RMSprop(lr=1e-4),\n",
    "              loss='binary_crossentropy',\n",
    "              metrics=['acc'])\n",
    "\n",
    "history = model.fit(x_train_padded, y_train,\n",
    "                    epochs=10,\n",
    "                    batch_size=32,\n",
    "                    validation_data=(x_val_padded, y_val))\n",
    "\n",
    "test_loss, test_acc = model.evaluate(x_test_padded, y_test)\n",
    "print(\"Model Accuracy:\", test_acc)"
   ]
  },
  {
   "cell_type": "code",
   "execution_count": 14,
   "id": "4e8bd14d-c834-4432-bc7a-eded3eaeec6d",
   "metadata": {},
   "outputs": [
    {
     "data": {
      "image/png": "[encoded data removed]",
      "text/plain": [
       "<Figure size 432x288 with 1 Axes>"
      ]
     },
     "metadata": {
      "needs_background": "light"
     },
     "output_type": "display_data"
    },
    {
     "data": {
      "image/png": "[encoded data removed]",
      "text/plain": [
       "<Figure size 432x288 with 1 Axes>"
      ]
     },
     "metadata": {
      "needs_background": "light"
     },
     "output_type": "display_data"
    }
   ],
   "source": [
    "import matplotlib.pyplot as plt\n",
    "\n",
    "# Creating training and validation loss and accuracy curves\n",
    "acc = history.history['acc']\n",
    "val_acc = history.history['val_acc']\n",
    "loss = history.history['loss']\n",
    "val_loss = history.history['val_loss']\n",
    "epochs = range(1, len(acc) + 1)\n",
    "plt.plot(epochs, acc, 'bo', label='Training acc')\n",
    "plt.plot(epochs, val_acc, 'b', label='Validation acc')\n",
    "plt.title('Training and validation accuracy')\n",
    "plt.legend()\n",
    "plt.figure()\n",
    "plt.plot(epochs, loss, 'bo', label='Training loss')\n",
    "plt.plot(epochs, val_loss, 'b', label='Validation loss')\n",
    "plt.title('Training and validation loss')\n",
    "plt.legend()\n",
    "plt.show()"
   ]
  },
  {
   "cell_type": "code",
   "execution_count": null,
   "id": "89e9de06-153f-438f-bb76-7d4f6d0e3a86",
   "metadata": {},
   "outputs": [],
   "source": []
  }
 ],
 "metadata": {
  "kernelspec": {
   "display_name": "Python 3 (ipykernel)",
   "language": "python",
   "name": "python3"
  },
  "language_info": {
   "codemirror_mode": {
    "name": "ipython",
    "version": 3
   },
   "file_extension": ".py",
   "mimetype": "text/x-python",
   "name": "python",
   "nbconvert_exporter": "python",
   "pygments_lexer": "ipython3",
   "version": "3.9.12"
  }
 },
 "nbformat": 4,
 "nbformat_minor": 5
}
